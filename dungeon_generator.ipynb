{
 "cells": [
  {
   "cell_type": "code",
   "execution_count": 1,
   "metadata": {},
   "outputs": [],
   "source": [
    "import numpy as np\n",
    "import pandas as pd\n",
    "import matplotlib.pyplot as plt\n",
    "import matplotlib.patches as patches\n",
    "from scipy.sparse.csgraph import connected_components, shortest_path\n",
    "from pprint import pprint\n",
    "from time import time\n",
    "\n",
    "%matplotlib inline\n",
    "\n",
    "# I know both of the below won't work haha\n",
    "# TODO: test non square dungeons\n",
    "# TODO: test square densities other than 3"
   ]
  },
  {
   "cell_type": "code",
   "execution_count": 237,
   "metadata": {
    "code_folding": [
     1,
     36,
     75,
     174,
     182,
     187,
     196,
     205,
     240,
     242,
     268,
     374,
     561,
     784,
     972,
     1024,
     1043,
     1058,
     1118,
     1164,
     1179,
     1203,
     1289,
     1292,
     1298,
     1316,
     1328,
     1335,
     1338,
     1354,
     1361,
     1362,
     1408,
     1412,
     1419,
     1438,
     1508,
     1516,
     1593,
     1601,
     1621,
     1695,
     1755,
     1791,
     1809,
     1933,
     2124,
     2266,
     2391,
     2414,
     2424,
     2430,
     2443,
     2454,
     2469
    ]
   },
   "outputs": [],
   "source": [
    "class Dungeon:\n",
    "    def __init__(self, party, m=10, n=10, p_wall=0.3, square_density=3, plot_size=10):\n",
    "        self.party = party\n",
    "        self.avg_party_level = self._avg_party_level(party)\n",
    "        \n",
    "        self.m = m\n",
    "        self.n = n\n",
    "        self.square_density = square_density\n",
    "        self.p_wall = p_wall\n",
    "        self.plot_size = plot_size\n",
    "        self.difficulty_dict = {\n",
    "            'Trivial': 0,\n",
    "            'Easy': 1,\n",
    "            'Medium': 2,\n",
    "            'Hard': 3,\n",
    "            'Deadly': 4,\n",
    "            0: 'Trivial',\n",
    "            1: 'Easy',\n",
    "            2: 'Medium',\n",
    "            3: 'Hard',\n",
    "            4: 'Deadly'\n",
    "        }\n",
    "        self.latest_direction = 's'\n",
    "        self.lost = False\n",
    "        \n",
    "        self.generate_map()\n",
    "        self.place_encounters()\n",
    "        \n",
    "        self.player_exp_df = pd.read_csv('dnd_player_exp', index_col=0)\n",
    "        self.monster_df = pd.read_csv('dnd_monsters.csv', index_col=0)\n",
    "        self.monster_df['cr'] = self.monster_df.apply(self._extract_cr, axis=1)\n",
    "        \n",
    "        self.generate_all_encounters()\n",
    "\n",
    "\n",
    "    # methods\n",
    "    def check_for_encounter(self):\n",
    "        if 'Deadly' not in self.encounter_locs:\n",
    "            return\n",
    "        \n",
    "        short_paths = shortest_path(self.C)\n",
    "        closest_encounter = 'Deadly'\n",
    "        closest_dist = short_paths[\n",
    "            self._get_ind(*self._dense_to_granular(*self.party_location)), \n",
    "            self._get_ind(*self._dense_to_granular(*self.encounter_locs['Deadly']))\n",
    "        ]\n",
    "        for diff in self.encounter_locs:\n",
    "            new_dist = short_paths[\n",
    "                self._get_ind(*self._dense_to_granular(*self.party_location)), \n",
    "                self._get_ind(*self._dense_to_granular(*self.encounter_locs[diff]))\n",
    "            ]\n",
    "            if new_dist < closest_dist:\n",
    "                closest_encounter = diff\n",
    "                closest_dist = new_dist\n",
    "        \n",
    "        if closest_dist <= 2:\n",
    "            party_i, party_j = self._dense_to_granular(*self.party_location)\n",
    "            encounter_i, encounter_j = self._dense_to_granular(*self.encounter_locs[closest_encounter])\n",
    "            \n",
    "            # number of paths to get from party to encounter in 2 steps\n",
    "            num_paths = (self.C@self.C)[\n",
    "                self._get_ind(party_i, party_j), \n",
    "                self._get_ind(encounter_i, encounter_j)\n",
    "            ]\n",
    "            \n",
    "            if (party_i == encounter_i) or (party_j == encounter_j):\n",
    "                self.run_encounter(closest_encounter)\n",
    "            \n",
    "            elif num_paths > 1:\n",
    "                self.run_encounter(closest_encounter)\n",
    "            \n",
    "            elif num_paths == 1:\n",
    "                print(closest_encounter, \":\")\n",
    "                print(self.encounters[closest_encounter])\n",
    "    \n",
    "    def generate_map(self):\n",
    "        \"\"\"\n",
    "        Given dimensions m and n, generate a dungeon map.\n",
    "\n",
    "        Parameters\n",
    "        ----------\n",
    "        m, n:  int\n",
    "            Integers representing the dimensions of the dungeon.\n",
    "\n",
    "        p_wall:  float, optional\n",
    "            Float between 0 and 1, specifies the density of\n",
    "            walls within the dungeon.\n",
    "        \n",
    "\n",
    "        Returns\n",
    "        -------\n",
    "        A:  numpy array\n",
    "            Array representing the vertical walls within the \n",
    "            dungeon. If A[i, j] is 1, there is a wall at i, j.\n",
    "            A is m x n-1.\n",
    "\n",
    "        B:  numpy array\n",
    "            Array representing the horizontal walls within the \n",
    "            dungeon. If B[i, j] is 1, there is a wall at i, j.\n",
    "            B is m-1 x n.\n",
    "\n",
    "        C:  numpy array\n",
    "            Undirected adjacency matrix for the dungeon. C[i, j]\n",
    "            is 1 if the jth square is adjacent to the ith square.\n",
    "            Used to determine connected components.\n",
    "            C is m*n x m*n.\n",
    "\n",
    "        \"\"\"\n",
    "        m = self.m\n",
    "        n = self.n\n",
    "        p_wall = self.p_wall\n",
    "        \n",
    "        def _adjacency(A, B):\n",
    "            \"\"\"\n",
    "            Helper function to determine the adjacency matrix\n",
    "            C from wall matrices A and B.\n",
    "            \"\"\"\n",
    "            m, n = A.shape[0], B.shape[1]\n",
    "            C = np.zeros((m*n, m*n))  # C is m*n x m*n\n",
    "\n",
    "            def _get_i_j(ind):\n",
    "                \"\"\"\n",
    "                Helper function to get the i, j index of a \n",
    "                square within the grid given its index in C.\n",
    "                \"\"\"\n",
    "                i = ind // n\n",
    "                j = ind % n\n",
    "                return i, j\n",
    "\n",
    "            def _get_ind(i, j):\n",
    "                \"\"\"\n",
    "                Helper function to get the index in C given\n",
    "                a square's i, j index within the grid.\n",
    "                \"\"\"\n",
    "                return i*n + j\n",
    "\n",
    "            # loop over all squares in the grid\n",
    "            for ind in range(m*n):\n",
    "                i, j = _get_i_j(ind)\n",
    "\n",
    "                if i != 0:  # look up\n",
    "                    if B[i-1, j] == 0:  # check for walls\n",
    "                        C[ind, _get_ind(i-1, j)] = 1\n",
    "\n",
    "                if i != m-1:  # look down\n",
    "                    if B[i, j] == 0:  # check for walls\n",
    "                        C[ind, _get_ind(i+1, j)] = 1\n",
    "\n",
    "                if j != 0:  # look left\n",
    "                    if A[i, j-1] == 0:  # check for walls\n",
    "                        C[ind, _get_ind(i, j-1)] = 1\n",
    "\n",
    "                if j != n-1:  # look right\n",
    "                    if A[i, j] == 0:  # check for walls\n",
    "                        C[ind, _get_ind(i, j+1)] = 1\n",
    "\n",
    "            return C + np.eye(m*n)\n",
    "\n",
    "        # get random wall matrices using p_wall\n",
    "        A = np.random.choice(2, size=(m, n-1), p=[1-p_wall, p_wall])\n",
    "        B = np.random.choice(2, size=(m-1, n), p=[1-p_wall, p_wall])\n",
    "        C = _adjacency(A, B)\n",
    "\n",
    "        # loop until connected components condition is satisfied\n",
    "        # TODO: add either a maxiter or a timeout\n",
    "        while connected_components(C)[0] > 1:\n",
    "            A = np.random.choice(2, size=(m, n-1), p=[1-p_wall, p_wall])\n",
    "            B = np.random.choice(2, size=(m-1, n), p=[1-p_wall, p_wall])\n",
    "            C = _adjacency(A, B)\n",
    "        \n",
    "        self.A = A  # vertical walls\n",
    "        self.B = B  # horizontal walls\n",
    "        self.C = C  # adjacency matrix\n",
    "    \n",
    "    def generate_all_encounters(self):\n",
    "        self.encounters = {\n",
    "            'Deadly': self.generate_encounter('Deadly'),\n",
    "            'Hard': self.generate_encounter('Hard'),\n",
    "            'Medium': self.generate_encounter('Medium'),\n",
    "            'Easy': self.generate_encounter('Easy')\n",
    "        }\n",
    "    \n",
    "    def generate_encounter(self, difficulty):\n",
    "        party = self.party\n",
    "\n",
    "        difficulty = self.difficulty_dict[difficulty]\n",
    "\n",
    "        def _cr_threshold(row):\n",
    "            cr = row['cr']\n",
    "            if pd.isna(cr):\n",
    "                return False\n",
    "            elif cr <= self.avg_party_level:\n",
    "                return True\n",
    "            else:\n",
    "                return False\n",
    "\n",
    "        def _max_monsters(monsters, monster):\n",
    "            while self._encounter_difficulty(monsters) < difficulty:\n",
    "                monsters[monster] += 1\n",
    "\n",
    "            if self._encounter_difficulty(monsters) > difficulty:\n",
    "                monsters[monster] -= 1\n",
    "\n",
    "            return monsters[monster]\n",
    "\n",
    "        def _get_available_monsters(monsters, prev_available):\n",
    "            available_monsters = []\n",
    "            for monster in prev_available:\n",
    "                if monster in monsters:\n",
    "                    pass\n",
    "                cp = monsters.copy()\n",
    "                cp[monster] = 1\n",
    "                if self._encounter_difficulty(cp) <= difficulty:\n",
    "                    available_monsters.append(monster)\n",
    "            return available_monsters\n",
    "\n",
    "        monsters = dict()\n",
    "\n",
    "        available_monsters = list(self.monster_df.index[\n",
    "            self.monster_df.apply(_cr_threshold, axis=1)\n",
    "        ])\n",
    "\n",
    "        while self._encounter_difficulty(monsters) < difficulty:\n",
    "            available_monsters = _get_available_monsters(monsters, available_monsters)\n",
    "            if len(available_monsters) == 0:\n",
    "                return self.generate_encounter(difficulty)\n",
    "            \n",
    "            p = self.monster_df[self.monster_df.index.isin(available_monsters)]['cr']\n",
    "                \n",
    "            monster = np.random.choice(\n",
    "                available_monsters, \n",
    "                p=p/p.sum()\n",
    "            )\n",
    "            monsters[monster] = 1\n",
    "\n",
    "            max_monster_quantity = _max_monsters(monsters, monster)\n",
    "            monsters[monster] = np.random.randint(1, max_monster_quantity + 1)\n",
    "\n",
    "        return monsters\n",
    "    \n",
    "    def generate_treasure(self):\n",
    "        cr = self._avg_party_level(self.party)\n",
    "        def _coins(cr):\n",
    "            coins = dict()\n",
    "\n",
    "            # using cr + 4 (for ex.) scales treasure more continuously\n",
    "            # 3 values are the expected values of min_cr, avg_cr, max_cr\n",
    "            if cr <= 4:\n",
    "                coins['CP'] = 100 * self._roll(6, dx=cr + 4)  # 1800, 2250, 2700\n",
    "                coins['SP'] = 100 * self._roll(3, dx=cr + 4)  # 900, 1125, 1350\n",
    "                coins['GP'] = 10 * self._roll(2, dx=cr + 4)  # 60, 75, 90\n",
    "            elif cr <= 10:\n",
    "                coins['CP'] = 100 * self._roll(2, dx=cr - 1)  # 500, 750, 1000\n",
    "                coins['SP'] = 1000 * self._roll(2, dx=cr - 1)  # 5000, 7500, 10000\n",
    "                coins['GP'] = 100 * self._roll(6, dx=cr - 1)  # 1500, 2250, 3000\n",
    "                coins['PP'] = 10 * self._roll(3, dx=cr - 1)  # 75, 112.5, 150\n",
    "            elif cr <= 16:\n",
    "                coins['GP'] = 1000 * self._roll(4, dx=cr - 7)  # 10000, 15000, 20000\n",
    "                coins['PP'] = 100 * self._roll(5, dx=cr - 7)  # 1250, 1875, 2500\n",
    "            else:\n",
    "                coins['GP'] = 1000 * self._roll(12, dx=6)  # 42000\n",
    "                coins['PP'] = 1000 * self._roll(8, dx=6)  # 28000\n",
    "\n",
    "            return coins\n",
    "\n",
    "        def _gems_art_magic(cr):\n",
    "            roll = self._roll(1, dx=100)\n",
    "            gem_art_magic = dict()\n",
    "            if cr <= 4:\n",
    "                if roll <= 6:\n",
    "                    pass\n",
    "                elif roll <= 16:\n",
    "                    gem_art_magic['gems'] = {\n",
    "                        10: self._roll(2, dx=6)  # value, quantity\n",
    "                    }\n",
    "                elif roll <= 26:\n",
    "                    gem_art_magic['art'] = {\n",
    "                        25: self._roll(2, dx=4)\n",
    "                    }\n",
    "                elif roll <= 36:\n",
    "                    gem_art_magic['gems'] = {\n",
    "                        50: self._roll(2, dx=6)\n",
    "                    }\n",
    "                elif roll <= 44:\n",
    "                    gem_art_magic['gems'] = {\n",
    "                        10: self._roll(2, dx=6)\n",
    "                    }\n",
    "                    gem_art_magic['magic items'] = {\n",
    "                        'A': self._roll(1, dx=6)\n",
    "                    }\n",
    "                elif roll <= 52:\n",
    "                    gem_art_magic['art'] = {\n",
    "                        25: self._roll(2, dx=4)\n",
    "                    }\n",
    "                    gem_art_magic['magic items'] = {\n",
    "                        'A': self._roll(1, dx=6)\n",
    "                    }\n",
    "                elif roll <= 60:\n",
    "                    gem_art_magic['gems'] = {\n",
    "                        50: self._roll(2, dx=6)\n",
    "                    }\n",
    "                    gem_art_magic['magic items'] = {\n",
    "                        'A': self._roll(1, dx=6)\n",
    "                    }\n",
    "                elif roll <= 65:\n",
    "                    gem_art_magic['gems'] = {\n",
    "                        10: self._roll(2, dx=6)\n",
    "                    }\n",
    "                    gem_art_magic['magic items'] = {\n",
    "                        'B': self._roll(1, dx=4)\n",
    "                    }\n",
    "                elif roll <= 70:\n",
    "                    gem_art_magic['art'] = {\n",
    "                        25: self._roll(2, dx=4)\n",
    "                    }\n",
    "                    gem_art_magic['magic items'] = {\n",
    "                        'B': self._roll(1, dx=4)\n",
    "                    }\n",
    "                elif roll <= 75:\n",
    "                    gem_art_magic['gems'] = {\n",
    "                        50: self._roll(2, dx=6)\n",
    "                    }\n",
    "                    gem_art_magic['magic items'] = {\n",
    "                        'B': self._roll(1, dx=4)\n",
    "                    }\n",
    "                elif roll <= 78:\n",
    "                    gem_art_magic['gems'] = {\n",
    "                        10: self._roll(2, dx=6)\n",
    "                    }\n",
    "                    gem_art_magic['magic items'] = {\n",
    "                        'C': self._roll(1, dx=4)\n",
    "                    }\n",
    "                elif roll <= 80:\n",
    "                    gem_art_magic['art'] = {\n",
    "                        25: self._roll(2, dx=4)\n",
    "                    }\n",
    "                    gem_art_magic['magic items'] = {\n",
    "                        'C': self._roll(1, dx=4)\n",
    "                    }\n",
    "                elif roll <= 85:\n",
    "                    gem_art_magic['gems'] = {\n",
    "                        50: self._roll(2, dx=6)\n",
    "                    }\n",
    "                    gem_art_magic['magic items'] = {\n",
    "                        'C': self._roll(1, dx=4)\n",
    "                    }\n",
    "                elif roll <= 92:\n",
    "                    gem_art_magic['art'] = {\n",
    "                        25: self._roll(2, dx=4)\n",
    "                    }\n",
    "                    gem_art_magic['magic items'] = {\n",
    "                        'F': self._roll(1, dx=4)\n",
    "                    }\n",
    "                elif roll <= 97:\n",
    "                    gem_art_magic['gems'] = {\n",
    "                        50: self._roll(2, dx=6)\n",
    "                    }\n",
    "                    gem_art_magic['magic items'] = {\n",
    "                        'F': self._roll(1, dx=4)\n",
    "                    }\n",
    "                elif roll <= 99:\n",
    "                    gem_art_magic['art'] = {\n",
    "                        25: self._roll(2, dx=4)\n",
    "                    }\n",
    "                    gem_art_magic['magic items'] = {\n",
    "                        'G': 1\n",
    "                    }\n",
    "                else:\n",
    "                    gem_art_magic['gems'] = {\n",
    "                        50: self._roll(2, dx=6)\n",
    "                    }\n",
    "                    gem_art_magic['magic items'] = {\n",
    "                        'G': 1\n",
    "                    }\n",
    "            elif cr <= 10:\n",
    "                if roll <= 4:\n",
    "                    pass\n",
    "                elif roll <= 10:\n",
    "                    gem_art_magic['art'] = {\n",
    "                        25: self._roll(2, dx=4)  # value, quantity\n",
    "                    }\n",
    "                elif roll <= 16:\n",
    "                    gem_art_magic['gems'] = {\n",
    "                        50: self._roll(3, dx=6)\n",
    "                    }\n",
    "                elif roll <= 22:\n",
    "                    gem_art_magic['gems'] = {\n",
    "                        100: self._roll(3, dx=6)\n",
    "                    }\n",
    "                elif roll <= 28:\n",
    "                    gem_art_magic['art'] = {\n",
    "                        25: self._roll(2, dx=4)\n",
    "                    }            \n",
    "                elif roll <= 32:\n",
    "                    gem_art_magic['art'] = {\n",
    "                        25: self._roll(2, dx=4)\n",
    "                    }\n",
    "                    gem_art_magic['magic items'] = {\n",
    "                        'A': self._roll(1, dx=6)\n",
    "                    }\n",
    "                elif roll <= 36:\n",
    "                    gem_art_magic['gems'] = {\n",
    "                        50: self._roll(3, dx=6)\n",
    "                    }\n",
    "                    gem_art_magic['magic items'] = {\n",
    "                        'A': self._roll(1, dx=6)\n",
    "                    }\n",
    "                elif roll <= 40:\n",
    "                    gem_art_magic['gems'] = {\n",
    "                        100: self._roll(3, dx=6)\n",
    "                    }\n",
    "                    gem_art_magic['magic items'] = {\n",
    "                        'A': self._roll(1, dx=6)\n",
    "                    }\n",
    "                elif roll <= 44:\n",
    "                    gem_art_magic['art'] = {\n",
    "                        250: self._roll(2, dx=4)\n",
    "                    }\n",
    "                    gem_art_magic['magic items'] = {\n",
    "                        'A': self._roll(1, dx=6)\n",
    "                    }\n",
    "                elif roll <= 49:\n",
    "                    gem_art_magic['art'] = {\n",
    "                        25: self._roll(2, dx=4)\n",
    "                    }\n",
    "                    gem_art_magic['magic items'] = {\n",
    "                        'B': self._roll(1, dx=4)\n",
    "                    }\n",
    "                elif roll <= 54:\n",
    "                    gem_art_magic['gems'] = {\n",
    "                        50: self._roll(3, dx=6)\n",
    "                    }\n",
    "                    gem_art_magic['magic items'] = {\n",
    "                        'B': self._roll(1, dx=4)\n",
    "                    }\n",
    "                elif roll <= 59:\n",
    "                    gem_art_magic['gems'] = {\n",
    "                        100: self._roll(3, dx=6)\n",
    "                    }\n",
    "                    gem_art_magic['magic items'] = {\n",
    "                        'B': self._roll(1, dx=4)\n",
    "                    }\n",
    "                elif roll <= 63:\n",
    "                    gem_art_magic['art'] = {\n",
    "                        250: self._roll(2, dx=4)\n",
    "                    }\n",
    "                    gem_art_magic['magic items'] = {\n",
    "                        'B': self._roll(1, dx=4)\n",
    "                    }\n",
    "                elif roll <= 66:\n",
    "                    gem_art_magic['art'] = {\n",
    "                        25: self._roll(2, dx=4)\n",
    "                    }\n",
    "                    gem_art_magic['magic items'] = {\n",
    "                        'C': self._roll(1, dx=4)\n",
    "                    }\n",
    "                elif roll <= 69:\n",
    "                    gem_art_magic['gems'] = {\n",
    "                        50: self._roll(3, dx=6)\n",
    "                    }\n",
    "                    gem_art_magic['magic items'] = {\n",
    "                        'C': self._roll(1, dx=4)\n",
    "                    }\n",
    "                elif roll <= 72:\n",
    "                    gem_art_magic['gems'] = {\n",
    "                        100: self._roll(3, dx=6)\n",
    "                    }\n",
    "                    gem_art_magic['magic items'] = {\n",
    "                        'C': self._roll(1, dx=4)\n",
    "                    }\n",
    "                elif roll <= 74:\n",
    "                    gem_art_magic['art'] = {\n",
    "                        250: self._roll(2, dx=4)\n",
    "                    }\n",
    "                    gem_art_magic['magic items'] = {\n",
    "                        'C': self._roll(1, dx=4)\n",
    "                    }\n",
    "                elif roll <= 76:\n",
    "                    gem_art_magic['art'] = {\n",
    "                        25: self._roll(2, dx=4)\n",
    "                    }\n",
    "                    gem_art_magic['magic items'] = {\n",
    "                        'D': 1\n",
    "                    }\n",
    "                elif roll <= 78:\n",
    "                    gem_art_magic['gems'] = {\n",
    "                        50: self._roll(3, dx=6)\n",
    "                    }\n",
    "                    gem_art_magic['magic items'] = {\n",
    "                        'D': 1\n",
    "                    }\n",
    "                elif roll <= 79:\n",
    "                    gem_art_magic['gems'] = {\n",
    "                        100: self._roll(3, dx=6)\n",
    "                    }\n",
    "                    gem_art_magic['magic items'] = {\n",
    "                        'D': 1\n",
    "                    }\n",
    "                elif roll <= 80:\n",
    "                    gem_art_magic['art'] = {\n",
    "                        250: self._roll(2, dx=4)\n",
    "                    }\n",
    "                    gem_art_magic['magic items'] = {\n",
    "                        'D': 1\n",
    "                    }\n",
    "                elif roll <= 84:\n",
    "                    gem_art_magic['art'] = {\n",
    "                        25: self._roll(2, dx=4)\n",
    "                    }\n",
    "                    gem_art_magic['magic items'] = {\n",
    "                        'F': self._roll(1, dx=4)\n",
    "                    }\n",
    "                elif roll <= 88:\n",
    "                    gem_art_magic['gems'] = {\n",
    "                        50: self._roll(3, dx=6)\n",
    "                    }\n",
    "                    gem_art_magic['magic items'] = {\n",
    "                        'F': self._roll(1, dx=4)\n",
    "                    }\n",
    "                elif roll <= 91:\n",
    "                    gem_art_magic['gems'] = {\n",
    "                        100: self._roll(3, dx=6)\n",
    "                    }\n",
    "                    gem_art_magic['magic items'] = {\n",
    "                        'F': self._roll(1, dx=4)\n",
    "                    }\n",
    "                elif roll <= 94:\n",
    "                    gem_art_magic['art'] = {\n",
    "                        250: self._roll(2, dx=4)\n",
    "                    }\n",
    "                    gem_art_magic['magic items'] = {\n",
    "                        'F': self._roll(1, dx=4)\n",
    "                    }\n",
    "                elif roll <= 96:\n",
    "                    gem_art_magic['gems'] = {\n",
    "                        100: self._roll(3, dx=6)\n",
    "                    }\n",
    "                    gem_art_magic['magic items'] = {\n",
    "                        'G': self._roll(1, dx=4)\n",
    "                    }\n",
    "                elif roll <= 98:\n",
    "                    gem_art_magic['art'] = {\n",
    "                        250: self._roll(2, dx=4)\n",
    "                    }\n",
    "                    gem_art_magic['magic items'] = {\n",
    "                        'G': self._roll(1, dx=6)\n",
    "                    }\n",
    "                elif roll <= 99:\n",
    "                    gem_art_magic['gems'] = {\n",
    "                        100: self._roll(3, dx=6)\n",
    "                    }\n",
    "                    gem_art_magic['magic items'] = {\n",
    "                        'H': 1\n",
    "                    }\n",
    "                else:\n",
    "                    gem_art_magic['art'] = {\n",
    "                        250: self._roll(2, dx=4)\n",
    "                    }\n",
    "                    gem_art_magic['magic items'] = {\n",
    "                        'H': 1\n",
    "                    }\n",
    "            elif cr <= 16:\n",
    "                if roll <= 3:\n",
    "                    pass\n",
    "                elif roll <= 6:\n",
    "                    gem_art_magic['art'] = {\n",
    "                        250: self._roll(2, dx=4)\n",
    "                    }\n",
    "                elif roll <= 9:\n",
    "                    gem_art_magic['art'] = {\n",
    "                        750: self._roll(2, dx=4)\n",
    "                    }\n",
    "                elif roll <= 12:\n",
    "                    gem_art_magic['gems'] = {\n",
    "                        500: self._roll(3, dx=6)\n",
    "                    }\n",
    "                elif roll <= 15:\n",
    "                    gem_art_magic['gems'] = {\n",
    "                        1000: self._roll(3, dx=6)\n",
    "                    }\n",
    "                elif roll <= 19:\n",
    "                    gem_art_magic['art'] = {\n",
    "                        250: self._roll(2, dx=4)\n",
    "                    }\n",
    "                    gem_art_magic['magic items'] = {\n",
    "                        'A': self._roll(1, dx=4),\n",
    "                        'B': self._roll(1, dx=6)\n",
    "                    }\n",
    "                elif roll <= 23:\n",
    "                    gem_art_magic['art'] = {\n",
    "                        750: self._roll(2, dx=4)\n",
    "                    }\n",
    "                    gem_art_magic['magic items'] = {\n",
    "                        'A': self._roll(1, dx=4),\n",
    "                        'B': self._roll(1, dx=6)\n",
    "                    }\n",
    "                elif roll <= 26:\n",
    "                    gem_art_magic['gems'] = {\n",
    "                        500: self._roll(3, dx=6)\n",
    "                    }\n",
    "                    gem_art_magic['magic items'] = {\n",
    "                        'A': self._roll(1, dx=4),\n",
    "                        'B': self._roll(1, dx=6)\n",
    "                    }\n",
    "                elif roll <= 29:\n",
    "                    gem_art_magic['gems'] = {\n",
    "                        1000: self._roll(3, dx=6)\n",
    "                    }\n",
    "                    gem_art_magic['magic items'] = {\n",
    "                        'A': self._roll(1, dx=4),\n",
    "                        'B': self._roll(1, dx=6)\n",
    "                    }\n",
    "                elif roll <= 35:\n",
    "                    gem_art_magic['art'] = {\n",
    "                        250: self._roll(2, dx=4)\n",
    "                    }\n",
    "                    gem_art_magic['magic items'] = {\n",
    "                        'C': self._roll(1, dx=6)\n",
    "                    }\n",
    "                elif roll <= 40:\n",
    "                    gem_art_magic['art'] = {\n",
    "                        750: self._roll(2, dx=4)\n",
    "                    }\n",
    "                    gem_art_magic['magic items'] = {\n",
    "                        'C': self._roll(1, dx=6)\n",
    "                    }\n",
    "                elif roll <= 45:\n",
    "                    gem_art_magic['gems'] = {\n",
    "                        500: self._roll(3, dx=6)\n",
    "                    }\n",
    "                    gem_art_magic['magic items'] = {\n",
    "                        'C': self._roll(1, dx=6)\n",
    "                    }\n",
    "                elif roll <= 50:\n",
    "                    gem_art_magic['gems'] = {\n",
    "                        1000: self._roll(3, dx=6)\n",
    "                    }\n",
    "                    gem_art_magic['magic items'] = {\n",
    "                        'C': self._roll(1, dx=6)\n",
    "                    }\n",
    "                elif roll <= 54:\n",
    "                    gem_art_magic['art'] = {\n",
    "                        250: self._roll(2, dx=4)\n",
    "                    }\n",
    "                    gem_art_magic['magic items'] = {\n",
    "                        'D': self._roll(1, dx=4)\n",
    "                    }\n",
    "                elif roll <= 58:\n",
    "                    gem_art_magic['art'] = {\n",
    "                        750: self._roll(2, dx=4)\n",
    "                    }\n",
    "                    gem_art_magic['magic items'] = {\n",
    "                        'D': self._roll(1, dx=4)\n",
    "                    }\n",
    "                elif roll <= 62:\n",
    "                    gem_art_magic['gems'] = {\n",
    "                        500: self._roll(3, dx=6)\n",
    "                    }\n",
    "                    gem_art_magic['magic items'] = {\n",
    "                        'D': self._roll(1, dx=4)\n",
    "                    }\n",
    "                elif roll <= 66:\n",
    "                    gem_art_magic['gems'] = {\n",
    "                        1000: self._roll(3, dx=6)\n",
    "                    }\n",
    "                    gem_art_magic['magic items'] = {\n",
    "                        'D': self._roll(1, dx=4)\n",
    "                    }\n",
    "                elif roll <= 68:\n",
    "                    gem_art_magic['art'] = {\n",
    "                        250: self._roll(2, dx=4)\n",
    "                    }\n",
    "                    gem_art_magic['magic items'] = {\n",
    "                        'E': 1\n",
    "                    }\n",
    "                elif roll <= 70:\n",
    "                    gem_art_magic['art'] = {\n",
    "                        750: self._roll(2, dx=4)\n",
    "                    }\n",
    "                    gem_art_magic['magic items'] = {\n",
    "                        'E': 1\n",
    "                    }\n",
    "                elif roll <= 72:\n",
    "                    gem_art_magic['gems'] = {\n",
    "                        500: self._roll(3, dx=6)\n",
    "                    }\n",
    "                    gem_art_magic['magic items'] = {\n",
    "                        'E': 1\n",
    "                    }\n",
    "                elif roll <= 74:\n",
    "                    gem_art_magic['gems'] = {\n",
    "                        1000: self._roll(3, dx=6)\n",
    "                    }\n",
    "                    gem_art_magic['magic items'] = {\n",
    "                        'E': 1\n",
    "                    }\n",
    "                elif roll <= 76:\n",
    "                    gem_art_magic['art'] = {\n",
    "                        250: self._roll(2, dx=4)\n",
    "                    }\n",
    "                    gem_art_magic['magic items'] = {\n",
    "                        'F': 1,\n",
    "                        'G': self._roll(1, dx=4)\n",
    "                    }\n",
    "                elif roll <= 78:\n",
    "                    gem_art_magic['art'] = {\n",
    "                        750: self._roll(2, dx=4)\n",
    "                    }\n",
    "                    gem_art_magic['magic items'] = {\n",
    "                        'F': 1,\n",
    "                        'G': self._roll(1, dx=4)\n",
    "                    }\n",
    "                elif roll <= 80:\n",
    "                    gem_art_magic['gems'] = {\n",
    "                        500: self._roll(3, dx=6)\n",
    "                    }\n",
    "                    gem_art_magic['magic items'] = {\n",
    "                        'F': 1,\n",
    "                        'G': self._roll(1, dx=4)\n",
    "                    }\n",
    "                elif roll <= 82:\n",
    "                    gem_art_magic['gems'] = {\n",
    "                        1000: self._roll(3, dx=6)\n",
    "                    }\n",
    "                    gem_art_magic['magic items'] = {\n",
    "                        'F': 1,\n",
    "                        'G': self._roll(1, dx=4)\n",
    "                    }\n",
    "                elif roll <= 85:\n",
    "                    gem_art_magic['art'] = {\n",
    "                        250: self._roll(2, dx=4)\n",
    "                    }\n",
    "                    gem_art_magic['magic items'] = {\n",
    "                        'H': self._roll(1, dx=4)\n",
    "                    }\n",
    "                elif roll <= 88:\n",
    "                    gem_art_magic['art'] = {\n",
    "                        750: self._roll(2, dx=4)\n",
    "                    }\n",
    "                    gem_art_magic['magic items'] = {\n",
    "                        'H': self._roll(1, dx=4)\n",
    "                    }\n",
    "                elif roll <= 90:\n",
    "                    gem_art_magic['gems'] = {\n",
    "                        500: self._roll(3, dx=6)\n",
    "                    }\n",
    "                    gem_art_magic['magic items'] = {\n",
    "                        'H': self._roll(1, dx=4)\n",
    "                    }\n",
    "                elif roll <= 92:\n",
    "                    gem_art_magic['gems'] = {\n",
    "                        1000: self._roll(3, dx=6)\n",
    "                    }\n",
    "                    gem_art_magic['magic items'] = {\n",
    "                        'H': self._roll(1, dx=4)\n",
    "                    }\n",
    "                elif roll <= 94:\n",
    "                    gem_art_magic['art'] = {\n",
    "                        250: self._roll(2, dx=4)\n",
    "                    }\n",
    "                    gem_art_magic['magic items'] = {\n",
    "                        'I': 1\n",
    "                    }\n",
    "                elif roll <= 96:\n",
    "                    gem_art_magic['art'] = {\n",
    "                        750: self._roll(2, dx=4)\n",
    "                    }\n",
    "                    gem_art_magic['magic items'] = {\n",
    "                        'I': 1\n",
    "                    }\n",
    "                elif roll <= 98:\n",
    "                    gem_art_magic['gems'] = {\n",
    "                        500: self._roll(3, dx=6)\n",
    "                    }\n",
    "                    gem_art_magic['magic items'] = {\n",
    "                        'I': 1\n",
    "                    }\n",
    "                else:\n",
    "                    gem_art_magic['gems'] = {\n",
    "                        1000: self._roll(3, dx=6)\n",
    "                    }\n",
    "                    gem_art_magic['magic items'] = {\n",
    "                        'I': 1\n",
    "                    }\n",
    "            else:\n",
    "                if roll <= 2:\n",
    "                    pass\n",
    "                elif roll <= 5:\n",
    "                    gem_art_magic['gems'] = {\n",
    "                        1000: self._roll(3, dx=6)\n",
    "                    }\n",
    "                    gem_art_magic['magic items'] = {\n",
    "                        'C': self._roll(1, dx=8)\n",
    "                    }\n",
    "                elif roll <= 8:\n",
    "                    gem_art_magic['art'] = {\n",
    "                        2500: self._roll(1, dx=10)\n",
    "                    }\n",
    "                    gem_art_magic['magic items'] = {\n",
    "                        'C': self._roll(1, dx=8)\n",
    "                    }\n",
    "                elif roll <= 11:\n",
    "                    gem_art_magic['art'] = {\n",
    "                        7500: self._roll(1, dx=4)\n",
    "                    }\n",
    "                    gem_art_magic['magic items'] = {\n",
    "                        'C': self._roll(1, dx=8)\n",
    "                    }\n",
    "                elif roll <= 14:\n",
    "                    gem_art_magic['gems'] = {\n",
    "                        5000: self._roll(1, dx=8)\n",
    "                    }\n",
    "                    gem_art_magic['magic items'] = {\n",
    "                        'C': self._roll(1, dx=8)\n",
    "                    }\n",
    "                elif roll <= 22:\n",
    "                    gem_art_magic['gems'] = {\n",
    "                        1000: self._roll(3, dx=6)\n",
    "                    }\n",
    "                    gem_art_magic['magic items'] = {\n",
    "                        'D': self._roll(1, dx=6)\n",
    "                    }\n",
    "                elif roll <= 30:\n",
    "                    gem_art_magic['art'] = {\n",
    "                        2500: self._roll(1, dx=10)\n",
    "                    }\n",
    "                    gem_art_magic['magic items'] = {\n",
    "                        'D': self._roll(1, dx=6)\n",
    "                    }\n",
    "                elif roll <= 38:\n",
    "                    gem_art_magic['art'] = {\n",
    "                        7500: self._roll(1, dx=4)\n",
    "                    }\n",
    "                    gem_art_magic['magic items'] = {\n",
    "                        'D': self._roll(1, dx=6)\n",
    "                    }\n",
    "                elif roll <= 46:\n",
    "                    gem_art_magic['gems'] = {\n",
    "                        5000: self._roll(1, dx=8)\n",
    "                    }\n",
    "                    gem_art_magic['magic items'] = {\n",
    "                        'D': self._roll(1, dx=6)\n",
    "                    }\n",
    "                elif roll <= 52:\n",
    "                    gem_art_magic['gems'] = {\n",
    "                        1000: self._roll(3, dx=6)\n",
    "                    }\n",
    "                    gem_art_magic['magic items'] = {\n",
    "                        'E': self._roll(1, dx=6)\n",
    "                    }\n",
    "                elif roll <= 58:\n",
    "                    gem_art_magic['art'] = {\n",
    "                        2500: self._roll(1, dx=10)\n",
    "                    }\n",
    "                    gem_art_magic['magic items'] = {\n",
    "                        'E': self._roll(1, dx=6)\n",
    "                    }\n",
    "                elif roll <= 63:\n",
    "                    gem_art_magic['art'] = {\n",
    "                        7500: self._roll(1, dx=4)\n",
    "                    }\n",
    "                    gem_art_magic['magic items'] = {\n",
    "                        'E': self._roll(1, dx=6)\n",
    "                    }\n",
    "                elif roll <= 68:\n",
    "                    gem_art_magic['gems'] = {\n",
    "                        5000: self._roll(1, dx=8)\n",
    "                    }\n",
    "                    gem_art_magic['magic items'] = {\n",
    "                        'E': self._roll(1, dx=6)\n",
    "                    }\n",
    "                elif roll <= 69:\n",
    "                    gem_art_magic['gems'] = {\n",
    "                        1000: self._roll(3, dx=6)\n",
    "                    }\n",
    "                    gem_art_magic['magic items'] = {\n",
    "                        'G': self._roll(1, dx=4)\n",
    "                    }\n",
    "                elif roll <= 70:\n",
    "                    gem_art_magic['art'] = {\n",
    "                        2500: self._roll(1, dx=10)\n",
    "                    }\n",
    "                    gem_art_magic['magic items'] = {\n",
    "                        'G': self._roll(1, dx=4)\n",
    "                    }\n",
    "                elif roll <= 71:\n",
    "                    gem_art_magic['art'] = {\n",
    "                        7500: self._roll(1, dx=4)\n",
    "                    }\n",
    "                    gem_art_magic['magic items'] = {\n",
    "                        'G': self._roll(1, dx=4)\n",
    "                    }\n",
    "                elif roll <= 72:\n",
    "                    gem_art_magic['gems'] = {\n",
    "                        5000: self._roll(1, dx=8)\n",
    "                    }\n",
    "                    gem_art_magic['magic items'] = {\n",
    "                        'G': self._roll(1, dx=4)\n",
    "                    }\n",
    "                elif roll <= 74:\n",
    "                    gem_art_magic['gems'] = {\n",
    "                        1000: self._roll(3, dx=6)\n",
    "                    }\n",
    "                    gem_art_magic['magic items'] = {\n",
    "                        'H': self._roll(1, dx=4)\n",
    "                    }\n",
    "                elif roll <= 76:\n",
    "                    gem_art_magic['art'] = {\n",
    "                        2500: self._roll(1, dx=10)\n",
    "                    }\n",
    "                    gem_art_magic['magic items'] = {\n",
    "                        'H': self._roll(1, dx=4)\n",
    "                    }\n",
    "                elif roll <= 78:\n",
    "                    gem_art_magic['art'] = {\n",
    "                        7500: self._roll(1, dx=4)\n",
    "                    }\n",
    "                    gem_art_magic['magic items'] = {\n",
    "                        'H': self._roll(1, dx=4)\n",
    "                    }\n",
    "                elif roll <= 80:\n",
    "                    gem_art_magic['gems'] = {\n",
    "                        5000: self._roll(1, dx=8)\n",
    "                    }\n",
    "                    gem_art_magic['magic items'] = {\n",
    "                        'H': self._roll(1, dx=4)\n",
    "                    }\n",
    "                elif roll <= 85:\n",
    "                    gem_art_magic['gems'] = {\n",
    "                        1000: self._roll(3, dx=6)\n",
    "                    }\n",
    "                    gem_art_magic['magic items'] = {\n",
    "                        'I': self._roll(1, dx=4)\n",
    "                    }\n",
    "                elif roll <= 90:\n",
    "                    gem_art_magic['art'] = {\n",
    "                        2500: self._roll(1, dx=10)\n",
    "                    }\n",
    "                    gem_art_magic['magic items'] = {\n",
    "                        'I': self._roll(1, dx=4)\n",
    "                    }\n",
    "                elif roll <= 95:\n",
    "                    gem_art_magic['art'] = {\n",
    "                        7500: self._roll(1, dx=4)\n",
    "                    }\n",
    "                    gem_art_magic['magic items'] = {\n",
    "                        'I': self._roll(1, dx=4)\n",
    "                    }\n",
    "                else:\n",
    "                    gem_art_magic['gems'] = {\n",
    "                        5000: self._roll(1, dx=8)\n",
    "                    }\n",
    "                    gem_art_magic['magic items'] = {\n",
    "                        'I': self._roll(1, dx=4)\n",
    "                    }\n",
    "\n",
    "            return gem_art_magic\n",
    "\n",
    "        treasure = _gems_art_magic(cr)\n",
    "        treasure['coins'] = _coins(cr)\n",
    "\n",
    "        if 'gems' in treasure:\n",
    "            treasure['gems'] = self._gems_from_dict(treasure['gems'])\n",
    "\n",
    "        if 'art' in treasure:\n",
    "            treasure['art'] = self._art_from_dict(treasure['art'])\n",
    "\n",
    "        if 'magic items' in treasure:\n",
    "            treasure['magic items'] = self._magic_items_from_dict(treasure['magic items'])\n",
    "\n",
    "        return treasure\n",
    "    \n",
    "    def obscure_plot(self, n_steps=2):\n",
    "        self.obscured_squares = []\n",
    "        party_location = self._dense_to_granular(*self.party_location)\n",
    "\n",
    "        for ind in range(self.m*self.n):\n",
    "            i, j = self._get_i_j(ind)\n",
    "            if self._is_visible(party_location, (i, j), n_steps=n_steps):\n",
    "                pass\n",
    "            else:\n",
    "                self.obscured_squares.append((i, j))\n",
    "                self._obscure_square(i, j)\n",
    "    \n",
    "    def place_encounters(self):\n",
    "        m = self.m\n",
    "        n = self.n\n",
    "        square_density = self.square_density\n",
    "        \n",
    "        D = np.zeros((square_density*m, square_density*n))\n",
    "\n",
    "        short_paths = shortest_path(self.C)\n",
    "        longest_path = np.unravel_index(short_paths.argmax(), self.C.shape)\n",
    "        party_location_granular = self._get_i_j(longest_path[0], n)\n",
    "        treasure_location_granular = self._get_i_j(longest_path[1], n)\n",
    "        \n",
    "        party_location = self._granular_to_dense(*party_location_granular)\n",
    "        treasure_location = self._granular_to_dense(*treasure_location_granular)\n",
    "        self.party_location = party_location\n",
    "        self.treasure_location = treasure_location\n",
    "        \n",
    "        D[treasure_location[0], treasure_location[1]] = 4\n",
    "        D[party_location[0], party_location[1]] = -1\n",
    "\n",
    "        locations = [treasure_location, party_location]\n",
    "        self.encounter_locs = {'Deadly': treasure_location}\n",
    "        \n",
    "        for i in [1, 2, 3]:\n",
    "            valid_location = False\n",
    "            while not valid_location:\n",
    "                new_location_granular = self._get_i_j(np.random.choice(m*n))\n",
    "                valid_location = True\n",
    "                for existing_location in locations:\n",
    "                    existing_location_granular = self._dense_to_granular(*existing_location)\n",
    "                    if self._distance_granular(new_location_granular, existing_location_granular) <= 4:\n",
    "                        valid_location = False\n",
    "                        pass\n",
    "                \n",
    "            self.encounter_locs[self.difficulty_dict[i]] = new_location\n",
    "            new_location = self._granular_to_dense(*new_location_granular)\n",
    "            locations.append(new_location)\n",
    "            D[new_location[0], new_location[1]] = i\n",
    "\n",
    "        self.D = D\n",
    "    \n",
    "    def play(self):\n",
    "        self.plot_dungeon()\n",
    "        \n",
    "        self.pause = False\n",
    "        while not np.isclose(self.party_location, self.treasure_location).all():\n",
    "            if self.lost:\n",
    "                self.plot_dungeon(obscure=False)\n",
    "                print('You Lose :(')\n",
    "                return\n",
    "            elif self.pause:\n",
    "                return\n",
    "            self.prompt()\n",
    "            \n",
    "        self.plot_dungeon(obscure=False)\n",
    "        print('Treasure: ')\n",
    "        pprint(self.generate_treasure())\n",
    "        print('You Win! :)')   \n",
    "        print('THE END.')\n",
    "        \n",
    "    def plot_dungeon(self, obscure=True, n_steps=2):\n",
    "        m = self.m\n",
    "        n = self.n\n",
    "        \n",
    "        # m and n determine the figsize to help with aspect ratios\n",
    "        self.fig = plt.figure(figsize=(self.plot_size*n/(m+n), self.plot_size*m/(m+n)))\n",
    "        self.ax = self.fig.add_subplot()\n",
    "        \n",
    "        if obscure:\n",
    "            self.obscure_plot(n_steps=n_steps)\n",
    "        \n",
    "        self.plot_encounters()\n",
    "        self.plot_map(obscure=obscure)\n",
    "        plt.show()\n",
    "    \n",
    "    def plot_encounters(self):\n",
    "        D = self.D\n",
    "        m = self.m\n",
    "        n = self.n\n",
    "        square_density = self.square_density\n",
    "\n",
    "        color_dict = {\n",
    "            -2: 'gold',\n",
    "            -1: 'cornflowerblue',\n",
    "            1: 'darkseagreen',\n",
    "            2: 'gold',\n",
    "            3: 'darkorange',\n",
    "            4: 'indianred'\n",
    "        }\n",
    "        \n",
    "        for i, j in self._indices(D):\n",
    "            if D[i, j] > 0:\n",
    "                self.ax.scatter((j+.5)/(square_density*n), 1 - (i+.5)/(square_density*m), marker='X', s=self.plot_size*18*D[i, j], c=color_dict[D[i, j]])\n",
    "            elif D[i, j] == -1:\n",
    "                if self.latest_direction == 'd':\n",
    "                    self.ax.scatter(\n",
    "                        (j+.5)/(square_density*n), \n",
    "                        1 - (i+.5)/(square_density*m), \n",
    "                        marker='>', \n",
    "                        s=self.plot_size*18, \n",
    "                        c=color_dict[D[i, j]]\n",
    "                    )\n",
    "                elif self.latest_direction == 'a':\n",
    "                    self.ax.scatter(\n",
    "                        (j+.5)/(square_density*n), \n",
    "                        1 - (i+.5)/(square_density*m), \n",
    "                        marker='<', \n",
    "                        s=self.plot_size*18, \n",
    "                        c=color_dict[D[i, j]]\n",
    "                    )\n",
    "                elif self.latest_direction == 'w':\n",
    "                    self.ax.scatter(\n",
    "                        (j+.5)/(square_density*n), \n",
    "                        1 - (i+.5)/(square_density*m), \n",
    "                        marker='^', \n",
    "                        s=self.plot_size*18, \n",
    "                        c=color_dict[D[i, j]]\n",
    "                    )\n",
    "                elif self.latest_direction == 's':\n",
    "                    self.ax.scatter(\n",
    "                        (j+.5)/(square_density*n), \n",
    "                        1 - (i+.5)/(square_density*m), \n",
    "                        marker='v', \n",
    "                        s=self.plot_size*18, \n",
    "                        c=color_dict[D[i, j]]\n",
    "                    )\n",
    "            elif D[i, j] == -2:\n",
    "                self.ax.scatter(\n",
    "                    (j+.5)/(square_density*n), \n",
    "                    1 - (i+.5)/(square_density*m), \n",
    "                    marker='*', \n",
    "                    s=self.plot_size*30, \n",
    "                    c=color_dict[D[i, j]]\n",
    "                )\n",
    "    \n",
    "    def plot_map(self, obscure=True):\n",
    "        \"\"\"\n",
    "        Given two matrices, display the corresponding dungeon.\n",
    "\n",
    "        Parameters\n",
    "        ----------\n",
    "        A:  array_like\n",
    "            Array representing the vertical walls within the \n",
    "            dungeon. If A[i, j] is 1, there is a wall at i, j.\n",
    "            A should be m x n-1.\n",
    "\n",
    "        B:  array_like\n",
    "            Array representing the horizontal walls within the \n",
    "            dungeon. If B[i, j] is 1, there is a wall at i, j.\n",
    "            B should be m-1 x n.\n",
    "\n",
    "        square_density:  int, optional\n",
    "            Density of gridlines within the dungeon. Walls\n",
    "            are typically generated on a more granular grid\n",
    "            than the gridlines to create more open spaces.\n",
    "        \"\"\"\n",
    "        A = self.A\n",
    "        B = self.B\n",
    "        m = self.m\n",
    "        n = self.n\n",
    "        square_density = self.square_density\n",
    "\n",
    "        self._vertical_plot(A, obscure=obscure)\n",
    "        self._horizontal_plot(B, obscure=obscure)\n",
    "\n",
    "        # plot lines around the edges\n",
    "        # TODO: make these lines more bold?\n",
    "        self.ax.vlines([0, 1], [0, 0], [1, 1])\n",
    "        self.ax.hlines([0, 1], [0, 0], [1, 1])\n",
    "\n",
    "        # display only the dungeon\n",
    "        # TODO: add a small buffer around the edges?\n",
    "        self.ax.set_xlim(0, 1)\n",
    "        self.ax.set_ylim(0, 1)\n",
    "\n",
    "        # add gridlines without displaying ticks\n",
    "        self.ax.set_yticks(np.linspace(0, 1, square_density * m + 1))\n",
    "        self.ax.set_xticks(np.linspace(0, 1, square_density * n + 1))\n",
    "        self.ax.grid()\n",
    "        self.ax.tick_params(axis='both', left=False, bottom=False, labelleft=False, labelbottom=False)\n",
    "    \n",
    "    def prompt(self):\n",
    "        inp = input(\"Input your direction (wasd) or 'p' for pause: \")\n",
    "        \n",
    "        direction_inps = {'d', 'a', 'w', 's', 'right', 'left', 'up', 'down'}\n",
    "            \n",
    "        if inp == 'p':\n",
    "            self.pause = True\n",
    "            \n",
    "        elif inp in direction_inps:\n",
    "            self.step(inp)\n",
    "            \n",
    "        else:\n",
    "            print('Invalid input')\n",
    "            self.prompt()\n",
    "    \n",
    "    def run_encounter(self, closest_encounter):\n",
    "        print(closest_encounter, \":\")\n",
    "        print(self.encounters[closest_encounter])\n",
    "\n",
    "        inp = input(\"Did you win? (y/n)\")\n",
    "        while inp not in {'y', 'n'}:\n",
    "            inp = input(\"Did you win? (y/n)\")\n",
    "        if inp == 'y':\n",
    "            encounter_loc = self.encounter_locs[closest_encounter]\n",
    "\n",
    "            if closest_encounter == 'Deadly':\n",
    "                self.D[encounter_loc[0], encounter_loc[1]] = -2\n",
    "            else:\n",
    "                self.D[encounter_loc[0], encounter_loc[1]] = 0\n",
    "\n",
    "            del self.encounters[closest_encounter]\n",
    "            del self.encounter_locs[closest_encounter]\n",
    "            print('Good work!')\n",
    "            self.plot_dungeon()\n",
    "            return\n",
    "        elif inp == 'n':\n",
    "            self.lost = True\n",
    "            return\n",
    "    \n",
    "    def step(self, inp):\n",
    "        direction_dict = {\n",
    "            'd': 'd',\n",
    "            'a': 'a',\n",
    "            'w': 'w',\n",
    "            's': 's',\n",
    "            'right': 'd',\n",
    "            'left': 'a',\n",
    "            'up': 'w',\n",
    "            'down': 's'\n",
    "        }\n",
    "            \n",
    "        direction = direction_dict[inp]\n",
    "        \n",
    "        i, j = self.party_location\n",
    "        if direction == 'd':\n",
    "            assert self.D[i, j] == -1\n",
    "            if j >= self.n * self.square_density - self.square_density:\n",
    "                print(\"Can't go that way!\")\n",
    "                self.prompt()\n",
    "                return\n",
    "            elif self.C[self._get_ind(*self._dense_to_granular(i, j)), self._get_ind(*self._dense_to_granular(i, j + self.square_density))] == 0:\n",
    "                print(\"Can't go that way!\")\n",
    "                self.prompt()\n",
    "                return\n",
    "            else:\n",
    "                self.D[i, j] = 0\n",
    "                self.party_location[1] += self.square_density\n",
    "                i, j = self.party_location\n",
    "                self.D[i, j] = -1\n",
    "            \n",
    "        elif direction == 'a':\n",
    "            assert self.D[i, j] == -1\n",
    "            if j <= 0 + self.square_density:\n",
    "                print(\"Can't go that way!\")\n",
    "                self.prompt()\n",
    "                return\n",
    "            elif self.C[self._get_ind(*self._dense_to_granular(i, j)), self._get_ind(*self._dense_to_granular(i, j - self.square_density))] == 0:\n",
    "                print(\"Can't go that way!\")\n",
    "                self.prompt()\n",
    "                return\n",
    "            else:\n",
    "                self.D[i, j] = 0\n",
    "                self.party_location[1] -= self.square_density\n",
    "                i, j = self.party_location\n",
    "                self.D[i, j] = -1\n",
    "            \n",
    "        elif direction == 'w':\n",
    "            assert self.D[i, j] == -1\n",
    "            if i <= 0 + self.square_density:\n",
    "                print(\"Can't go that way!\")\n",
    "                self.prompt()\n",
    "                return\n",
    "            elif self.C[self._get_ind(*self._dense_to_granular(i, j)), self._get_ind(*self._dense_to_granular(i - self.square_density, j))] == 0:\n",
    "                print(\"Can't go that way!\")\n",
    "                self.prompt()\n",
    "                return\n",
    "            else:\n",
    "                self.D[i, j] = 0\n",
    "                self.party_location[0] -= self.square_density\n",
    "                i, j = self.party_location\n",
    "                self.D[i, j] = -1\n",
    "            \n",
    "        elif direction == 's':\n",
    "            assert self.D[i, j] == -1\n",
    "            if i >= self.m * self.square_density - self.square_density:\n",
    "                print(\"Can't go that way!\")\n",
    "                self.prompt()\n",
    "                return\n",
    "            elif self.C[self._get_ind(*self._dense_to_granular(i, j)), self._get_ind(*self._dense_to_granular(i + self.square_density, j))] == 0:\n",
    "                print(\"Can't go that way!\")\n",
    "                self.prompt()\n",
    "                return\n",
    "            else:\n",
    "                self.D[i, j] = 0\n",
    "                self.party_location[0] += self.square_density\n",
    "                i, j = self.party_location\n",
    "                self.D[i, j] = -1\n",
    "\n",
    "        self.latest_direction = direction\n",
    "        self.plot_dungeon()\n",
    "        \n",
    "        self.check_for_encounter()\n",
    "\n",
    "\n",
    "    # helper functions    \n",
    "    def _dense_to_granular(self, i, j):\n",
    "        return np.array(((i - 1)/self.square_density, (j - 1)/self.square_density))\n",
    "    \n",
    "    def _distance_granular(self, pos1, pos2):\n",
    "        ind1 = self._get_ind(*pos1)\n",
    "        ind2 = self._get_ind(*pos2)\n",
    "        short_paths = shortest_path(self.C)\n",
    "        return short_paths[ind1, ind2]\n",
    "    \n",
    "    def _encounter_difficulty(self, monsters):\n",
    "        mxp = self._monsters_xp(monsters)\n",
    "        hard_exp = self._party_xp('Hard')\n",
    "        deadly_exp = self._party_xp('Deadly')\n",
    "        \n",
    "        if mxp < self._party_xp('Easy'):\n",
    "            return 0\n",
    "        elif mxp < self._party_xp('Medium'):\n",
    "            return 1\n",
    "        elif mxp < hard_exp:\n",
    "            return 2\n",
    "        elif mxp < deadly_exp:\n",
    "            return 3\n",
    "        elif mxp < deadly_exp + (deadly_exp - hard_exp):\n",
    "            return 4\n",
    "        else:\n",
    "            return 5\n",
    "    \n",
    "    def _get_i_j(self, ind, n=None):\n",
    "        \"\"\"\n",
    "        Helper function to get the i, j index of a \n",
    "        square within the grid given its index in C.\n",
    "        \"\"\"\n",
    "        if n is None:\n",
    "            n = self.n\n",
    "            \n",
    "        i = ind // n\n",
    "        j = ind % n\n",
    "        return np.array((i, j))\n",
    "\n",
    "    def _get_ind(self, i, j):\n",
    "        \"\"\"\n",
    "        Helper function to get the index in C given\n",
    "        a square's i, j index within the grid.\n",
    "        \"\"\"\n",
    "        return int(i*self.n + j)\n",
    "    \n",
    "    def _granular_to_dense(self, i, j):\n",
    "        return np.array((self.square_density * i + 1, self.square_density * j + 1))\n",
    "    \n",
    "    def _horizontal_plot(self, walls, obscure=True):\n",
    "        \"\"\"\n",
    "        Helper function to plot all horizontal walls \n",
    "        given an array.\n",
    "        \"\"\"\n",
    "        m, n = walls.shape\n",
    "        for i, j in self._indices(walls):\n",
    "            if walls[i, j] == 1:\n",
    "                if obscure:\n",
    "                    if (i, j) not in self.obscured_squares:\n",
    "                        self.ax.hlines(1-(i+1)/(m+1), j/(n), (j+1)/(n))\n",
    "                    elif (i+1, j) not in self.obscured_squares:\n",
    "                        self.ax.hlines(1-(i+1)/(m+1), j/(n), (j+1)/(n))\n",
    "                else:\n",
    "                    self.ax.hlines(1-(i+1)/(m+1), j/(n), (j+1)/(n))\n",
    "    \n",
    "    def _is_visible(self, current_location, new_location, n_steps=2):\n",
    "        adj = np.eye(self.m * self.n)\n",
    "        for i in range(n_steps):\n",
    "            adj = adj @ self.C\n",
    "        \n",
    "        return adj[self._get_ind(*current_location), self._get_ind(*new_location)] > 0\n",
    "    \n",
    "    def _monsters_xp(self, monsters):\n",
    "        cr_to_xp = {\n",
    "            0: 10,\n",
    "            0.125: 25,\n",
    "            0.25: 50,\n",
    "            0.5: 100,\n",
    "            1: 200,\n",
    "            2: 450,\n",
    "            3: 700,\n",
    "            4: 1100,\n",
    "            5: 1800,\n",
    "            6: 2300,\n",
    "            7: 2900,\n",
    "            8: 3900,\n",
    "            9: 5000,\n",
    "            10: 5900,\n",
    "            11: 7200,\n",
    "            12: 8400,\n",
    "            13: 10000,\n",
    "            14: 11500,\n",
    "            15: 13000,\n",
    "            16: 15000,\n",
    "            17: 18000,\n",
    "            18: 20000,\n",
    "            19: 22000,\n",
    "            20: 25000,\n",
    "            21: 33000,\n",
    "            22: 41000,\n",
    "            23: 50000,\n",
    "            24: 62000,\n",
    "            25: 75000,\n",
    "            26: 90000,\n",
    "            27: 105000,\n",
    "            28: 120000,\n",
    "            29: 135000,\n",
    "            30: 155000\n",
    "        }\n",
    "        \n",
    "        xp = 0\n",
    "        total_monsters = 0\n",
    "        for monster in monsters:\n",
    "            monster_xp = cr_to_xp[self.monster_df.loc[monster]['cr']]\n",
    "            xp += monsters[monster] * monster_xp\n",
    "            total_monsters += monsters[monster]\n",
    "\n",
    "        return self._monster_quantity_multiplier(total_monsters) * xp\n",
    "    \n",
    "    def _obscure_square(self, i, j):\n",
    "        rect = patches.Rectangle((j/self.m, 1 - (i+1)/self.n), 1/self.n, 1/self.m)\n",
    "        self.ax.add_patch(rect)\n",
    "    \n",
    "    def _party_xp(self, difficulty):\n",
    "        xp = 0\n",
    "        for level in self.party:\n",
    "            xp += self.party[level] * self.player_exp_df.loc[level][difficulty]\n",
    "\n",
    "        return xp\n",
    "    \n",
    "    def _vertical_plot(self, walls, obscure=True):\n",
    "        \"\"\"\n",
    "        Helper function to plot all vertical walls \n",
    "        given an array.\n",
    "        \"\"\"\n",
    "        m, n = walls.shape\n",
    "        for i, j in self._indices(walls):\n",
    "            if walls[i, j] == 1:\n",
    "                if obscure:\n",
    "                    if (i, j) not in self.obscured_squares:\n",
    "                        self.ax.vlines((j+1)/(n+1), 1-i/(m), 1-(i+1)/(m))\n",
    "                    elif (i, j+1) not in self.obscured_squares:\n",
    "                        self.ax.vlines((j+1)/(n+1), 1-i/(m), 1-(i+1)/(m))\n",
    "                else:\n",
    "                    self.ax.vlines((j+1)/(n+1), 1-i/(m), 1-(i+1)/(m))\n",
    "\n",
    "\n",
    "    # class methods\n",
    "    @classmethod\n",
    "    def _art(cls, value, n):\n",
    "        if value == 25:\n",
    "            art_dict = {\n",
    "                1: 'Silver ewer',\n",
    "                2: 'Carved bone statuette',\n",
    "                3: 'Small gold bracelet',\n",
    "                4: 'Cloth-of-gold vestments',\n",
    "                5: 'Black velvet mask stitched with silver thread',\n",
    "                6: 'Copper chalice with silver filigree',\n",
    "                7: 'Pair of engraved bone dice',\n",
    "                8: 'Small mirror set in a painted wooden frame',\n",
    "                9: 'Embroidered silk handkerchief',\n",
    "                10: 'Gold locket with a painted portrait inside\t'\n",
    "            }\n",
    "        elif value == 250:\n",
    "            art_dict = {\n",
    "                1: 'Gold ring set with bloodstones',\n",
    "                2: 'Carved ivory statuette',\n",
    "                3: 'Large gold bracelet',\n",
    "                4: 'Silver necklace with a gemstone pendant',\n",
    "                5: 'Bronze crown',\n",
    "                6: 'Silk robe with gold embroidery',\n",
    "                7: 'Large well-made tapestry',\n",
    "                8: 'Brass mug with jade inlay',\n",
    "                9: 'Box of turquoise animal figurines',\n",
    "                10: 'Gold bird cage with electrum filigree'\n",
    "            }\n",
    "        elif value == 750:\n",
    "            art_dict = {\n",
    "                1: 'Silver chalice set with moonstones',\n",
    "                2: 'Silver-plated steel longsword with jet set in hilt',\n",
    "                3: 'Carved harp of exotic wood with ivory inlay and zircon gems',\n",
    "                4: 'Small gold idol',\n",
    "                5: 'Gold dragon comb set with red garnets as eyes',\n",
    "                6: 'Bottle stopper cork embossed with gold leaf and set with amethysts',\n",
    "                7: 'Ceremonial electrum dagger with a black pearl in the pommel',\n",
    "                8: 'Silver and gold brooch',\n",
    "                9: 'Obsidian statuette with gold fittings and inlay',\n",
    "                10: 'Painted gold war mask'\n",
    "            }\n",
    "        elif value == 2500:\n",
    "            art_dict = {\n",
    "                1: 'Fine gold chain set with a fire opal',\n",
    "                2: 'Old masterpiece painting',\n",
    "                3: 'Embroidered silk and velvet mantle set with numerous moonstones',\n",
    "                4: 'Platinum bracelet set with a sapphire',\n",
    "                5: 'Embroidered glove set with jewel chips',\n",
    "                6: 'Jeweled anklet',\n",
    "                7: 'Gold music box',\n",
    "                8: 'Gold circlet set with four aquamarines',\n",
    "                9: 'Eye patch with a mock eye set in blue sapphire andmoonstone',\n",
    "                10: 'A necklace string of small pink pearls'\n",
    "            }\n",
    "        elif value == 7500:\n",
    "            art_dict = {\n",
    "                1: 'Jeweled gold crown',\n",
    "                2: 'Jeweled platinum ring',\n",
    "                3: 'Small gold statuette set with rubies',\n",
    "                4: 'Gold cup set with emeralds',\n",
    "                5: 'Gold jewelry box with platinum filigree',\n",
    "                6: \"Painted gold child's sarcophagus\",\n",
    "                7: 'Jade game board with solid gold playing pieces',\n",
    "                8: 'Bejeweled ivory drinking horn with gold filigree'\n",
    "            }\n",
    "        else:\n",
    "            raise ValueError(f'Invalid art value: {value}')\n",
    "\n",
    "        return [art_dict[cls._roll(1, dx=len(art_dict))] for _ in range(n)]\n",
    "    \n",
    "    @classmethod\n",
    "    def _art_from_dict(cls, treasure_art):\n",
    "        total_art = []\n",
    "        for value in treasure_art:\n",
    "            total_art = total_art + cls._art(value, treasure_art[value])\n",
    "\n",
    "        return total_art\n",
    "    \n",
    "    @classmethod\n",
    "    def _gems(cls, value, n):\n",
    "        if value == 10:\n",
    "            gem_dict = {\n",
    "                1: 'Azurite (opaque mottled deep blue)',\n",
    "                2: 'Banded agate (translucent striped brown, blue, white, or red)',\n",
    "                3: 'Blue quartz (transparent pale blue)',\n",
    "                4: 'Eye agate (translucent circles of gray, white, brown, blue, or green)',\n",
    "                5: 'Hematite (opaque gray-black)',\n",
    "                6: 'Lapis lazuli (opaque light and dark blue with yellow flecks)',\n",
    "                7: 'Malachite (opaque striated light and dark green)',\n",
    "                8: 'Moss agate (translucent pink or yellow-white with mossy gray or green markings)',\n",
    "                9: 'Obsidian (opaque black)',\n",
    "                10: 'Rhodochrosite (opaque light pink)',\n",
    "                11: 'Tiger eye (translucent brown with golden center)',\n",
    "                12: 'Turquoise (opaque light blue-green)'\n",
    "            }\n",
    "        elif value == 50:\n",
    "            gem_dict = {\n",
    "                1: 'Bloodstone (opaque dark gray with red flecks)',\n",
    "                2: 'Carnelian (opaque orange to red-brown)',\n",
    "                3: 'Chalcedony (opaque white)',\n",
    "                4: 'Chrysoprase (translucent green)',\n",
    "                5: 'Citrine (transparent pale yellow-brown)',\n",
    "                6: 'Jasper (opaque blue, black, or brown)',\n",
    "                7: 'Moonstone (translucent white with pale blue glow)',\n",
    "                8: 'Onyx (opaque bands of black and white, or pure black or white)',\n",
    "                9: 'Quartz (transparent white, smoky gray, or yellow)',\n",
    "                10: 'Sardonyx (opaque bands of red and white)',\n",
    "                11: 'Star rose quartz (translucent rosy stone with white star-shaped center)',\n",
    "                12: 'Zircon (transparent pale blue-green)'\n",
    "            }\n",
    "        elif value == 100:\n",
    "            gem_dict = {\n",
    "                1: 'Amber (transparent watery gold to rich gold)',\n",
    "                2: 'Amethyst (transparent deep purple)',\n",
    "                3: 'Chrysoberyl (transparent yellow-green to pale green)',\n",
    "                4: 'Coral (opaque crimson)',\n",
    "                5: 'Garnet (transparent red, brown-green, or violet)',\n",
    "                6: 'Jade (translucent light green, deep green, or white)',\n",
    "                7: 'Jet (opaque deep black)',\n",
    "                8: 'Pearl (opaque lustrous white, yellow, or pink)',\n",
    "                9: 'Spinel (transparent red, red-brown, or deep green)',\n",
    "                10: 'Tourmaline (transparent pale green, blue, brown, or red)'\n",
    "            }\n",
    "        elif value == 500:\n",
    "            gem_dict = {\n",
    "                1: 'Alexandrite (transparent dark green)',\n",
    "                2: 'Aquamarine (transparent pale blue-green)',\n",
    "                3: 'Black pearl (opaque pure black)',\n",
    "                4: 'Blue spinel (transparent deep blue)',\n",
    "                5: 'Peridot (transparent rich olive green)',\n",
    "                6: 'Topaz (transparent golden yellow)',\n",
    "            }\n",
    "        elif value == 1000:\n",
    "            gem_dict = {\n",
    "                1: 'Black opal (translucent dark green with black mottling and golden flecks)',\n",
    "                2: 'Blue sapphire (transparent blue-white to medium blue)',\n",
    "                3: 'Emerald (transparent deep bright green)',\n",
    "                4: 'Fire opal (translucent fiery red)',\n",
    "                5: 'Opal (translucent pale blue with green and golden mottling)',\n",
    "                6: 'Star ruby (translucent ruby with white star-shaped center)',\n",
    "                7: 'Star sapphire (translucent blue sapphire with white star-shaped center)',\n",
    "                8: 'Yellow sapphire (transparent fiery yellow or yellow green)'\n",
    "            }\n",
    "        elif value == 5000:\n",
    "            gem_dict = {\n",
    "                1: 'Black sapphire (translucent lustrous black with glowing highlights)',\n",
    "                2: 'Diamond (transparent blue-white, canary, pink, brown, or blue)',\n",
    "                3: 'Jacinth (transparent fiery orange)',\n",
    "                4: 'Ruby (transparent clear red to deep crimson)'\n",
    "            }\n",
    "        else:\n",
    "            raise ValueError(f'Invalid gem value: {value}')\n",
    "\n",
    "        return [gem_dict[cls._roll(1, dx=len(gem_dict))] for _ in range(n)]\n",
    "    \n",
    "    @classmethod\n",
    "    def _gems_from_dict(cls, treasure_gems):\n",
    "        total_gems = []\n",
    "        for value in treasure_gems:\n",
    "            total_gems = total_gems + cls._gems(value, treasure_gems[value])\n",
    "\n",
    "        return total_gems\n",
    "    \n",
    "    @classmethod\n",
    "    def _magic_item_table_A(cls):\n",
    "        roll = cls._roll(1, dx=100)\n",
    "        if roll <= 50:\n",
    "            return 'Potion of healing'\n",
    "        elif roll <= 60:\n",
    "            return 'Spell scroll (cantrip)'\n",
    "        elif roll <= 70:\n",
    "            return 'Potion of climbing'\n",
    "        elif roll <= 90:\n",
    "            return 'Spell scroll (1st level)'\n",
    "        elif roll <= 94:\n",
    "            return 'Spell scroll (2nd level)'\n",
    "        elif roll <= 98:\n",
    "            return 'Potion of healing (greater)'\n",
    "        elif roll <= 99:\n",
    "            return 'Bag of holding'\n",
    "        else:\n",
    "            return 'Driftglobe'\n",
    "        \n",
    "    @classmethod\n",
    "    def _magic_item_table_B(cls):\n",
    "        roll = cls._roll(1, dx=100)\n",
    "        if roll <= 15:\n",
    "            return 'Potion of healing'\n",
    "        elif roll <= 22:\n",
    "            return 'Potion of fire breath'\n",
    "        elif roll <= 29:\n",
    "            return 'Potion of resistance'\n",
    "        elif roll <= 34:\n",
    "            return 'Ammunition, +1'\n",
    "        elif roll <= 39:\n",
    "            return 'Potion of animal friendship'\n",
    "        elif roll <= 44:\n",
    "            return 'Potion of hill giant strength'\n",
    "        elif roll <= 49:\n",
    "            return 'Potion of growth'\n",
    "        elif roll <= 54:\n",
    "            return 'Potion of water breathing'\n",
    "        elif roll <= 59:\n",
    "            return 'Spell scroll (2nd level)'\n",
    "        elif roll <= 64:\n",
    "            return 'Spell scroll (3rd level)'\n",
    "        elif roll <= 67:\n",
    "            return 'Bag of holding'\n",
    "        elif roll <= 70:\n",
    "            return 'Keoghtom’s ointment'\n",
    "        elif roll <= 73:\n",
    "            return 'Oil of slipperiness'\n",
    "        elif roll <= 75:\n",
    "            return 'Dust of disappearance'\n",
    "        elif roll <= 77:\n",
    "            return 'Dust of dryness'\n",
    "        elif roll <= 79:\n",
    "            return 'Dust of sneezing and choking'\n",
    "        elif roll <= 81:\n",
    "            return 'Elemental gem'\n",
    "        elif roll <= 83:\n",
    "            return 'Philter of love'\n",
    "        elif roll <= 84:\n",
    "            return 'Alchemy jug'\n",
    "        elif roll <= 85:\n",
    "            return 'Cap of water breathing'\n",
    "        elif roll <= 86:\n",
    "            return 'Cloak of the manta ray'\n",
    "        elif roll <= 87:\n",
    "            return 'Driftglobe'\n",
    "        elif roll <= 88:\n",
    "            return 'Goggles of night'\n",
    "        elif roll <= 89:\n",
    "            return 'Helm of comprehending languages'\n",
    "        elif roll <= 90:\n",
    "            return 'Immovable rod'\n",
    "        elif roll <= 91:\n",
    "            return 'Lantern of revealing'\n",
    "        elif roll <= 92:\n",
    "            return 'Mariner’s armor'\n",
    "        elif roll <= 93:\n",
    "            return 'Mithral armor'\n",
    "        elif roll <= 94:\n",
    "            return 'Potion of poison'\n",
    "        elif roll <= 95:\n",
    "            return 'Ring of swimming'\n",
    "        elif roll <= 96:\n",
    "            return 'Robe of useful items'\n",
    "        elif roll <= 97:\n",
    "            return 'Rope of climbing'\n",
    "        elif roll <= 98:\n",
    "            return 'Saddle of the cavalier'\n",
    "        elif roll <= 99:\n",
    "            return 'Wand of magic detection'\n",
    "        else:\n",
    "            return 'Wand of secrets'\n",
    "\n",
    "    @classmethod\n",
    "    def _magic_item_table_C(cls):\n",
    "        roll = cls._roll(1, dx=100)\n",
    "        if roll <= 15:\n",
    "            return 'Potion of healing (superior)'\n",
    "        elif roll <= 22:\n",
    "            return 'Spell scroll (4th level)'\n",
    "        elif roll <= 27:\n",
    "            return 'Ammunition, +2'\n",
    "        elif roll <= 32:\n",
    "            return 'Potion of clairvoyance'\n",
    "        elif roll <= 37:\n",
    "            return 'Potion of diminution'\n",
    "        elif roll <= 42:\n",
    "            return 'Potion of gaseous form'\n",
    "        elif roll <= 47:\n",
    "            return 'Potion of frost giant strength'\n",
    "        elif roll <= 52:\n",
    "            return 'Potion of stone giant strength'\n",
    "        elif roll <= 57:\n",
    "            return 'Potion of heroism'\n",
    "        elif roll <= 62:\n",
    "            return 'Potion of invulnerability'\n",
    "        elif roll <= 67:\n",
    "            return 'Potion of mind reading'\n",
    "        elif roll <= 72:\n",
    "            return 'Spell scroll (5th level)'\n",
    "        elif roll <= 75:\n",
    "            return 'Elixir of health'\n",
    "        elif roll <= 78:\n",
    "            return 'Oil of etherealness'\n",
    "        elif roll <= 81:\n",
    "            return 'Potion of fire giant strength'\n",
    "        elif roll <= 84:\n",
    "            return 'Quaal’s feather token'\n",
    "        elif roll <= 87:\n",
    "            return 'Scroll of protection'\n",
    "        elif roll <= 89:\n",
    "            return 'Bag of beans'\n",
    "        elif roll <= 91:\n",
    "            return 'Bead of force'\n",
    "        elif roll <= 92:\n",
    "            return 'Chime of opening'\n",
    "        elif roll <= 93:\n",
    "            return 'Decanter of endless water'\n",
    "        elif roll <= 94:\n",
    "            return 'Eyes of minute seeing'\n",
    "        elif roll <= 95:\n",
    "            return 'Folding boat'\n",
    "        elif roll <= 96:\n",
    "            return 'Heward’s handy haversack'\n",
    "        elif roll <= 97:\n",
    "            return 'Horseshoes of speed'\n",
    "        elif roll <= 98:\n",
    "            return 'Necklace of fireballs'\n",
    "        elif roll <= 99:\n",
    "            return 'Periapt of health'\n",
    "        else:\n",
    "            return 'Sending stones'\n",
    "\n",
    "    @classmethod\n",
    "    def _magic_item_table_D(cls):\n",
    "        roll = cls._roll(1, dx=100)\n",
    "        if roll <= 20:\n",
    "            return 'Potion of healing (supreme)'\n",
    "        elif roll <= 30:\n",
    "            return 'Potion of invisibility'\n",
    "        elif roll <= 40:\n",
    "            return 'Potion of speed'\n",
    "        elif roll <= 50:\n",
    "            return 'Spell scroll (6th level)'\n",
    "        elif roll <= 57:\n",
    "            return 'Spell scroll (7th level)'\n",
    "        elif roll <= 62:\n",
    "            return 'Ammunition, +3'\n",
    "        elif roll <= 67:\n",
    "            return 'Oil of sharpness'\n",
    "        elif roll <= 72:\n",
    "            return 'Potion of flying'\n",
    "        elif roll <= 77:\n",
    "            return 'Potion of cloud giant strength'\n",
    "        elif roll <= 82:\n",
    "            return 'Potion of longevity'\n",
    "        elif roll <= 87:\n",
    "            return 'Potion of vitality'\n",
    "        elif roll <= 92:\n",
    "            return 'Spell scroll (8th level)'\n",
    "        elif roll <= 95:\n",
    "            return 'Horseshoes of a zephyr'\n",
    "        elif roll <= 98:\n",
    "            return 'Nolzur’s marvelous pigments'\n",
    "        elif roll <= 99:\n",
    "            return 'Bag of devouring'\n",
    "        else:\n",
    "            return 'Portable hole'\n",
    "\n",
    "    @classmethod\n",
    "    def _magic_item_table_E(cls):\n",
    "        roll = cls._roll(1, dx=100)\n",
    "        if roll <= 30:\n",
    "            return 'Spell scroll (8th level)'\n",
    "        elif roll <= 55:\n",
    "            return 'Potion of storm giant strength'\n",
    "        elif roll <= 70:\n",
    "            return 'Potion of healing (supreme)'\n",
    "        elif roll <= 85:\n",
    "            return 'Spell scroll (9th level)'\n",
    "        elif roll <= 93:\n",
    "            return 'Universal solvent'\n",
    "        elif roll <= 98:\n",
    "            return 'Arrow of slaying'\n",
    "        else:\n",
    "            return 'Sovereign glue'\n",
    "\n",
    "    @classmethod\n",
    "    def _magic_item_table_F(cls):\n",
    "        roll = cls._roll(1, dx=100)\n",
    "        if roll <= 15:\n",
    "            return 'Weapon, +1'\n",
    "        elif roll <= 18:\n",
    "            return 'Shield, +1'\n",
    "        elif roll <= 21:\n",
    "            return 'Sentinel shield'\n",
    "        elif roll <= 23:\n",
    "            return 'Amulet of proof against detection and location'\n",
    "        elif roll <= 25:\n",
    "            return 'Boots of elvenkind'\n",
    "        elif roll <= 27:\n",
    "            return 'Boots of striding and springing'\n",
    "        elif roll <= 29:\n",
    "            return 'Bracers of archery'\n",
    "        elif roll <= 31:\n",
    "            return 'Brooch of shielding'\n",
    "        elif roll <= 33:\n",
    "            return 'Broom of flying'\n",
    "        elif roll <= 35:\n",
    "            return 'Cloak of elvenkind'\n",
    "        elif roll <= 37:\n",
    "            return 'Cloak of protection'\n",
    "        elif roll <= 39:\n",
    "            return 'Gauntlets of ogre power'\n",
    "        elif roll <= 41:\n",
    "            return 'Hat of disguise'\n",
    "        elif roll <= 43:\n",
    "            return 'Javelin of lightning'\n",
    "        elif roll <= 45:\n",
    "            return 'Pearl of power'\n",
    "        elif roll <= 47:\n",
    "            return 'Rod of the pact keeper, +1'\n",
    "        elif roll <= 49:\n",
    "            return 'Slippers of spider climbing'\n",
    "        elif roll <= 51:\n",
    "            return 'Staff of the adder'\n",
    "        elif roll <= 53:\n",
    "            return 'Staff of the python'\n",
    "        elif roll <= 55:\n",
    "            return 'Sword of vengeance'\n",
    "        elif roll <= 57:\n",
    "            return 'Trident of fish command'\n",
    "        elif roll <= 59:\n",
    "            return 'Wand of magic missiles'\n",
    "        elif roll <= 61:\n",
    "            return 'Wand of the war mage, +1'\n",
    "        elif roll <= 63:\n",
    "            return 'Wand of web'\n",
    "        elif roll <= 65:\n",
    "            return 'Weapon of warning'\n",
    "        elif roll <= 66:\n",
    "            return 'Adamantine armor (chain mail)'\n",
    "        elif roll <= 67:\n",
    "            return 'Adamantine armor (chain shirt)'\n",
    "        elif roll <= 68:\n",
    "            return 'Adamantine armor (scale mail)'\n",
    "        elif roll <= 69:\n",
    "            return 'Bag of tricks (gray)'\n",
    "        elif roll <= 70:\n",
    "            return 'Bag of tricks (rust)'\n",
    "        elif roll <= 71:\n",
    "            return 'Bag of tricks (tan)'\n",
    "        elif roll <= 72:\n",
    "            return 'Boots of the winterlands'\n",
    "        elif roll <= 73:\n",
    "            return 'Circlet of blasting'\n",
    "        elif roll <= 74:\n",
    "            return 'Deck of illusions'\n",
    "        elif roll <= 75:\n",
    "            return 'Eversmoking bottle'\n",
    "        elif roll <= 76:\n",
    "            return 'Eyes of charming'\n",
    "        elif roll <= 77:\n",
    "            return 'Eyes of the eagle'\n",
    "        elif roll <= 78:\n",
    "            return 'Figurine of wondrous power (silver raven)'\n",
    "        elif roll <= 79:\n",
    "            return 'Gem of brightness'\n",
    "        elif roll <= 80:\n",
    "            return 'Gloves of missile snaring'\n",
    "        elif roll <= 81:\n",
    "            return 'Gloves of swimming and climbing'\n",
    "        elif roll <= 82:\n",
    "            return 'Gloves of thievery'\n",
    "        elif roll <= 83:\n",
    "            return 'Headband of intellect'\n",
    "        elif roll <= 84:\n",
    "            return 'Helm of telepathy'\n",
    "        elif roll <= 85:\n",
    "            return 'Instrument of the bards (Doss lute)'\n",
    "        elif roll <= 86:\n",
    "            return 'Instrument of the bards (Fochlucan bandore)'\n",
    "        elif roll <= 87:\n",
    "            return 'Instrument of the bards (Mac-Fuimidh cittern)'\n",
    "        elif roll <= 88:\n",
    "            return 'Medallion of thoughts'\n",
    "        elif roll <= 89:\n",
    "            return 'Necklace of adaptation'\n",
    "        elif roll <= 90:\n",
    "            return 'Periapt of wound closure'\n",
    "        elif roll <= 91:\n",
    "            return 'Pipes of haunting'\n",
    "        elif roll <= 92:\n",
    "            return 'Pipes of the sewers'\n",
    "        elif roll <= 93:\n",
    "            return 'Ring of jumping'\n",
    "        elif roll <= 94:\n",
    "            return 'Ring of mind shielding'\n",
    "        elif roll <= 95:\n",
    "            return 'Ring of warmth'\n",
    "        elif roll <= 96:\n",
    "            return 'Ring of water walking'\n",
    "        elif roll <= 97:\n",
    "            return 'Quiver of Ehlonna'\n",
    "        elif roll <= 98:\n",
    "            return 'Stone of good luck (luckstone)'\n",
    "        elif roll <= 99:\n",
    "            return 'Wind fan'\n",
    "        else:\n",
    "            return 'Winged boots'\n",
    "\n",
    "    @classmethod\n",
    "    def _magic_item_table_G(cls):\n",
    "        roll = cls._roll(1, dx=100)\n",
    "        if roll <= 11:\n",
    "            return 'Weapon, +2'\n",
    "        elif roll <= 14:\n",
    "            figurines = [\n",
    "                None,\n",
    "                'Figurine of wondrous power (Bronze griffon)',\n",
    "                'Figurine of wondrous power (Ebony fly)',\n",
    "                'Figurine of wondrous power (Golden lions)',\n",
    "                'Figurine of wondrous power (Ivory goats)',\n",
    "                'Figurine of wondrous power (Marble elephant)',\n",
    "                'Figurine of wondrous power (Onyx dog)',\n",
    "                'Figurine of wondrous power (Onyx dog)',\n",
    "                'Figurine of wondrous power (Serpentine owl)'\n",
    "            ]\n",
    "            return figurines[cls._roll(1, dx=8)]\n",
    "        elif roll <= 15:\n",
    "            return 'Adamantine armor (breastplate)'\n",
    "        elif roll <= 16:\n",
    "            return 'Adamantine armor (splint)'\n",
    "        elif roll <= 17:\n",
    "            return 'Amulet of health'\n",
    "        elif roll <= 18:\n",
    "            return 'Armor of vulnerability'\n",
    "        elif roll <= 19:\n",
    "            return 'Arrow-catching shield'\n",
    "        elif roll <= 20:\n",
    "            return 'Belt of dwarvenkind'\n",
    "        elif roll <= 21:\n",
    "            return 'Belt of hill giant strength'\n",
    "        elif roll <= 22:\n",
    "            return 'Berserker axe'\n",
    "        elif roll <= 23:\n",
    "            return 'Boots of levitation'\n",
    "        elif roll <= 24:\n",
    "            return 'Boots of speed'\n",
    "        elif roll <= 25:\n",
    "            return 'Bowl of commanding water elementals'\n",
    "        elif roll <= 26:\n",
    "            return 'Bracers of defense'\n",
    "        elif roll <= 27:\n",
    "            return 'Brazier of commanding fire elementals'\n",
    "        elif roll <= 28:\n",
    "            return 'Cape of the mountebank'\n",
    "        elif roll <= 29:\n",
    "            return 'Censer of controlling air elementals'\n",
    "        elif roll <= 30:\n",
    "            return 'Armor, +1 chain mail'\n",
    "        elif roll <= 31:\n",
    "            return 'Armor of resistance (chain mail)'\n",
    "        elif roll <= 32:\n",
    "            return 'Armor, +1 chain shirt'\n",
    "        elif roll <= 33:\n",
    "            return 'Armor of resistance (chain shirt)'\n",
    "        elif roll <= 34:\n",
    "            return 'Cloak of displacement'\n",
    "        elif roll <= 35:\n",
    "            return 'Cloak of the bat'\n",
    "        elif roll <= 36:\n",
    "            return 'Cube of force'\n",
    "        elif roll <= 37:\n",
    "            return 'Daern’s instant fortress'\n",
    "        elif roll <= 38:\n",
    "            return 'Dagger of venom'\n",
    "        elif roll <= 39:\n",
    "            return 'Dimensional shackles'\n",
    "        elif roll <= 40:\n",
    "            return 'Dragon slayer'\n",
    "        elif roll <= 41:\n",
    "            return 'Elven chain'\n",
    "        elif roll <= 42:\n",
    "            return 'Flame tongue'\n",
    "        elif roll <= 43:\n",
    "            return 'Gem of seeing'\n",
    "        elif roll <= 44:\n",
    "            return 'Giant slayer'\n",
    "        elif roll <= 45:\n",
    "            return 'Glamoured studded leather'\n",
    "        elif roll <= 46:\n",
    "            return 'Helm of teleportation'\n",
    "        elif roll <= 47:\n",
    "            return 'Horn of blasting'\n",
    "        elif roll <= 48:\n",
    "            return 'Horn of Valhalla (silver or brass)'\n",
    "        elif roll <= 49:\n",
    "            return 'Instrument of the bards (Canaith mandolin)'\n",
    "        elif roll <= 50:\n",
    "            return 'Instrument of the bards (Cli lyre)'\n",
    "        elif roll <= 51:\n",
    "            return 'Ioun stone (awareness)'\n",
    "        elif roll <= 52:\n",
    "            return 'Ioun stone (protection)'\n",
    "        elif roll <= 53:\n",
    "            return 'Ioun stone (reserve)'\n",
    "        elif roll <= 54:\n",
    "            return 'Ioun stone (sustenance)'\n",
    "        elif roll <= 55:\n",
    "            return 'Iron bands of Bilarro'\n",
    "        elif roll <= 56:\n",
    "            return 'Armor, +1 leather'\n",
    "        elif roll <= 57:\n",
    "            return 'Armor of resistance (leather)'\n",
    "        elif roll <= 58:\n",
    "            return 'Mace of disruption'\n",
    "        elif roll <= 59:\n",
    "            return 'Mace of smiting'\n",
    "        elif roll <= 60:\n",
    "            return 'Mace of terror'\n",
    "        elif roll <= 61:\n",
    "            return 'Mantle of spell resistance'\n",
    "        elif roll <= 62:\n",
    "            return 'Necklace of prayer beads'\n",
    "        elif roll <= 63:\n",
    "            return 'Periapt of proof against poison'\n",
    "        elif roll <= 64:\n",
    "            return 'Ring of animal influence'\n",
    "        elif roll <= 65:\n",
    "            return 'Ring of evasion'\n",
    "        elif roll <= 66:\n",
    "            return 'Ring of feather falling'\n",
    "        elif roll <= 67:\n",
    "            return 'Ring of free action'\n",
    "        elif roll <= 68:\n",
    "            return 'Ring of protection'\n",
    "        elif roll <= 69:\n",
    "            return 'Ring of resistance'\n",
    "        elif roll <= 70:\n",
    "            return 'Ring of spell storing'\n",
    "        elif roll <= 71:\n",
    "            return 'Ring of the ram'\n",
    "        elif roll <= 72:\n",
    "            return 'Ring of X-ray vision'\n",
    "        elif roll <= 73:\n",
    "            return 'Robe of eyes'\n",
    "        elif roll <= 74:\n",
    "            return 'Rod of rulership'\n",
    "        elif roll <= 75:\n",
    "            return 'Rod of the pact keeper, +2'\n",
    "        elif roll <= 76:\n",
    "            return 'Rope of entanglement'\n",
    "        elif roll <= 77:\n",
    "            return 'Armor, +1 scale mail'\n",
    "        elif roll <= 78:\n",
    "            return 'Armor of resistance (scale mail)'\n",
    "        elif roll <= 79:\n",
    "            return 'Shield, +2'\n",
    "        elif roll <= 80:\n",
    "            return 'Shield of missile attraction'\n",
    "        elif roll <= 81:\n",
    "            return 'Staff of charming'\n",
    "        elif roll <= 82:\n",
    "            return 'Staff of healing'\n",
    "        elif roll <= 83:\n",
    "            return 'Staff of swarming insects'\n",
    "        elif roll <= 84:\n",
    "            return 'Staff of the woodlands'\n",
    "        elif roll <= 85:\n",
    "            return 'Staff of withering'\n",
    "        elif roll <= 86:\n",
    "            return 'Stone of controlling earth elementals'\n",
    "        elif roll <= 87:\n",
    "            return 'Sun blade'\n",
    "        elif roll <= 88:\n",
    "            return 'Sword of life stealing'\n",
    "        elif roll <= 89:\n",
    "            return 'Sword of wounding'\n",
    "        elif roll <= 90:\n",
    "            return 'Tentacle rod'\n",
    "        elif roll <= 91:\n",
    "            return 'Vicious weapon'\n",
    "        elif roll <= 92:\n",
    "            return 'Wand of binding'\n",
    "        elif roll <= 93:\n",
    "            return 'Wand of enemy detection'\n",
    "        elif roll <= 94:\n",
    "            return 'Wand of fear'\n",
    "        elif roll <= 95:\n",
    "            return 'Wand of fireballs'\n",
    "        elif roll <= 96:\n",
    "            return 'Wand of lightning bolts'\n",
    "        elif roll <= 97:\n",
    "            return 'Wand of paralysis'\n",
    "        elif roll <= 98:\n",
    "            return 'Wand of the war mage, +2'\n",
    "        elif roll <= 99:\n",
    "            return 'Wand of wonder'\n",
    "        else:\n",
    "            return 'Wings of flying'\n",
    "\n",
    "    @classmethod\n",
    "    def _magic_item_table_H(cls):\n",
    "        roll = cls._roll(1, dx=100)\n",
    "        if roll <= 10:\n",
    "            return 'Weapon, +3'\n",
    "        elif roll <= 12:\n",
    "            return 'Amulet of the planes'\n",
    "        elif roll <= 14:\n",
    "            return 'Carpet of flying'\n",
    "        elif roll <= 16:\n",
    "            return 'Crystal ball (very rare version)'\n",
    "        elif roll <= 18:\n",
    "            return 'Ring of regeneration'\n",
    "        elif roll <= 20:\n",
    "            return 'Ring of shooting stars'\n",
    "        elif roll <= 22:\n",
    "            return 'Ring of telekinesis'\n",
    "        elif roll <= 24:\n",
    "            return 'Robe of scintillating colors'\n",
    "        elif roll <= 26:\n",
    "            return 'Robe of stars'\n",
    "        elif roll <= 28:\n",
    "            return 'Rod of absorption'\n",
    "        elif roll <= 30:\n",
    "            return 'Rod of alertness'\n",
    "        elif roll <= 32:\n",
    "            return 'Rod of security'\n",
    "        elif roll <= 34:\n",
    "            return 'Rod of the pact keeper, +3'\n",
    "        elif roll <= 36:\n",
    "            return 'Scimitar of speed'\n",
    "        elif roll <= 38:\n",
    "            return 'Shield, +3'\n",
    "        elif roll <= 40:\n",
    "            return 'Staff of fire'\n",
    "        elif roll <= 42:\n",
    "            return 'Staff of frost'\n",
    "        elif roll <= 44:\n",
    "            return 'Staff of power'\n",
    "        elif roll <= 46:\n",
    "            return 'Staff of striking'\n",
    "        elif roll <= 48:\n",
    "            return 'Staff of thunder and lightning'\n",
    "        elif roll <= 50:\n",
    "            return 'Sword of sharpness'\n",
    "        elif roll <= 52:\n",
    "            return 'Wand of polymorph'\n",
    "        elif roll <= 54:\n",
    "            return 'Wand of the war mage, +3'\n",
    "        elif roll <= 55:\n",
    "            return 'Adamantine armor (half plate)'\n",
    "        elif roll <= 56:\n",
    "            return 'Adamantine armor (plate)'\n",
    "        elif roll <= 57:\n",
    "            return 'Animated shield'\n",
    "        elif roll <= 58:\n",
    "            return 'Belt of fire giant strength'\n",
    "        elif roll <= 59:\n",
    "            return 'Belt of frost giant strength (or stone)'\n",
    "        elif roll <= 60:\n",
    "            return 'Armor, +1 breastplate'\n",
    "        elif roll <= 61:\n",
    "            return 'Armor of resistance (breastplate)'\n",
    "        elif roll <= 62:\n",
    "            return 'Candle of invocation'\n",
    "        elif roll <= 63:\n",
    "            return 'Armor, +2 chain mail'\n",
    "        elif roll <= 64:\n",
    "            return 'Armor, +2 chain shirt'\n",
    "        elif roll <= 65:\n",
    "            return 'Cloak of arachnida'\n",
    "        elif roll <= 66:\n",
    "            return 'Dancing sword'\n",
    "        elif roll <= 67:\n",
    "            return 'Demon armor'\n",
    "        elif roll <= 68:\n",
    "            return 'Dragon scale mail'\n",
    "        elif roll <= 69:\n",
    "            return 'Dwarven plate'\n",
    "        elif roll <= 70:\n",
    "            return 'Dwarven thrower'\n",
    "        elif roll <= 71:\n",
    "            return 'Efreeti bottle'\n",
    "        elif roll <= 72:\n",
    "            return 'Figurine of wondrous power (obsidian steed)'\n",
    "        elif roll <= 73:\n",
    "            return 'Frost brand'\n",
    "        elif roll <= 74:\n",
    "            return 'Helm of brilliance'\n",
    "        elif roll <= 75:\n",
    "            return 'Horn of Valhalla (bronze)'\n",
    "        elif roll <= 76:\n",
    "            return 'Instrument of the bards (Anstruth harp)'\n",
    "        elif roll <= 77:\n",
    "            return 'Ioun stone (absorption)'\n",
    "        elif roll <= 78:\n",
    "            return 'Ioun stone (agility)'\n",
    "        elif roll <= 79:\n",
    "            return 'Ioun stone (fortitude)'\n",
    "        elif roll <= 80:\n",
    "            return 'Ioun stone (insight)'\n",
    "        elif roll <= 81:\n",
    "            return 'Ioun stone (intellect)'\n",
    "        elif roll <= 82:\n",
    "            return 'Ioun stone (leadership)'\n",
    "        elif roll <= 83:\n",
    "            return 'Ioun stone (strength)'\n",
    "        elif roll <= 84:\n",
    "            return 'Armor, +2 leather'\n",
    "        elif roll <= 85:\n",
    "            return 'Manual of bodily health'\n",
    "        elif roll <= 86:\n",
    "            return 'Manual of gainful exercise'\n",
    "        elif roll <= 87:\n",
    "            return 'Manual of golems'\n",
    "        elif roll <= 88:\n",
    "            return 'Manual of quickness of action'\n",
    "        elif roll <= 89:\n",
    "            return 'Mirror of life trapping'\n",
    "        elif roll <= 90:\n",
    "            return 'Nine lives stealer'\n",
    "        elif roll <= 91:\n",
    "            return 'Oathbow'\n",
    "        elif roll <= 92:\n",
    "            return 'Armor, +2 scale mail'\n",
    "        elif roll <= 93:\n",
    "            return 'Spellguard shield'\n",
    "        elif roll <= 94:\n",
    "            return 'Armor, +1 splint'\n",
    "        elif roll <= 95:\n",
    "            return 'Armor of resistance (splint)'\n",
    "        elif roll <= 96:\n",
    "            return 'Armor, +1 studded leather'\n",
    "        elif roll <= 97:\n",
    "            return 'Armor of resistance (studded leather)'\n",
    "        elif roll <= 98:\n",
    "            return 'Tome of clear thought'\n",
    "        elif roll <= 99:\n",
    "            return 'Tome of leadership and influence'\n",
    "        else:\n",
    "            return 'Tome of understanding'\n",
    "\n",
    "    @classmethod\n",
    "    def _magic_item_table_I(cls):\n",
    "        roll = cls._roll(1, dx=100)\n",
    "        if roll <= 5:\n",
    "            return 'Defender'\n",
    "        elif roll <= 10:\n",
    "            return 'Hammer of thunderbolts'\n",
    "        elif roll <= 15:\n",
    "            return 'Luck blade'\n",
    "        elif roll <= 20:\n",
    "            return 'Sword of answering'\n",
    "        elif roll <= 23:\n",
    "            return 'Holy avenger'\n",
    "        elif roll <= 26:\n",
    "            return 'Ring of djinni summoning'\n",
    "        elif roll <= 29:\n",
    "            return 'Ring of invisibility'\n",
    "        elif roll <= 32:\n",
    "            return 'Ring of spell turning'\n",
    "        elif roll <= 35:\n",
    "            return 'Rod of lordly might'\n",
    "        elif roll <= 38:\n",
    "            return 'Staff of the magi'\n",
    "        elif roll <= 41:\n",
    "            return 'Vorpal sword'\n",
    "        elif roll <= 43:\n",
    "            return 'Belt of cloud giant strength'\n",
    "        elif roll <= 45:\n",
    "            return 'Armor, +2 breastplate'\n",
    "        elif roll <= 47:\n",
    "            return 'Armor, +3 chain mail'\n",
    "        elif roll <= 49:\n",
    "            return 'Armor, +3 chain shirt'\n",
    "        elif roll <= 51:\n",
    "            return 'Cloak of invisibility'\n",
    "        elif roll <= 53:\n",
    "            return 'Crystal ball (legendary version)'\n",
    "        elif roll <= 55:\n",
    "            return 'Armor, +1 half plate'\n",
    "        elif roll <= 57:\n",
    "            return 'Iron flask'\n",
    "        elif roll <= 59:\n",
    "            return 'Armor, +3 leather'\n",
    "        elif roll <= 61:\n",
    "            return 'Armor, +1 plate'\n",
    "        elif roll <= 63:\n",
    "            return 'Robe of the archmagi'\n",
    "        elif roll <= 65:\n",
    "            return 'Rod of resurrection'\n",
    "        elif roll <= 67:\n",
    "            return 'Armor, +1 scale mail'\n",
    "        elif roll <= 69:\n",
    "            return 'Scarab of protection'\n",
    "        elif roll <= 71:\n",
    "            return 'Armor, +2 splint'\n",
    "        elif roll <= 73:\n",
    "            return 'Armor, +2 studded leather'\n",
    "        elif roll <= 75:\n",
    "            return 'Well of many worlds'\n",
    "        elif roll <= 76:\n",
    "            armor = [\n",
    "                None,\n",
    "                'Armor, +2 half plate',\n",
    "                'Armor, +2 half plate',\n",
    "                'Armor, +2 plate',\n",
    "                'Armor, +2 plate',\n",
    "                'Armor, +3 studded leather',\n",
    "                'Armor, +3 studded leather',\n",
    "                'Armor, +3 breastplate',\n",
    "                'Armor, +3 breastplate',\n",
    "                'Armor, +3 splint',\n",
    "                'Armor, +3 splint',\n",
    "                'Armor, +3 half plate',\n",
    "                'Armor, +3 plate'\n",
    "            ]\n",
    "            return armor[cls._roll(1, dx=12)]\n",
    "        elif roll <= 77:\n",
    "            return 'Apparatus of Kwalish'\n",
    "        elif roll <= 78:\n",
    "            return 'Armor of invulnerability'\n",
    "        elif roll <= 79:\n",
    "            return 'Belt of storm giant strength'\n",
    "        elif roll <= 80:\n",
    "            return 'Cubic gate'\n",
    "        elif roll <= 81:\n",
    "            return 'Deck of many things'\n",
    "        elif roll <= 82:\n",
    "            return 'Efreeti chain'\n",
    "        elif roll <= 83:\n",
    "            return 'Armor of resistance (half plate)'\n",
    "        elif roll <= 84:\n",
    "            return 'Horn of Valhalla (iron)'\n",
    "        elif roll <= 85:\n",
    "            return 'Instrument of the bards (Ollamh harp)'\n",
    "        elif roll <= 86:\n",
    "            return 'Ioun stone (greater absorption)'\n",
    "        elif roll <= 87:\n",
    "            return 'Ioun stone (mastery)'\n",
    "        elif roll <= 88:\n",
    "            return 'Ioun stone (regeneration)'\n",
    "        elif roll <= 89:\n",
    "            return 'Plate armor of etherealness'\n",
    "        elif roll <= 90:\n",
    "            return 'Armor of resistance (plate)'\n",
    "        elif roll <= 91:\n",
    "            return 'Ring of air elemental command'\n",
    "        elif roll <= 92:\n",
    "            return 'Ring of earth elemental command'\n",
    "        elif roll <= 93:\n",
    "            return 'Ring of fire elemental command'\n",
    "        elif roll <= 94:\n",
    "            return 'Ring of three wishes'\n",
    "        elif roll <= 95:\n",
    "            return 'Ring of water elemental command'\n",
    "        elif roll <= 96:\n",
    "            return 'Sphere of annihilation'\n",
    "        elif roll <= 97:\n",
    "            return 'Talisman of pure good'\n",
    "        elif roll <= 98:\n",
    "            return 'Talisman of the sphere'\n",
    "        elif roll <= 99:\n",
    "            return 'Talisman of ultimate evil'\n",
    "        else:\n",
    "            return 'Tome of the stilled tongue'\n",
    "    \n",
    "    @classmethod\n",
    "    def _magic_items(cls, table, n):\n",
    "        if table == 'A':\n",
    "            return [cls._magic_item_table_A() for _ in range(n)]\n",
    "        elif table == 'B':\n",
    "            return [cls._magic_item_table_B() for _ in range(n)]\n",
    "        elif table == 'C':\n",
    "            return [cls._magic_item_table_C() for _ in range(n)]\n",
    "        elif table == 'D':\n",
    "            return [cls._magic_item_table_D() for _ in range(n)]\n",
    "        elif table == 'E':\n",
    "            return [cls._magic_item_table_E() for _ in range(n)]\n",
    "        elif table == 'F':\n",
    "            return [cls._magic_item_table_F() for _ in range(n)]\n",
    "        elif table == 'G':\n",
    "            return [cls._magic_item_table_G() for _ in range(n)]\n",
    "        elif table == 'H':\n",
    "            return [cls._magic_item_table_H() for _ in range(n)]\n",
    "        elif table == 'I':\n",
    "            return [cls._magic_item_table_I() for _ in range(n)]\n",
    "        else:\n",
    "            raise ValueError(f'Invalid magic item table: {table}')\n",
    "    \n",
    "    @classmethod\n",
    "    def _magic_items_from_dict(cls, treasure_magic_items):\n",
    "        total_magic_items = []\n",
    "        for table in treasure_magic_items:\n",
    "            total_magic_items = total_magic_items + cls._magic_items(table, treasure_magic_items[table])\n",
    "\n",
    "        return total_magic_items\n",
    "    \n",
    "    \n",
    "    # static methods\n",
    "    @staticmethod\n",
    "    def _avg_party_level(party):\n",
    "        total_levels = np.sum([party[level] * level for level in party])\n",
    "        party_members = np.sum([party[level] for level in party])\n",
    "        return total_levels / party_members\n",
    "    \n",
    "    @staticmethod\n",
    "    def _extract_cr(row):\n",
    "        if 'lvl' in row.name:\n",
    "            return float(row.name[row.name.find('lvl') + 4:])\n",
    "        elif row['cr'] == '1/2':\n",
    "            return .5\n",
    "        elif row['cr'] == '1/4':\n",
    "            return .25\n",
    "        elif row['cr'] == '1/8':\n",
    "            return .125\n",
    "        else:\n",
    "            return float(row['cr'])\n",
    "    \n",
    "    @staticmethod\n",
    "    def _indices(A):\n",
    "        \"\"\" \n",
    "        Helper function to get all the indices of an \n",
    "        array without a double for loop.\n",
    "        \"\"\"\n",
    "        m, n = A.shape\n",
    "        x_indices = np.ravel([[i]*n for i in range(m)])\n",
    "        y_indices = np.ravel(list(range(n))*m)\n",
    "        return list(zip(x_indices, y_indices))\n",
    "    \n",
    "    @staticmethod\n",
    "    def _monster_quantity_multiplier(n):\n",
    "        if n <= 1:\n",
    "            return 1\n",
    "        elif n <= 2: \n",
    "            return 1.5\n",
    "        elif n <= 6:\n",
    "            return 2\n",
    "        elif n <= 10:\n",
    "            return 2.5\n",
    "        elif n <= 14:\n",
    "            return 3\n",
    "        else:\n",
    "            return 4\n",
    "        \n",
    "    @staticmethod\n",
    "    def _roll(n, dx=6):\n",
    "        return np.sum(np.random.randint(1, dx, size=n))"
   ]
  },
  {
   "cell_type": "code",
   "execution_count": 238,
   "metadata": {},
   "outputs": [
    {
     "ename": "UnboundLocalError",
     "evalue": "local variable 'new_location' referenced before assignment",
     "output_type": "error",
     "traceback": [
      "\u001b[0;31m------------------------------------------------------\u001b[0m",
      "\u001b[0;31mUnboundLocalError\u001b[0m    Traceback (most recent call last)",
      "\u001b[0;32m<ipython-input-238-439b5d17b0c4>\u001b[0m in \u001b[0;36m<module>\u001b[0;34m\u001b[0m\n\u001b[0;32m----> 1\u001b[0;31m \u001b[0mdungeon\u001b[0m \u001b[0;34m=\u001b[0m \u001b[0mDungeon\u001b[0m\u001b[0;34m(\u001b[0m\u001b[0;34m{\u001b[0m\u001b[0;36m17\u001b[0m\u001b[0;34m:\u001b[0m\u001b[0;36m5\u001b[0m\u001b[0;34m}\u001b[0m\u001b[0;34m)\u001b[0m\u001b[0;34m\u001b[0m\u001b[0;34m\u001b[0m\u001b[0m\n\u001b[0m",
      "\u001b[0;32m<ipython-input-237-db563c01aa8d>\u001b[0m in \u001b[0;36m__init__\u001b[0;34m(self, party, m, n, p_wall, square_density, plot_size)\u001b[0m\n\u001b[1;32m     25\u001b[0m \u001b[0;34m\u001b[0m\u001b[0m\n\u001b[1;32m     26\u001b[0m         \u001b[0mself\u001b[0m\u001b[0;34m.\u001b[0m\u001b[0mgenerate_map\u001b[0m\u001b[0;34m(\u001b[0m\u001b[0;34m)\u001b[0m\u001b[0;34m\u001b[0m\u001b[0;34m\u001b[0m\u001b[0m\n\u001b[0;32m---> 27\u001b[0;31m         \u001b[0mself\u001b[0m\u001b[0;34m.\u001b[0m\u001b[0mplace_encounters\u001b[0m\u001b[0;34m(\u001b[0m\u001b[0;34m)\u001b[0m\u001b[0;34m\u001b[0m\u001b[0;34m\u001b[0m\u001b[0m\n\u001b[0m\u001b[1;32m     28\u001b[0m \u001b[0;34m\u001b[0m\u001b[0m\n\u001b[1;32m     29\u001b[0m         \u001b[0mself\u001b[0m\u001b[0;34m.\u001b[0m\u001b[0mplayer_exp_df\u001b[0m \u001b[0;34m=\u001b[0m \u001b[0mpd\u001b[0m\u001b[0;34m.\u001b[0m\u001b[0mread_csv\u001b[0m\u001b[0;34m(\u001b[0m\u001b[0;34m'dnd_player_exp'\u001b[0m\u001b[0;34m,\u001b[0m \u001b[0mindex_col\u001b[0m\u001b[0;34m=\u001b[0m\u001b[0;36m0\u001b[0m\u001b[0;34m)\u001b[0m\u001b[0;34m\u001b[0m\u001b[0;34m\u001b[0m\u001b[0m\n",
      "\u001b[0;32m<ipython-input-237-db563c01aa8d>\u001b[0m in \u001b[0;36mplace_encounters\u001b[0;34m(self)\u001b[0m\n\u001b[1;32m   1016\u001b[0m                         \u001b[0mvalid_location\u001b[0m \u001b[0;34m=\u001b[0m \u001b[0;32mFalse\u001b[0m\u001b[0;34m\u001b[0m\u001b[0;34m\u001b[0m\u001b[0m\n\u001b[1;32m   1017\u001b[0m                         \u001b[0;32mpass\u001b[0m\u001b[0;34m\u001b[0m\u001b[0;34m\u001b[0m\u001b[0m\n\u001b[0;32m-> 1018\u001b[0;31m                 \u001b[0mself\u001b[0m\u001b[0;34m.\u001b[0m\u001b[0mencounter_locs\u001b[0m\u001b[0;34m[\u001b[0m\u001b[0mself\u001b[0m\u001b[0;34m.\u001b[0m\u001b[0mdifficulty_dict\u001b[0m\u001b[0;34m[\u001b[0m\u001b[0mi\u001b[0m\u001b[0;34m]\u001b[0m\u001b[0;34m]\u001b[0m \u001b[0;34m=\u001b[0m \u001b[0mnew_location\u001b[0m\u001b[0;34m\u001b[0m\u001b[0;34m\u001b[0m\u001b[0m\n\u001b[0m\u001b[1;32m   1019\u001b[0m \u001b[0;34m\u001b[0m\u001b[0m\n\u001b[1;32m   1020\u001b[0m             \u001b[0mnew_location\u001b[0m \u001b[0;34m=\u001b[0m \u001b[0mself\u001b[0m\u001b[0;34m.\u001b[0m\u001b[0m_granular_to_dense\u001b[0m\u001b[0;34m(\u001b[0m\u001b[0;34m*\u001b[0m\u001b[0mnew_location_granular\u001b[0m\u001b[0;34m)\u001b[0m\u001b[0;34m\u001b[0m\u001b[0;34m\u001b[0m\u001b[0m\n",
      "\u001b[0;31mUnboundLocalError\u001b[0m: local variable 'new_location' referenced before assignment"
     ]
    }
   ],
   "source": [
    "dungeon = Dungeon({17:5})"
   ]
  },
  {
   "cell_type": "code",
   "execution_count": 234,
   "metadata": {
    "scrolled": true
   },
   "outputs": [
    {
     "data": {
      "image/png": "[encoded data removed]",
      "text/plain": [
       "<Figure size 360x360 with 1 Axes>"
      ]
     },
     "metadata": {},
     "output_type": "display_data"
    },
    {
     "name": "stdout",
     "output_type": "stream",
     "text": [
      "Input your direction (wasd) or 'p' for pause: s\n"
     ]
    },
    {
     "data": {
      "image/png": "[encoded data removed]",
      "text/plain": [
       "<Figure size 360x360 with 1 Axes>"
      ]
     },
     "metadata": {},
     "output_type": "display_data"
    },
    {
     "name": "stdout",
     "output_type": "stream",
     "text": [
      "Input your direction (wasd) or 'p' for pause: s\n"
     ]
    },
    {
     "data": {
      "image/png": "[encoded data removed]",
      "text/plain": [
       "<Figure size 360x360 with 1 Axes>"
      ]
     },
     "metadata": {},
     "output_type": "display_data"
    },
    {
     "name": "stdout",
     "output_type": "stream",
     "text": [
      "Input your direction (wasd) or 'p' for pause: s\n"
     ]
    },
    {
     "data": {
      "image/png": "[encoded data removed]",
      "text/plain": [
       "<Figure size 360x360 with 1 Axes>"
      ]
     },
     "metadata": {},
     "output_type": "display_data"
    },
    {
     "name": "stdout",
     "output_type": "stream",
     "text": [
      "Input your direction (wasd) or 'p' for pause: s\n"
     ]
    },
    {
     "data": {
      "image/png": "[encoded data removed]",
      "text/plain": [
       "<Figure size 360x360 with 1 Axes>"
      ]
     },
     "metadata": {},
     "output_type": "display_data"
    },
    {
     "name": "stdout",
     "output_type": "stream",
     "text": [
      "Input your direction (wasd) or 'p' for pause: s\n"
     ]
    },
    {
     "data": {
      "image/png": "[encoded data removed]",
      "text/plain": [
       "<Figure size 360x360 with 1 Axes>"
      ]
     },
     "metadata": {},
     "output_type": "display_data"
    },
    {
     "name": "stdout",
     "output_type": "stream",
     "text": [
      "Input your direction (wasd) or 'p' for pause: a\n"
     ]
    },
    {
     "data": {
      "image/png": "[encoded data removed]",
      "text/plain": [
       "<Figure size 360x360 with 1 Axes>"
      ]
     },
     "metadata": {},
     "output_type": "display_data"
    },
    {
     "name": "stdout",
     "output_type": "stream",
     "text": [
      "Input your direction (wasd) or 'p' for pause: a\n"
     ]
    },
    {
     "data": {
      "image/png": "[encoded data removed]",
      "text/plain": [
       "<Figure size 360x360 with 1 Axes>"
      ]
     },
     "metadata": {},
     "output_type": "display_data"
    },
    {
     "name": "stdout",
     "output_type": "stream",
     "text": [
      "Input your direction (wasd) or 'p' for pause: a\n"
     ]
    },
    {
     "data": {
      "image/png": "[encoded data removed]",
      "text/plain": [
       "<Figure size 360x360 with 1 Axes>"
      ]
     },
     "metadata": {},
     "output_type": "display_data"
    },
    {
     "name": "stdout",
     "output_type": "stream",
     "text": [
      "Input your direction (wasd) or 'p' for pause: w\n"
     ]
    },
    {
     "data": {
      "image/png": "[encoded data removed]",
      "text/plain": [
       "<Figure size 360x360 with 1 Axes>"
      ]
     },
     "metadata": {},
     "output_type": "display_data"
    },
    {
     "name": "stdout",
     "output_type": "stream",
     "text": [
      "Input your direction (wasd) or 'p' for pause: w\n"
     ]
    },
    {
     "data": {
      "image/png": "[encoded data removed]",
      "text/plain": [
       "<Figure size 360x360 with 1 Axes>"
      ]
     },
     "metadata": {},
     "output_type": "display_data"
    },
    {
     "name": "stdout",
     "output_type": "stream",
     "text": [
      "Hard :\n",
      "{'eidolon': 1, 'the-lonely': 2}\n",
      "Did you win? (y/n)a\n",
      "Did you win? (y/n)y\n",
      "Good work!\n"
     ]
    },
    {
     "data": {
      "image/png": "[encoded data removed]",
      "text/plain": [
       "<Figure size 360x360 with 1 Axes>"
      ]
     },
     "metadata": {},
     "output_type": "display_data"
    },
    {
     "name": "stdout",
     "output_type": "stream",
     "text": [
      "Input your direction (wasd) or 'p' for pause: a\n"
     ]
    },
    {
     "data": {
      "image/png": "[encoded data removed]",
      "text/plain": [
       "<Figure size 360x360 with 1 Axes>"
      ]
     },
     "metadata": {},
     "output_type": "display_data"
    },
    {
     "name": "stdout",
     "output_type": "stream",
     "text": [
      "Input your direction (wasd) or 'p' for pause: a\n"
     ]
    },
    {
     "data": {
      "image/png": "[encoded data removed]",
      "text/plain": [
       "<Figure size 360x360 with 1 Axes>"
      ]
     },
     "metadata": {},
     "output_type": "display_data"
    },
    {
     "name": "stdout",
     "output_type": "stream",
     "text": [
      "Input your direction (wasd) or 'p' for pause: a\n"
     ]
    },
    {
     "data": {
      "image/png": "[encoded data removed]",
      "text/plain": [
       "<Figure size 360x360 with 1 Axes>"
      ]
     },
     "metadata": {},
     "output_type": "display_data"
    },
    {
     "name": "stdout",
     "output_type": "stream",
     "text": [
      "Input your direction (wasd) or 'p' for pause: s\n"
     ]
    },
    {
     "data": {
      "image/png": "[encoded data removed]",
      "text/plain": [
       "<Figure size 360x360 with 1 Axes>"
      ]
     },
     "metadata": {},
     "output_type": "display_data"
    },
    {
     "name": "stdout",
     "output_type": "stream",
     "text": [
      "Input your direction (wasd) or 'p' for pause: s\n"
     ]
    },
    {
     "data": {
      "image/png": "[encoded data removed]",
      "text/plain": [
       "<Figure size 360x360 with 1 Axes>"
      ]
     },
     "metadata": {},
     "output_type": "display_data"
    },
    {
     "name": "stdout",
     "output_type": "stream",
     "text": [
      "Input your direction (wasd) or 'p' for pause: s\n"
     ]
    },
    {
     "data": {
      "image/png": "[encoded data removed]",
      "text/plain": [
       "<Figure size 360x360 with 1 Axes>"
      ]
     },
     "metadata": {},
     "output_type": "display_data"
    },
    {
     "name": "stdout",
     "output_type": "stream",
     "text": [
      "Medium :\n",
      "{'azer': 1, 'grell': 3, 'clay-golem': 2}\n",
      "Did you win? (y/n)a\n",
      "Did you win? (y/n)y\n",
      "Good work!\n"
     ]
    },
    {
     "data": {
      "image/png": "[encoded data removed]",
      "text/plain": [
       "<Figure size 360x360 with 1 Axes>"
      ]
     },
     "metadata": {},
     "output_type": "display_data"
    },
    {
     "name": "stdout",
     "output_type": "stream",
     "text": [
      "Input your direction (wasd) or 'p' for pause: a\n"
     ]
    },
    {
     "data": {
      "image/png": "[encoded data removed]",
      "text/plain": [
       "<Figure size 360x360 with 1 Axes>"
      ]
     },
     "metadata": {},
     "output_type": "display_data"
    },
    {
     "name": "stdout",
     "output_type": "stream",
     "text": [
      "Input your direction (wasd) or 'p' for pause: s\n"
     ]
    },
    {
     "data": {
      "image/png": "[encoded data removed]",
      "text/plain": [
       "<Figure size 360x360 with 1 Axes>"
      ]
     },
     "metadata": {},
     "output_type": "display_data"
    },
    {
     "name": "stdout",
     "output_type": "stream",
     "text": [
      "Input your direction (wasd) or 'p' for pause: s\n"
     ]
    },
    {
     "data": {
      "image/png": "[encoded data removed]",
      "text/plain": [
       "<Figure size 360x360 with 1 Axes>"
      ]
     },
     "metadata": {},
     "output_type": "display_data"
    },
    {
     "name": "stdout",
     "output_type": "stream",
     "text": [
      "Input your direction (wasd) or 'p' for pause: w\n"
     ]
    },
    {
     "data": {
      "image/png": "[encoded data removed]",
      "text/plain": [
       "<Figure size 360x360 with 1 Axes>"
      ]
     },
     "metadata": {},
     "output_type": "display_data"
    },
    {
     "name": "stdout",
     "output_type": "stream",
     "text": [
      "Input your direction (wasd) or 'p' for pause: a\n"
     ]
    },
    {
     "data": {
      "image/png": "[encoded data removed]",
      "text/plain": [
       "<Figure size 360x360 with 1 Axes>"
      ]
     },
     "metadata": {},
     "output_type": "display_data"
    },
    {
     "name": "stdout",
     "output_type": "stream",
     "text": [
      "Input your direction (wasd) or 'p' for pause: a\n"
     ]
    },
    {
     "data": {
      "image/png": "[encoded data removed]",
      "text/plain": [
       "<Figure size 360x360 with 1 Axes>"
      ]
     },
     "metadata": {},
     "output_type": "display_data"
    },
    {
     "name": "stdout",
     "output_type": "stream",
     "text": [
      "Input your direction (wasd) or 'p' for pause: d\n"
     ]
    },
    {
     "data": {
      "image/png": "[encoded data removed]",
      "text/plain": [
       "<Figure size 360x360 with 1 Axes>"
      ]
     },
     "metadata": {},
     "output_type": "display_data"
    },
    {
     "name": "stdout",
     "output_type": "stream",
     "text": [
      "Input your direction (wasd) or 'p' for pause: d\n"
     ]
    },
    {
     "data": {
      "image/png": "[encoded data removed]",
      "text/plain": [
       "<Figure size 360x360 with 1 Axes>"
      ]
     },
     "metadata": {},
     "output_type": "display_data"
    },
    {
     "name": "stdout",
     "output_type": "stream",
     "text": [
      "Input your direction (wasd) or 'p' for pause: s\n"
     ]
    },
    {
     "data": {
      "image/png": "[encoded data removed]",
      "text/plain": [
       "<Figure size 360x360 with 1 Axes>"
      ]
     },
     "metadata": {},
     "output_type": "display_data"
    },
    {
     "name": "stdout",
     "output_type": "stream",
     "text": [
      "Input your direction (wasd) or 'p' for pause: d\n"
     ]
    },
    {
     "data": {
      "image/png": "[encoded data removed]",
      "text/plain": [
       "<Figure size 360x360 with 1 Axes>"
      ]
     },
     "metadata": {},
     "output_type": "display_data"
    },
    {
     "name": "stdout",
     "output_type": "stream",
     "text": [
      "Input your direction (wasd) or 'p' for pause: s\n"
     ]
    },
    {
     "data": {
      "image/png": "[encoded data removed]",
      "text/plain": [
       "<Figure size 360x360 with 1 Axes>"
      ]
     },
     "metadata": {},
     "output_type": "display_data"
    },
    {
     "name": "stdout",
     "output_type": "stream",
     "text": [
      "Input your direction (wasd) or 'p' for pause: a\n"
     ]
    },
    {
     "data": {
      "image/png": "[encoded data removed]",
      "text/plain": [
       "<Figure size 360x360 with 1 Axes>"
      ]
     },
     "metadata": {},
     "output_type": "display_data"
    },
    {
     "name": "stdout",
     "output_type": "stream",
     "text": [
      "Input your direction (wasd) or 'p' for pause: w\n"
     ]
    },
    {
     "data": {
      "image/png": "[encoded data removed]",
      "text/plain": [
       "<Figure size 360x360 with 1 Axes>"
      ]
     },
     "metadata": {},
     "output_type": "display_data"
    },
    {
     "name": "stdout",
     "output_type": "stream",
     "text": [
      "Input your direction (wasd) or 'p' for pause: w\n"
     ]
    },
    {
     "data": {
      "image/png": "[encoded data removed]",
      "text/plain": [
       "<Figure size 360x360 with 1 Axes>"
      ]
     },
     "metadata": {},
     "output_type": "display_data"
    },
    {
     "name": "stdout",
     "output_type": "stream",
     "text": [
      "Input your direction (wasd) or 'p' for pause: w\n"
     ]
    },
    {
     "data": {
      "image/png": "[encoded data removed]",
      "text/plain": [
       "<Figure size 360x360 with 1 Axes>"
      ]
     },
     "metadata": {},
     "output_type": "display_data"
    },
    {
     "name": "stdout",
     "output_type": "stream",
     "text": [
      "Input your direction (wasd) or 'p' for pause: w\n"
     ]
    },
    {
     "data": {
      "image/png": "[encoded data removed]",
      "text/plain": [
       "<Figure size 360x360 with 1 Axes>"
      ]
     },
     "metadata": {},
     "output_type": "display_data"
    },
    {
     "name": "stdout",
     "output_type": "stream",
     "text": [
      "Input your direction (wasd) or 'p' for pause: w\n"
     ]
    },
    {
     "data": {
      "image/png": "[encoded data removed]",
      "text/plain": [
       "<Figure size 360x360 with 1 Axes>"
      ]
     },
     "metadata": {},
     "output_type": "display_data"
    },
    {
     "name": "stdout",
     "output_type": "stream",
     "text": [
      "Input your direction (wasd) or 'p' for pause: s\n"
     ]
    },
    {
     "data": {
      "image/png": "[encoded data removed]",
      "text/plain": [
       "<Figure size 360x360 with 1 Axes>"
      ]
     },
     "metadata": {},
     "output_type": "display_data"
    },
    {
     "name": "stdout",
     "output_type": "stream",
     "text": [
      "Input your direction (wasd) or 'p' for pause: a\n"
     ]
    },
    {
     "data": {
      "image/png": "[encoded data removed]",
      "text/plain": [
       "<Figure size 360x360 with 1 Axes>"
      ]
     },
     "metadata": {},
     "output_type": "display_data"
    },
    {
     "name": "stdout",
     "output_type": "stream",
     "text": [
      "Input your direction (wasd) or 'p' for pause: w\n"
     ]
    },
    {
     "data": {
      "image/png": "[encoded data removed]",
      "text/plain": [
       "<Figure size 360x360 with 1 Axes>"
      ]
     },
     "metadata": {},
     "output_type": "display_data"
    },
    {
     "name": "stdout",
     "output_type": "stream",
     "text": [
      "Input your direction (wasd) or 'p' for pause: w\n"
     ]
    },
    {
     "data": {
      "image/png": "[encoded data removed]",
      "text/plain": [
       "<Figure size 360x360 with 1 Axes>"
      ]
     },
     "metadata": {},
     "output_type": "display_data"
    },
    {
     "name": "stdout",
     "output_type": "stream",
     "text": [
      "Input your direction (wasd) or 'p' for pause: s\n"
     ]
    },
    {
     "data": {
      "image/png": "[encoded data removed]",
      "text/plain": [
       "<Figure size 360x360 with 1 Axes>"
      ]
     },
     "metadata": {},
     "output_type": "display_data"
    },
    {
     "name": "stdout",
     "output_type": "stream",
     "text": [
      "Input your direction (wasd) or 'p' for pause: a\n"
     ]
    },
    {
     "data": {
      "image/png": "[encoded data removed]",
      "text/plain": [
       "<Figure size 360x360 with 1 Axes>"
      ]
     },
     "metadata": {},
     "output_type": "display_data"
    },
    {
     "name": "stdout",
     "output_type": "stream",
     "text": [
      "Input your direction (wasd) or 'p' for pause: w\n"
     ]
    },
    {
     "data": {
      "image/png": "[encoded data removed]",
      "text/plain": [
       "<Figure size 360x360 with 1 Axes>"
      ]
     },
     "metadata": {},
     "output_type": "display_data"
    },
    {
     "name": "stdout",
     "output_type": "stream",
     "text": [
      "Input your direction (wasd) or 'p' for pause: s\n"
     ]
    },
    {
     "data": {
      "image/png": "[encoded data removed]",
      "text/plain": [
       "<Figure size 360x360 with 1 Axes>"
      ]
     },
     "metadata": {},
     "output_type": "display_data"
    },
    {
     "name": "stdout",
     "output_type": "stream",
     "text": [
      "Input your direction (wasd) or 'p' for pause: d\n"
     ]
    },
    {
     "data": {
      "image/png": "[encoded data removed]",
      "text/plain": [
       "<Figure size 360x360 with 1 Axes>"
      ]
     },
     "metadata": {},
     "output_type": "display_data"
    },
    {
     "name": "stdout",
     "output_type": "stream",
     "text": [
      "Input your direction (wasd) or 'p' for pause: w\n"
     ]
    },
    {
     "data": {
      "image/png": "[encoded data removed]",
      "text/plain": [
       "<Figure size 360x360 with 1 Axes>"
      ]
     },
     "metadata": {},
     "output_type": "display_data"
    },
    {
     "name": "stdout",
     "output_type": "stream",
     "text": [
      "Input your direction (wasd) or 'p' for pause: w\n"
     ]
    },
    {
     "data": {
      "image/png": "[encoded data removed]",
      "text/plain": [
       "<Figure size 360x360 with 1 Axes>"
      ]
     },
     "metadata": {},
     "output_type": "display_data"
    },
    {
     "name": "stdout",
     "output_type": "stream",
     "text": [
      "Input your direction (wasd) or 'p' for pause: d\n"
     ]
    },
    {
     "data": {
      "image/png": "[encoded data removed]",
      "text/plain": [
       "<Figure size 360x360 with 1 Axes>"
      ]
     },
     "metadata": {},
     "output_type": "display_data"
    },
    {
     "name": "stdout",
     "output_type": "stream",
     "text": [
      "Input your direction (wasd) or 'p' for pause: w\n"
     ]
    },
    {
     "data": {
      "image/png": "[encoded data removed]",
      "text/plain": [
       "<Figure size 360x360 with 1 Axes>"
      ]
     },
     "metadata": {},
     "output_type": "display_data"
    },
    {
     "name": "stdout",
     "output_type": "stream",
     "text": [
      "Input your direction (wasd) or 'p' for pause: a\n"
     ]
    },
    {
     "data": {
      "image/png": "[encoded data removed]",
      "text/plain": [
       "<Figure size 360x360 with 1 Axes>"
      ]
     },
     "metadata": {},
     "output_type": "display_data"
    },
    {
     "name": "stdout",
     "output_type": "stream",
     "text": [
      "Easy :\n",
      "{'brontosaurus': 3}\n",
      "Input your direction (wasd) or 'p' for pause: a\n"
     ]
    },
    {
     "data": {
      "image/png": "[encoded data removed]",
      "text/plain": [
       "<Figure size 360x360 with 1 Axes>"
      ]
     },
     "metadata": {},
     "output_type": "display_data"
    },
    {
     "name": "stdout",
     "output_type": "stream",
     "text": [
      "Easy :\n",
      "{'brontosaurus': 3}\n",
      "Did you win? (y/n)y\n",
      "Good work!\n"
     ]
    },
    {
     "data": {
      "image/png": "[encoded data removed]",
      "text/plain": [
       "<Figure size 360x360 with 1 Axes>"
      ]
     },
     "metadata": {},
     "output_type": "display_data"
    },
    {
     "name": "stdout",
     "output_type": "stream",
     "text": [
      "Input your direction (wasd) or 'p' for pause: d\n"
     ]
    },
    {
     "data": {
      "image/png": "[encoded data removed]",
      "text/plain": [
       "<Figure size 360x360 with 1 Axes>"
      ]
     },
     "metadata": {},
     "output_type": "display_data"
    },
    {
     "name": "stdout",
     "output_type": "stream",
     "text": [
      "Input your direction (wasd) or 'p' for pause: d\n"
     ]
    },
    {
     "data": {
      "image/png": "[encoded data removed]",
      "text/plain": [
       "<Figure size 360x360 with 1 Axes>"
      ]
     },
     "metadata": {},
     "output_type": "display_data"
    },
    {
     "name": "stdout",
     "output_type": "stream",
     "text": [
      "Input your direction (wasd) or 'p' for pause: d\n"
     ]
    },
    {
     "data": {
      "image/png": "[encoded data removed]",
      "text/plain": [
       "<Figure size 360x360 with 1 Axes>"
      ]
     },
     "metadata": {},
     "output_type": "display_data"
    },
    {
     "name": "stdout",
     "output_type": "stream",
     "text": [
      "Input your direction (wasd) or 'p' for pause: w\n"
     ]
    },
    {
     "data": {
      "image/png": "[encoded data removed]",
      "text/plain": [
       "<Figure size 360x360 with 1 Axes>"
      ]
     },
     "metadata": {},
     "output_type": "display_data"
    },
    {
     "name": "stdout",
     "output_type": "stream",
     "text": [
      "Input your direction (wasd) or 'p' for pause: a\n"
     ]
    },
    {
     "data": {
      "image/png": "[encoded data removed]",
      "text/plain": [
       "<Figure size 360x360 with 1 Axes>"
      ]
     },
     "metadata": {},
     "output_type": "display_data"
    },
    {
     "name": "stdout",
     "output_type": "stream",
     "text": [
      "Input your direction (wasd) or 'p' for pause: s\n"
     ]
    },
    {
     "data": {
      "image/png": "[encoded data removed]",
      "text/plain": [
       "<Figure size 360x360 with 1 Axes>"
      ]
     },
     "metadata": {},
     "output_type": "display_data"
    },
    {
     "name": "stdout",
     "output_type": "stream",
     "text": [
      "Input your direction (wasd) or 'p' for pause: d\n"
     ]
    },
    {
     "data": {
      "image/png": "[encoded data removed]",
      "text/plain": [
       "<Figure size 360x360 with 1 Axes>"
      ]
     },
     "metadata": {},
     "output_type": "display_data"
    },
    {
     "name": "stdout",
     "output_type": "stream",
     "text": [
      "Input your direction (wasd) or 'p' for pause: a\n"
     ]
    },
    {
     "data": {
      "image/png": "[encoded data removed]",
      "text/plain": [
       "<Figure size 360x360 with 1 Axes>"
      ]
     },
     "metadata": {},
     "output_type": "display_data"
    },
    {
     "name": "stdout",
     "output_type": "stream",
     "text": [
      "Input your direction (wasd) or 'p' for pause: s\n"
     ]
    },
    {
     "data": {
      "image/png": "[encoded data removed]",
      "text/plain": [
       "<Figure size 360x360 with 1 Axes>"
      ]
     },
     "metadata": {},
     "output_type": "display_data"
    },
    {
     "name": "stdout",
     "output_type": "stream",
     "text": [
      "Input your direction (wasd) or 'p' for pause: a\n"
     ]
    },
    {
     "data": {
      "image/png": "[encoded data removed]",
      "text/plain": [
       "<Figure size 360x360 with 1 Axes>"
      ]
     },
     "metadata": {},
     "output_type": "display_data"
    },
    {
     "name": "stdout",
     "output_type": "stream",
     "text": [
      "Input your direction (wasd) or 'p' for pause: s\n"
     ]
    },
    {
     "data": {
      "image/png": "[encoded data removed]",
      "text/plain": [
       "<Figure size 360x360 with 1 Axes>"
      ]
     },
     "metadata": {},
     "output_type": "display_data"
    },
    {
     "name": "stdout",
     "output_type": "stream",
     "text": [
      "Input your direction (wasd) or 'p' for pause: d\n"
     ]
    },
    {
     "data": {
      "image/png": "[encoded data removed]",
      "text/plain": [
       "<Figure size 360x360 with 1 Axes>"
      ]
     },
     "metadata": {},
     "output_type": "display_data"
    },
    {
     "name": "stdout",
     "output_type": "stream",
     "text": [
      "Input your direction (wasd) or 'p' for pause: d\n"
     ]
    },
    {
     "data": {
      "image/png": "[encoded data removed]",
      "text/plain": [
       "<Figure size 360x360 with 1 Axes>"
      ]
     },
     "metadata": {},
     "output_type": "display_data"
    },
    {
     "name": "stdout",
     "output_type": "stream",
     "text": [
      "Input your direction (wasd) or 'p' for pause: d\n"
     ]
    },
    {
     "data": {
      "image/png": "[encoded data removed]",
      "text/plain": [
       "<Figure size 360x360 with 1 Axes>"
      ]
     },
     "metadata": {},
     "output_type": "display_data"
    },
    {
     "name": "stdout",
     "output_type": "stream",
     "text": [
      "Input your direction (wasd) or 'p' for pause: s\n"
     ]
    },
    {
     "data": {
      "image/png": "[encoded data removed]",
      "text/plain": [
       "<Figure size 360x360 with 1 Axes>"
      ]
     },
     "metadata": {},
     "output_type": "display_data"
    },
    {
     "name": "stdout",
     "output_type": "stream",
     "text": [
      "Input your direction (wasd) or 'p' for pause: d\n"
     ]
    },
    {
     "data": {
      "image/png": "[encoded data removed]",
      "text/plain": [
       "<Figure size 360x360 with 1 Axes>"
      ]
     },
     "metadata": {},
     "output_type": "display_data"
    },
    {
     "name": "stdout",
     "output_type": "stream",
     "text": [
      "Input your direction (wasd) or 'p' for pause: s\n"
     ]
    },
    {
     "data": {
      "image/png": "[encoded data removed]",
      "text/plain": [
       "<Figure size 360x360 with 1 Axes>"
      ]
     },
     "metadata": {},
     "output_type": "display_data"
    },
    {
     "name": "stdout",
     "output_type": "stream",
     "text": [
      "Input your direction (wasd) or 'p' for pause: s\n"
     ]
    },
    {
     "data": {
      "image/png": "[encoded data removed]",
      "text/plain": [
       "<Figure size 360x360 with 1 Axes>"
      ]
     },
     "metadata": {},
     "output_type": "display_data"
    },
    {
     "name": "stdout",
     "output_type": "stream",
     "text": [
      "Input your direction (wasd) or 'p' for pause: s\n"
     ]
    },
    {
     "data": {
      "image/png": "[encoded data removed]",
      "text/plain": [
       "<Figure size 360x360 with 1 Axes>"
      ]
     },
     "metadata": {},
     "output_type": "display_data"
    },
    {
     "name": "stdout",
     "output_type": "stream",
     "text": [
      "Input your direction (wasd) or 'p' for pause: s\n"
     ]
    },
    {
     "data": {
      "image/png": "[encoded data removed]",
      "text/plain": [
       "<Figure size 360x360 with 1 Axes>"
      ]
     },
     "metadata": {},
     "output_type": "display_data"
    },
    {
     "name": "stdout",
     "output_type": "stream",
     "text": [
      "Input your direction (wasd) or 'p' for pause: w\n"
     ]
    },
    {
     "data": {
      "image/png": "[encoded data removed]",
      "text/plain": [
       "<Figure size 360x360 with 1 Axes>"
      ]
     },
     "metadata": {},
     "output_type": "display_data"
    },
    {
     "name": "stdout",
     "output_type": "stream",
     "text": [
      "Input your direction (wasd) or 'p' for pause: a\n"
     ]
    },
    {
     "data": {
      "image/png": "[encoded data removed]",
      "text/plain": [
       "<Figure size 360x360 with 1 Axes>"
      ]
     },
     "metadata": {},
     "output_type": "display_data"
    },
    {
     "name": "stdout",
     "output_type": "stream",
     "text": [
      "Input your direction (wasd) or 'p' for pause: w\n"
     ]
    },
    {
     "data": {
      "image/png": "[encoded data removed]",
      "text/plain": [
       "<Figure size 360x360 with 1 Axes>"
      ]
     },
     "metadata": {},
     "output_type": "display_data"
    },
    {
     "name": "stdout",
     "output_type": "stream",
     "text": [
      "Input your direction (wasd) or 'p' for pause: s\n"
     ]
    },
    {
     "data": {
      "image/png": "[encoded data removed]",
      "text/plain": [
       "<Figure size 360x360 with 1 Axes>"
      ]
     },
     "metadata": {},
     "output_type": "display_data"
    },
    {
     "name": "stdout",
     "output_type": "stream",
     "text": [
      "Input your direction (wasd) or 'p' for pause: a\n"
     ]
    },
    {
     "data": {
      "image/png": "[encoded data removed]",
      "text/plain": [
       "<Figure size 360x360 with 1 Axes>"
      ]
     },
     "metadata": {},
     "output_type": "display_data"
    },
    {
     "name": "stdout",
     "output_type": "stream",
     "text": [
      "Input your direction (wasd) or 'p' for pause: a\n"
     ]
    },
    {
     "data": {
      "image/png": "[encoded data removed]",
      "text/plain": [
       "<Figure size 360x360 with 1 Axes>"
      ]
     },
     "metadata": {},
     "output_type": "display_data"
    },
    {
     "name": "stdout",
     "output_type": "stream",
     "text": [
      "Input your direction (wasd) or 'p' for pause: s\n"
     ]
    },
    {
     "data": {
      "image/png": "[encoded data removed]",
      "text/plain": [
       "<Figure size 360x360 with 1 Axes>"
      ]
     },
     "metadata": {},
     "output_type": "display_data"
    },
    {
     "name": "stdout",
     "output_type": "stream",
     "text": [
      "Input your direction (wasd) or 'p' for pause: d\n"
     ]
    },
    {
     "data": {
      "image/png": "[encoded data removed]",
      "text/plain": [
       "<Figure size 360x360 with 1 Axes>"
      ]
     },
     "metadata": {},
     "output_type": "display_data"
    },
    {
     "name": "stdout",
     "output_type": "stream",
     "text": [
      "Input your direction (wasd) or 'p' for pause: a\n"
     ]
    },
    {
     "data": {
      "image/png": "[encoded data removed]",
      "text/plain": [
       "<Figure size 360x360 with 1 Axes>"
      ]
     },
     "metadata": {},
     "output_type": "display_data"
    },
    {
     "name": "stdout",
     "output_type": "stream",
     "text": [
      "Input your direction (wasd) or 'p' for pause: w\n"
     ]
    },
    {
     "data": {
      "image/png": "[encoded data removed]",
      "text/plain": [
       "<Figure size 360x360 with 1 Axes>"
      ]
     },
     "metadata": {},
     "output_type": "display_data"
    },
    {
     "name": "stdout",
     "output_type": "stream",
     "text": [
      "Input your direction (wasd) or 'p' for pause: a\n"
     ]
    },
    {
     "data": {
      "image/png": "[encoded data removed]",
      "text/plain": [
       "<Figure size 360x360 with 1 Axes>"
      ]
     },
     "metadata": {},
     "output_type": "display_data"
    },
    {
     "name": "stdout",
     "output_type": "stream",
     "text": [
      "Input your direction (wasd) or 'p' for pause: s\n"
     ]
    },
    {
     "data": {
      "image/png": "[encoded data removed]",
      "text/plain": [
       "<Figure size 360x360 with 1 Axes>"
      ]
     },
     "metadata": {},
     "output_type": "display_data"
    },
    {
     "name": "stdout",
     "output_type": "stream",
     "text": [
      "Input your direction (wasd) or 'p' for pause: w\n"
     ]
    },
    {
     "data": {
      "image/png": "[encoded data removed]",
      "text/plain": [
       "<Figure size 360x360 with 1 Axes>"
      ]
     },
     "metadata": {},
     "output_type": "display_data"
    },
    {
     "name": "stdout",
     "output_type": "stream",
     "text": [
      "Input your direction (wasd) or 'p' for pause: d\n"
     ]
    },
    {
     "data": {
      "image/png": "[encoded data removed]",
      "text/plain": [
       "<Figure size 360x360 with 1 Axes>"
      ]
     },
     "metadata": {},
     "output_type": "display_data"
    },
    {
     "name": "stdout",
     "output_type": "stream",
     "text": [
      "Input your direction (wasd) or 'p' for pause: d\n"
     ]
    },
    {
     "data": {
      "image/png": "[encoded data removed]",
      "text/plain": [
       "<Figure size 360x360 with 1 Axes>"
      ]
     },
     "metadata": {},
     "output_type": "display_data"
    },
    {
     "name": "stdout",
     "output_type": "stream",
     "text": [
      "Input your direction (wasd) or 'p' for pause: d\n"
     ]
    },
    {
     "data": {
      "image/png": "[encoded data removed]",
      "text/plain": [
       "<Figure size 360x360 with 1 Axes>"
      ]
     },
     "metadata": {},
     "output_type": "display_data"
    },
    {
     "name": "stdout",
     "output_type": "stream",
     "text": [
      "Input your direction (wasd) or 'p' for pause: d\n"
     ]
    },
    {
     "data": {
      "image/png": "[encoded data removed]",
      "text/plain": [
       "<Figure size 360x360 with 1 Axes>"
      ]
     },
     "metadata": {},
     "output_type": "display_data"
    },
    {
     "name": "stdout",
     "output_type": "stream",
     "text": [
      "Input your direction (wasd) or 'p' for pause: s\n"
     ]
    },
    {
     "data": {
      "image/png": "[encoded data removed]",
      "text/plain": [
       "<Figure size 360x360 with 1 Axes>"
      ]
     },
     "metadata": {},
     "output_type": "display_data"
    },
    {
     "name": "stdout",
     "output_type": "stream",
     "text": [
      "Input your direction (wasd) or 'p' for pause: s\n"
     ]
    },
    {
     "data": {
      "image/png": "[encoded data removed]",
      "text/plain": [
       "<Figure size 360x360 with 1 Axes>"
      ]
     },
     "metadata": {},
     "output_type": "display_data"
    },
    {
     "name": "stdout",
     "output_type": "stream",
     "text": [
      "Input your direction (wasd) or 'p' for pause: d\n"
     ]
    },
    {
     "data": {
      "image/png": "[encoded data removed]",
      "text/plain": [
       "<Figure size 360x360 with 1 Axes>"
      ]
     },
     "metadata": {},
     "output_type": "display_data"
    },
    {
     "name": "stdout",
     "output_type": "stream",
     "text": [
      "Input your direction (wasd) or 'p' for pause: w\n"
     ]
    },
    {
     "data": {
      "image/png": "[encoded data removed]",
      "text/plain": [
       "<Figure size 360x360 with 1 Axes>"
      ]
     },
     "metadata": {},
     "output_type": "display_data"
    },
    {
     "name": "stdout",
     "output_type": "stream",
     "text": [
      "Input your direction (wasd) or 'p' for pause: s\n"
     ]
    },
    {
     "data": {
      "image/png": "[encoded data removed]",
      "text/plain": [
       "<Figure size 360x360 with 1 Axes>"
      ]
     },
     "metadata": {},
     "output_type": "display_data"
    },
    {
     "name": "stdout",
     "output_type": "stream",
     "text": [
      "Input your direction (wasd) or 'p' for pause: d\n"
     ]
    },
    {
     "data": {
      "image/png": "[encoded data removed]",
      "text/plain": [
       "<Figure size 360x360 with 1 Axes>"
      ]
     },
     "metadata": {},
     "output_type": "display_data"
    },
    {
     "name": "stdout",
     "output_type": "stream",
     "text": [
      "Input your direction (wasd) or 'p' for pause: w\n"
     ]
    },
    {
     "data": {
      "image/png": "[encoded data removed]",
      "text/plain": [
       "<Figure size 360x360 with 1 Axes>"
      ]
     },
     "metadata": {},
     "output_type": "display_data"
    },
    {
     "name": "stdout",
     "output_type": "stream",
     "text": [
      "Input your direction (wasd) or 'p' for pause: w\n"
     ]
    },
    {
     "data": {
      "image/png": "[encoded data removed]",
      "text/plain": [
       "<Figure size 360x360 with 1 Axes>"
      ]
     },
     "metadata": {},
     "output_type": "display_data"
    },
    {
     "name": "stdout",
     "output_type": "stream",
     "text": [
      "Deadly :\n",
      "{'adult-green-dragon': 2, 'peryton': 1}\n",
      "Did you win? (y/n)y\n",
      "Good work!\n"
     ]
    },
    {
     "data": {
      "image/png": "[encoded data removed]",
      "text/plain": [
       "<Figure size 360x360 with 1 Axes>"
      ]
     },
     "metadata": {},
     "output_type": "display_data"
    },
    {
     "name": "stdout",
     "output_type": "stream",
     "text": [
      "Input your direction (wasd) or 'p' for pause: d\n"
     ]
    },
    {
     "data": {
      "image/png": "[encoded data removed]",
      "text/plain": [
       "<Figure size 360x360 with 1 Axes>"
      ]
     },
     "metadata": {},
     "output_type": "display_data"
    },
    {
     "name": "stdout",
     "output_type": "stream",
     "text": [
      "Input your direction (wasd) or 'p' for pause: d\n"
     ]
    },
    {
     "data": {
      "image/png": "[encoded data removed]",
      "text/plain": [
       "<Figure size 360x360 with 1 Axes>"
      ]
     },
     "metadata": {},
     "output_type": "display_data"
    },
    {
     "data": {
      "image/png": "[encoded data removed]",
      "text/plain": [
       "<Figure size 360x360 with 1 Axes>"
      ]
     },
     "metadata": {},
     "output_type": "display_data"
    },
    {
     "name": "stdout",
     "output_type": "stream",
     "text": [
      "Treasure: \n",
      "{'coins': {'GP': 32000, 'PP': 24000},\n",
      " 'gems': ['Jacinth (transparent fiery orange)',\n",
      "          'Jacinth (transparent fiery orange)',\n",
      "          'Jacinth (transparent fiery orange)'],\n",
      " 'magic items': ['Universal solvent']}\n",
      "You Win! :)\n",
      "THE END.\n"
     ]
    }
   ],
   "source": [
    "dungeon.play()"
   ]
  },
  {
   "cell_type": "code",
   "execution_count": null,
   "metadata": {},
   "outputs": [],
   "source": []
  },
  {
   "cell_type": "code",
   "execution_count": null,
   "metadata": {},
   "outputs": [],
   "source": []
  }
 ],
 "metadata": {
  "kernelspec": {
   "display_name": "Python 3",
   "language": "python",
   "name": "python3"
  },
  "language_info": {
   "codemirror_mode": {
    "name": "ipython",
    "version": 3
   },
   "file_extension": ".py",
   "mimetype": "text/x-python",
   "name": "python",
   "nbconvert_exporter": "python",
   "pygments_lexer": "ipython3",
   "version": "3.7.6"
  }
 },
 "nbformat": 4,
 "nbformat_minor": 4
}
