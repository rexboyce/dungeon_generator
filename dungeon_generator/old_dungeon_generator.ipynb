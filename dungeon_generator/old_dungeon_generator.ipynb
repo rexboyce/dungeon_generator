{
 "cells": [
  {
   "cell_type": "code",
   "execution_count": 231,
   "metadata": {},
   "outputs": [],
   "source": [
    "import numpy as np\n",
    "import pandas as pd\n",
    "import matplotlib.pyplot as plt\n",
    "from scipy.sparse.csgraph import connected_components, shortest_path\n",
    "from time import time\n",
    "from pprint import pprint"
   ]
  },
  {
   "cell_type": "markdown",
   "metadata": {
    "heading_collapsed": true
   },
   "source": [
    "# Map generation"
   ]
  },
  {
   "cell_type": "code",
   "execution_count": 2,
   "metadata": {
    "code_folding": [
     0,
     75
    ],
    "hidden": true
   },
   "outputs": [],
   "source": [
    "def plot_dungeon(A, B, square_density=3):\n",
    "    \"\"\"\n",
    "    Given two matrices, display the corresponding dungeon.\n",
    "    \n",
    "    Parameters\n",
    "    ----------\n",
    "    A:  array_like\n",
    "        Array representing the vertical walls within the \n",
    "        dungeon. If A[i, j] is 1, there is a wall at i, j.\n",
    "        A should be m x n-1.\n",
    "        \n",
    "    B:  array_like\n",
    "        Array representing the horizontal walls within the \n",
    "        dungeon. If B[i, j] is 1, there is a wall at i, j.\n",
    "        B should be m-1 x n.\n",
    "    \n",
    "    square_density:  int, optional\n",
    "        Density of gridlines within the dungeon. Walls\n",
    "        are typically generated on a more granular grid\n",
    "        than the gridlines to create more open spaces.\n",
    "    \"\"\"\n",
    "    m, n = A.shape[0], B.shape[1] # dimensions of the grid\n",
    "    \n",
    "    def _indices(A):\n",
    "        \"\"\" \n",
    "        Helper function to get all the indices of an \n",
    "        array without a double for loop.\n",
    "        \"\"\"\n",
    "        m, n = A.shape\n",
    "        x_indices = np.ravel([[i]*n for i in range(m)])\n",
    "        y_indices = np.ravel(list(range(n))*m)\n",
    "        return zip(x_indices, y_indices)\n",
    "\n",
    "    def _vertical_plot(walls):\n",
    "        \"\"\"\n",
    "        Helper function to plot all vertical walls \n",
    "        given an array.\n",
    "        \"\"\"\n",
    "        m, n = walls.shape\n",
    "        for i, j in _indices(walls):\n",
    "            if walls[i, j] == 1:\n",
    "                plt.vlines((j+1)/(n+1), 1-i/(m), 1-(i+1)/(m))\n",
    "\n",
    "    def _horizontal_plot(walls):\n",
    "        \"\"\"\n",
    "        Helper function to plot all horizontal walls \n",
    "        given an array.\n",
    "        \"\"\"\n",
    "        m, n = walls.shape\n",
    "        for i, j in _indices(walls):\n",
    "            if walls[i, j] == 1:\n",
    "                plt.hlines(1-(i+1)/(m+1), j/(n), (j+1)/(n))\n",
    "\n",
    "    # m and n determine the figsize to help with aspect ratios\n",
    "    plt.figure(figsize=(20*n/(m+n), 20*m/(m+n)))\n",
    "    _vertical_plot(A)\n",
    "    _horizontal_plot(B)\n",
    "\n",
    "    # plot lines around the edges\n",
    "    # TODO: make these lines more bold?\n",
    "    plt.vlines([0, 1], [0, 0], [1, 1])\n",
    "    plt.hlines([0, 1], [0, 0], [1, 1])\n",
    "    \n",
    "    # display only the dungeon\n",
    "    # TODO: add a small buffer around the edges?\n",
    "    plt.xlim(0, 1)\n",
    "    plt.ylim(0, 1)\n",
    "    \n",
    "    # add gridlines without displaying ticks\n",
    "    plt.yticks(np.linspace(0, 1, square_density * m + 1))\n",
    "    plt.xticks(np.linspace(0, 1, square_density * n + 1))\n",
    "    plt.grid()\n",
    "    plt.tick_params(axis='both', left=False, bottom=False, labelleft=False, labelbottom=False)\n",
    "\n",
    "    \n",
    "def dungeon_map(m, n, p_wall=0.3, max_connected_components=1):\n",
    "    \"\"\"\n",
    "    Given dimensions m and n, generate a dungeon.\n",
    "    \n",
    "    Parameters\n",
    "    ----------\n",
    "    m, n:  int\n",
    "        Integers representing the dimensions of the dungeon.\n",
    "        \n",
    "    p_wall:  float, optional\n",
    "        Float between 0 and 1, specifies the density of\n",
    "        walls within the dungeon.\n",
    "    \n",
    "    max_connected_components: int or None, optional\n",
    "        Integer representing the maximum number of closed off\n",
    "        areas within the dungeon. If None, a random dungeon\n",
    "        will be generated with no constraint on the number of\n",
    "        closed off spaces.\n",
    "        \n",
    "    Returns\n",
    "    -------\n",
    "    A:  numpy array\n",
    "        Array representing the vertical walls within the \n",
    "        dungeon. If A[i, j] is 1, there is a wall at i, j.\n",
    "        A is m x n-1.\n",
    "        \n",
    "    B:  numpy array\n",
    "        Array representing the horizontal walls within the \n",
    "        dungeon. If B[i, j] is 1, there is a wall at i, j.\n",
    "        B is m-1 x n.\n",
    "        \n",
    "    C:  numpy array\n",
    "        Undirected adjacency matrix for the dungeon. C[i, j]\n",
    "        is 1 if the jth square is adjacent to the ith square.\n",
    "        Used to determine connected components.\n",
    "        C is m*n x m*n.\n",
    "        \n",
    "    \"\"\"\n",
    "    def _adjacency(A, B):\n",
    "        \"\"\"\n",
    "        Helper function to determine the adjacency matrix\n",
    "        C from wall matrices A and B.\n",
    "        \"\"\"\n",
    "        m, n = A.shape[0], B.shape[1]\n",
    "        C = np.zeros((m*n, m*n))  # C is m*n x m*n\n",
    "        \n",
    "        def _get_i_j(ind):\n",
    "            \"\"\"\n",
    "            Helper function to get the i, j index of a \n",
    "            square within the grid given its index in C.\n",
    "            \"\"\"\n",
    "            i = ind // n\n",
    "            j = ind % n\n",
    "            return i, j\n",
    "\n",
    "        def _get_ind(i, j):\n",
    "            \"\"\"\n",
    "            Helper function to get the index in C given\n",
    "            a square's i, j index within the grid.\n",
    "            \"\"\"\n",
    "            return i*n + j\n",
    "\n",
    "        # loop over all squares in the grid\n",
    "        for ind in range(m*n):\n",
    "            i, j = _get_i_j(ind)\n",
    "\n",
    "            if i != 0:  # look up\n",
    "                if B[i-1, j] == 0:  # check for walls\n",
    "                    C[ind, _get_ind(i-1, j)] = 1\n",
    "                    \n",
    "            if i != m-1:  # look down\n",
    "                if B[i, j] == 0:  # check for walls\n",
    "                    C[ind, _get_ind(i+1, j)] = 1\n",
    "                    \n",
    "            if j != 0:  # look left\n",
    "                if A[i, j-1] == 0:  # check for walls\n",
    "                    C[ind, _get_ind(i, j-1)] = 1\n",
    "                    \n",
    "            if j != n-1:  # look right\n",
    "                if A[i, j] == 0:  # check for walls\n",
    "                    C[ind, _get_ind(i, j+1)] = 1\n",
    "\n",
    "        return C\n",
    "    \n",
    "    # get random wall matrices using p_wall\n",
    "    A = np.random.choice(2, size=(m, n-1), p=[1-p_wall, p_wall])\n",
    "    B = np.random.choice(2, size=(m-1, n), p=[1-p_wall, p_wall])\n",
    "    C = _adjacency(A, B)\n",
    "    \n",
    "    # loop until connected components condition is satisfied\n",
    "    # TODO: add either a maxiter or a timeout\n",
    "    if max_connected_components is not None:\n",
    "        while connected_components(C)[0] > max_connected_components:\n",
    "            A = np.random.choice(2, size=(m, n-1), p=[1-p_wall, p_wall])\n",
    "            B = np.random.choice(2, size=(m-1, n), p=[1-p_wall, p_wall])\n",
    "            C = _adjacency(A, B)\n",
    "    \n",
    "    return A, B, C"
   ]
  },
  {
   "cell_type": "markdown",
   "metadata": {
    "heading_collapsed": true
   },
   "source": [
    "# Encounter Difficulty"
   ]
  },
  {
   "cell_type": "code",
   "execution_count": 136,
   "metadata": {
    "hidden": true
   },
   "outputs": [
    {
     "data": {
      "text/plain": [
       "url                          NaN\n",
       "cr                             0\n",
       "type         humanoid (any race)\n",
       "size                      Medium\n",
       "ac                            14\n",
       "hp                            16\n",
       "speed                        NaN\n",
       "align              any alignment\n",
       "legendary                    NaN\n",
       "source            Essentials Kit\n",
       "str                          NaN\n",
       "dex                          NaN\n",
       "con                          NaN\n",
       "int                          NaN\n",
       "wis                          NaN\n",
       "cha                          NaN\n",
       "Name: expert-lvl-2, dtype: object"
      ]
     },
     "execution_count": 136,
     "metadata": {},
     "output_type": "execute_result"
    }
   ],
   "source": [
    "# TODO: find monsters with incorrect cr\n",
    "monster_df.loc['spellcaster-mage-lvl-6']\n",
    "monster_df.loc['expert-lvl-2']"
   ]
  },
  {
   "cell_type": "code",
   "execution_count": 3,
   "metadata": {
    "hidden": true
   },
   "outputs": [
    {
     "data": {
      "text/html": [
       "<div>\n",
       "<style scoped>\n",
       "    .dataframe tbody tr th:only-of-type {\n",
       "        vertical-align: middle;\n",
       "    }\n",
       "\n",
       "    .dataframe tbody tr th {\n",
       "        vertical-align: top;\n",
       "    }\n",
       "\n",
       "    .dataframe thead th {\n",
       "        text-align: right;\n",
       "    }\n",
       "</style>\n",
       "<table border=\"1\" class=\"dataframe\">\n",
       "  <thead>\n",
       "    <tr style=\"text-align: right;\">\n",
       "      <th></th>\n",
       "      <th>url</th>\n",
       "      <th>cr</th>\n",
       "      <th>type</th>\n",
       "      <th>size</th>\n",
       "      <th>ac</th>\n",
       "      <th>hp</th>\n",
       "      <th>speed</th>\n",
       "      <th>align</th>\n",
       "      <th>legendary</th>\n",
       "      <th>source</th>\n",
       "      <th>str</th>\n",
       "      <th>dex</th>\n",
       "      <th>con</th>\n",
       "      <th>int</th>\n",
       "      <th>wis</th>\n",
       "      <th>cha</th>\n",
       "    </tr>\n",
       "    <tr>\n",
       "      <th>name</th>\n",
       "      <th></th>\n",
       "      <th></th>\n",
       "      <th></th>\n",
       "      <th></th>\n",
       "      <th></th>\n",
       "      <th></th>\n",
       "      <th></th>\n",
       "      <th></th>\n",
       "      <th></th>\n",
       "      <th></th>\n",
       "      <th></th>\n",
       "      <th></th>\n",
       "      <th></th>\n",
       "      <th></th>\n",
       "      <th></th>\n",
       "      <th></th>\n",
       "    </tr>\n",
       "  </thead>\n",
       "  <tbody>\n",
       "    <tr>\n",
       "      <th>yuan-ti-pureblood</th>\n",
       "      <td>https://www.aidedd.org/dnd/monstres.php?vo=yua...</td>\n",
       "      <td>1</td>\n",
       "      <td>humanoid (yuan-ti)</td>\n",
       "      <td>Medium</td>\n",
       "      <td>11</td>\n",
       "      <td>40</td>\n",
       "      <td>NaN</td>\n",
       "      <td>neutral evil</td>\n",
       "      <td>NaN</td>\n",
       "      <td>Monster Manual (BR)</td>\n",
       "      <td>11.0</td>\n",
       "      <td>12.0</td>\n",
       "      <td>11.0</td>\n",
       "      <td>13.0</td>\n",
       "      <td>12.0</td>\n",
       "      <td>14.0</td>\n",
       "    </tr>\n",
       "    <tr>\n",
       "      <th>zaratan</th>\n",
       "      <td>NaN</td>\n",
       "      <td>22</td>\n",
       "      <td>elemental</td>\n",
       "      <td>Gargantuan</td>\n",
       "      <td>21</td>\n",
       "      <td>307</td>\n",
       "      <td>swim</td>\n",
       "      <td>neutral</td>\n",
       "      <td>NaN</td>\n",
       "      <td>Mordenkainen's Tome of Foes</td>\n",
       "      <td>NaN</td>\n",
       "      <td>NaN</td>\n",
       "      <td>NaN</td>\n",
       "      <td>NaN</td>\n",
       "      <td>NaN</td>\n",
       "      <td>NaN</td>\n",
       "    </tr>\n",
       "    <tr>\n",
       "      <th>zariel</th>\n",
       "      <td>https://www.aidedd.org/dnd/monstres.php?vo=zariel</td>\n",
       "      <td>26</td>\n",
       "      <td>fiend (devil)</td>\n",
       "      <td>Large</td>\n",
       "      <td>21</td>\n",
       "      <td>580</td>\n",
       "      <td>fly</td>\n",
       "      <td>lawful evil</td>\n",
       "      <td>Legendary</td>\n",
       "      <td>Mordenkainen's Tome of Foes</td>\n",
       "      <td>27.0</td>\n",
       "      <td>24.0</td>\n",
       "      <td>28.0</td>\n",
       "      <td>26.0</td>\n",
       "      <td>27.0</td>\n",
       "      <td>30.0</td>\n",
       "    </tr>\n",
       "    <tr>\n",
       "      <th>zombie</th>\n",
       "      <td>https://www.aidedd.org/dnd/monstres.php?vo=zombie</td>\n",
       "      <td>1/4</td>\n",
       "      <td>undead</td>\n",
       "      <td>Medium</td>\n",
       "      <td>8</td>\n",
       "      <td>22</td>\n",
       "      <td>NaN</td>\n",
       "      <td>neutral evil</td>\n",
       "      <td>NaN</td>\n",
       "      <td>Monster Manual (SRD)</td>\n",
       "      <td>13.0</td>\n",
       "      <td>6.0</td>\n",
       "      <td>16.0</td>\n",
       "      <td>3.0</td>\n",
       "      <td>6.0</td>\n",
       "      <td>5.0</td>\n",
       "    </tr>\n",
       "    <tr>\n",
       "      <th>zuggtmoy</th>\n",
       "      <td>NaN</td>\n",
       "      <td>23</td>\n",
       "      <td>fiend (demon)</td>\n",
       "      <td>Large</td>\n",
       "      <td>18</td>\n",
       "      <td>304</td>\n",
       "      <td>NaN</td>\n",
       "      <td>chaotic evil</td>\n",
       "      <td>NaN</td>\n",
       "      <td>Mordenkainen's Tome of Foes</td>\n",
       "      <td>NaN</td>\n",
       "      <td>NaN</td>\n",
       "      <td>NaN</td>\n",
       "      <td>NaN</td>\n",
       "      <td>NaN</td>\n",
       "      <td>NaN</td>\n",
       "    </tr>\n",
       "  </tbody>\n",
       "</table>\n",
       "</div>"
      ],
      "text/plain": [
       "                                                                 url   cr  \\\n",
       "name                                                                        \n",
       "yuan-ti-pureblood  https://www.aidedd.org/dnd/monstres.php?vo=yua...    1   \n",
       "zaratan                                                          NaN   22   \n",
       "zariel             https://www.aidedd.org/dnd/monstres.php?vo=zariel   26   \n",
       "zombie             https://www.aidedd.org/dnd/monstres.php?vo=zombie  1/4   \n",
       "zuggtmoy                                                         NaN   23   \n",
       "\n",
       "                                 type        size  ac   hp speed  \\\n",
       "name                                                               \n",
       "yuan-ti-pureblood  humanoid (yuan-ti)      Medium  11   40   NaN   \n",
       "zaratan                     elemental  Gargantuan  21  307  swim   \n",
       "zariel                  fiend (devil)       Large  21  580   fly   \n",
       "zombie                         undead      Medium   8   22   NaN   \n",
       "zuggtmoy                fiend (demon)       Large  18  304   NaN   \n",
       "\n",
       "                          align  legendary                       source   str  \\\n",
       "name                                                                            \n",
       "yuan-ti-pureblood  neutral evil        NaN          Monster Manual (BR)  11.0   \n",
       "zaratan                 neutral        NaN  Mordenkainen's Tome of Foes   NaN   \n",
       "zariel              lawful evil  Legendary  Mordenkainen's Tome of Foes  27.0   \n",
       "zombie             neutral evil        NaN         Monster Manual (SRD)  13.0   \n",
       "zuggtmoy           chaotic evil        NaN  Mordenkainen's Tome of Foes   NaN   \n",
       "\n",
       "                    dex   con   int   wis   cha  \n",
       "name                                             \n",
       "yuan-ti-pureblood  12.0  11.0  13.0  12.0  14.0  \n",
       "zaratan             NaN   NaN   NaN   NaN   NaN  \n",
       "zariel             24.0  28.0  26.0  27.0  30.0  \n",
       "zombie              6.0  16.0   3.0   6.0   5.0  \n",
       "zuggtmoy            NaN   NaN   NaN   NaN   NaN  "
      ]
     },
     "execution_count": 3,
     "metadata": {},
     "output_type": "execute_result"
    }
   ],
   "source": [
    "monster_df = pd.read_csv('dnd_monsters.csv', index_col=0)\n",
    "monster_df.tail()"
   ]
  },
  {
   "cell_type": "code",
   "execution_count": 4,
   "metadata": {
    "hidden": true
   },
   "outputs": [],
   "source": [
    "# TODO: make the notation for the party object more explicit\n",
    "party = {6: 3, 3: 1}"
   ]
  },
  {
   "cell_type": "code",
   "execution_count": 5,
   "metadata": {
    "code_folding": [
     40,
     54,
     64,
     71
    ],
    "hidden": true
   },
   "outputs": [],
   "source": [
    "monster_df = pd.read_csv('dnd_monsters.csv', index_col=0)\n",
    "player_df = pd.read_csv('dnd_player_exp', index_col=0)\n",
    "\n",
    "cr_to_xp = {\n",
    "    '0': 10,\n",
    "    '1/8': 25,\n",
    "    '1/4': 50,\n",
    "    '1/2': 100,\n",
    "    '1': 200,\n",
    "    '2': 450,\n",
    "    '3': 700,\n",
    "    '4': 1100,\n",
    "    '5': 1800,\n",
    "    '6': 2300,\n",
    "    '7': 2900,\n",
    "    '8': 3900,\n",
    "    '9': 5000,\n",
    "    '10': 5900,\n",
    "    '11': 7200,\n",
    "    '12': 8400,\n",
    "    '13': 10000,\n",
    "    '14': 11500,\n",
    "    '15': 13000,\n",
    "    '16': 15000,\n",
    "    '17': 18000,\n",
    "    '18': 20000,\n",
    "    '19': 22000,\n",
    "    '20': 25000,\n",
    "    '21': 33000,\n",
    "    '22': 41000,\n",
    "    '23': 50000,\n",
    "    '24': 62000,\n",
    "    '25': 75000,\n",
    "    '26': 90000,\n",
    "    '27': 105000,\n",
    "    '28': 120000,\n",
    "    '29': 135000,\n",
    "    '30': 155000\n",
    "}\n",
    "\n",
    "def _quantity_multiplier(n):\n",
    "    if n <= 1:\n",
    "        return 1\n",
    "    elif n <= 2: \n",
    "        return 1.5\n",
    "    elif n <= 6:\n",
    "        return 2\n",
    "    elif n <= 10:\n",
    "        return 2.5\n",
    "    elif n <= 14:\n",
    "        return 3\n",
    "    else:\n",
    "        return 4\n",
    "\n",
    "def _monsters_xp(monsters):\n",
    "    xp = 0\n",
    "    total_monsters = 0\n",
    "    for monster in monsters:\n",
    "        monster_xp = cr_to_xp[monster_df.loc[monster]['cr']]\n",
    "        xp += monsters[monster] * monster_xp\n",
    "        total_monsters += monsters[monster]\n",
    "        \n",
    "    return _quantity_multiplier(total_monsters) * xp\n",
    "    \n",
    "def _party_xp(party, difficulty):\n",
    "    xp = 0\n",
    "    for level in party:\n",
    "        xp += party[level] * player_df.loc[level][difficulty]\n",
    "        \n",
    "    return xp\n",
    "\n",
    "def _encounter_difficulty(party, monsters):\n",
    "    mxp = _monsters_xp(monsters)\n",
    "    if mxp < _party_xp(party, 'Easy'):\n",
    "        return 0\n",
    "    elif mxp < _party_xp(party, 'Medium'):\n",
    "        return 1\n",
    "    elif mxp < _party_xp(party, 'Hard'):\n",
    "        return 2\n",
    "    elif mxp < _party_xp(party, 'Deadly'):\n",
    "        return 3\n",
    "    else:\n",
    "        return 4"
   ]
  },
  {
   "cell_type": "code",
   "execution_count": 6,
   "metadata": {
    "hidden": true
   },
   "outputs": [
    {
     "data": {
      "text/plain": [
       "2"
      ]
     },
     "execution_count": 6,
     "metadata": {},
     "output_type": "execute_result"
    }
   ],
   "source": [
    "_encounter_difficulty(party, monsters)"
   ]
  },
  {
   "cell_type": "markdown",
   "metadata": {},
   "source": [
    "# Encounter Generation"
   ]
  },
  {
   "cell_type": "code",
   "execution_count": 230,
   "metadata": {
    "code_folding": [
     0,
     1,
     74
    ]
   },
   "outputs": [],
   "source": [
    "def generate_encounter(party, difficulty='Hard'):\n",
    "    difficulty_dict = {\n",
    "        'Trivial': 0,\n",
    "        'Easy': 1,\n",
    "        'Medium': 2,\n",
    "        'Hard': 3,\n",
    "        'Deadly': 4,\n",
    "        0: 'Trivial',\n",
    "        1: 'Easy',\n",
    "        2: 'Medium',\n",
    "        3: 'Hard',\n",
    "        4: 'Deadly'\n",
    "    }\n",
    "\n",
    "    difficulty = difficulty_dict[difficulty]\n",
    "\n",
    "    def _avg_party_level(party):\n",
    "        total_levels = np.sum([party[level] * level for level in party])\n",
    "        party_members = np.sum([party[level] for level in party])\n",
    "        return total_levels / party_members\n",
    "\n",
    "    def _cr_threshold(row):\n",
    "        cr = row['cr']\n",
    "        if pd.isna(cr):\n",
    "            return False\n",
    "        if '/' in cr:\n",
    "            return True\n",
    "        elif int(cr) <= avg_level:\n",
    "            return True\n",
    "        else:\n",
    "            return False\n",
    "\n",
    "    def _max_monsters(monsters, monster):\n",
    "        while _encounter_difficulty(party, monsters) < difficulty:\n",
    "            monsters[monster] += 1\n",
    "\n",
    "        if _encounter_difficulty(party, monsters) > difficulty:\n",
    "            monsters[monster] -= 1\n",
    "\n",
    "        return monsters[monster]\n",
    "\n",
    "    def _get_available_monsters(monsters, prev_available):\n",
    "        available_monsters = []\n",
    "        for monster in prev_available:\n",
    "            if monster in monsters:\n",
    "                pass\n",
    "            cp = monsters.copy()\n",
    "            cp[monster] = 1\n",
    "            if _encounter_difficulty(party, cp) <= difficulty:\n",
    "                available_monsters.append(monster)\n",
    "        return available_monsters\n",
    "\n",
    "    avg_level = _avg_party_level(party)\n",
    "\n",
    "    monsters = dict()\n",
    "\n",
    "    available_monsters = list(monster_df.index[\n",
    "        monster_df.apply(_cr_threshold, axis=1)\n",
    "    ])\n",
    "\n",
    "    while _encounter_difficulty(party, monsters) < difficulty:\n",
    "        available_monsters = _get_available_monsters(monsters, available_monsters)\n",
    "\n",
    "        monster = np.random.choice(available_monsters)\n",
    "        # TODO: determine if this is necessary:\n",
    "        # while monster in monsters:\n",
    "        #     monster = np.random.choice(available_monsters)\n",
    "        monsters[monster] = 1\n",
    "\n",
    "        max_monster_quantity = _max_monsters(monsters, monster)\n",
    "        monsters[monster] = np.random.randint(1, max_monster_quantity + 1)\n",
    "\n",
    "    return monsters\n",
    "\n",
    "def generate_all_encounters(party):\n",
    "    encounters = {\n",
    "        'Deadly': generate_encounter(party, 'Deadly'),\n",
    "        'Hard': generate_encounter(party, 'Hard'),\n",
    "        'Medium': generate_encounter(party, 'Medium'),\n",
    "        'Easy': generate_encounter(party, 'Easy')\n",
    "    }\n",
    "    return encounters"
   ]
  },
  {
   "cell_type": "code",
   "execution_count": 226,
   "metadata": {},
   "outputs": [
    {
     "name": "stdout",
     "output_type": "stream",
     "text": [
      "{'neogi-hatchling': 11, 'bone-naga': 1}\n",
      "Hard\n"
     ]
    }
   ],
   "source": [
    "generate_encounter(party)"
   ]
  },
  {
   "cell_type": "code",
   "execution_count": 8,
   "metadata": {},
   "outputs": [],
   "source": [
    "# this is broken, some of my crs are wrong\n",
    "test_encounter = {'xvart-warlock-of-raxivort': 1, 'spellcaster-mage-lvl-6': 11, 'tortle': 4, 'choker': 1, 'jackalwere': 1}"
   ]
  },
  {
   "cell_type": "code",
   "execution_count": 129,
   "metadata": {},
   "outputs": [
    {
     "data": {
      "text/plain": [
       "3"
      ]
     },
     "execution_count": 129,
     "metadata": {},
     "output_type": "execute_result"
    }
   ],
   "source": [
    "_encounter_difficulty(party, test_encounter)"
   ]
  },
  {
   "cell_type": "markdown",
   "metadata": {
    "heading_collapsed": true
   },
   "source": [
    "# Encounter placement"
   ]
  },
  {
   "cell_type": "code",
   "execution_count": 227,
   "metadata": {
    "code_folding": [
     0,
     4,
     13,
     33,
     62
    ],
    "hidden": true
   },
   "outputs": [],
   "source": [
    "def place_encounters(A, B, C, square_density=3):\n",
    "    m, n = A.shape[0], B.shape[1] # dimensions of the grid\n",
    "    D = np.zeros((square_density*m, square_density*n))\n",
    "\n",
    "    def _get_i_j(ind, n=n):\n",
    "        \"\"\"\n",
    "        Helper function to get the i, j index of a \n",
    "        square within the grid given its index in C.\n",
    "        \"\"\"\n",
    "        i = ind // n\n",
    "        j = ind % n\n",
    "        return i, j\n",
    "    \n",
    "    def _get_ind(i, j):\n",
    "        \"\"\"\n",
    "        Helper function to get the index in C given\n",
    "        a square's i, j index within the grid.\n",
    "        \"\"\"\n",
    "        return i*n + j\n",
    "    \n",
    "    short_paths = shortest_path(C)\n",
    "    longest_path = np.unravel_index(short_paths.argmax(), C.shape)\n",
    "    party_location = _get_i_j(longest_path[0], n)[::-1]\n",
    "    treasure_location = _get_i_j(longest_path[1], n)[::-1]\n",
    "    party_location = square_density * np.array(party_location) + 1\n",
    "    treasure_location = square_density * np.array(treasure_location) + 1\n",
    "\n",
    "    # TODO: implement Dijkstra's algorithm\n",
    "#     treasure_location = [(1, 1), (square_density*m-2, 1), (square_density*m-2, square_density*n-2)][np.random.choice(3)]\n",
    "\n",
    "    D[treasure_location[0], treasure_location[1]] = 4\n",
    "    D[party_location[0], party_location[1]] = -1\n",
    "\n",
    "    def _indices(A):\n",
    "        \"\"\" \n",
    "        Helper function to get all the indices of an \n",
    "        array without a double for loop.\n",
    "        \"\"\"\n",
    "        m, n = A.shape\n",
    "        x_indices = np.ravel([[i]*n for i in range(m)])\n",
    "        y_indices = np.ravel(list(range(n))*m)\n",
    "        return list(zip(x_indices, y_indices))\n",
    "\n",
    "    inds = _indices(D)\n",
    "\n",
    "    locations = [treasure_location, party_location]\n",
    "\n",
    "    for i in [1, 2, 3]:\n",
    "        valid_location = False\n",
    "        while not valid_location:\n",
    "            new_location = inds[np.random.choice(len(inds))]\n",
    "            valid_location = True\n",
    "            for existing_location in locations:\n",
    "                if np.linalg.norm(np.array(new_location) - np.array(existing_location)) < 12:\n",
    "                    valid_location = False\n",
    "                    pass\n",
    "\n",
    "        locations.append(new_location)\n",
    "        D[new_location[0], new_location[1]] = i\n",
    "        \n",
    "    return D\n",
    "\n",
    "def plot_encounters(D, square_density=3):\n",
    "    m, n = D.shape[0]/square_density, D.shape[1]/square_density\n",
    "    def _indices(A):\n",
    "        \"\"\" \n",
    "        Helper function to get all the indices of an \n",
    "        array without a double for loop.\n",
    "        \"\"\"\n",
    "        m, n = A.shape\n",
    "        x_indices = np.ravel([[i]*n for i in range(m)])\n",
    "        y_indices = np.ravel(list(range(n))*m)\n",
    "        return list(zip(x_indices, y_indices))\n",
    "    \n",
    "    color_dict = {\n",
    "        -1: 'cornflowerblue',\n",
    "        1: 'darkseagreen',\n",
    "        2: 'gold',\n",
    "        3: 'darkorange',\n",
    "        4: 'indianred'\n",
    "    }\n",
    "\n",
    "    for i, j in _indices(D):\n",
    "        if D[i, j] > 0:\n",
    "            plt.scatter((i+.5)/(square_density*m), 1 - (j+.5)/(square_density*n), marker='X', s=500*D[i, j], c=color_dict[D[i, j]])\n",
    "        elif D[i, j] == -1:\n",
    "            plt.scatter((i+.5)/(square_density*m), 1 - (j+.5)/(square_density*n), marker='v', s=500, c=color_dict[D[i, j]])\n"
   ]
  },
  {
   "cell_type": "markdown",
   "metadata": {},
   "source": [
    "# Generate Dungeon"
   ]
  },
  {
   "cell_type": "code",
   "execution_count": 228,
   "metadata": {},
   "outputs": [],
   "source": [
    "def generate_dungeon(m=10, n=10, p_wall=0.3, square_density=3):\n",
    "    # start = time()\n",
    "    A, B, C = dungeon_map(m, n, p_wall=p_wall, max_connected_components=1)\n",
    "    # print(time() - start)\n",
    "    \n",
    "    D = place_encounters(A, B, C, square_density=square_density)\n",
    "    \n",
    "    plot_dungeon(A, B, square_density=square_density)\n",
    "    plot_encounters(D, square_density=square_density)\n",
    "    plt.show()"
   ]
  },
  {
   "cell_type": "code",
   "execution_count": 239,
   "metadata": {
    "scrolled": false
   },
   "outputs": [],
   "source": [
    "def play(party):\n",
    "    generate_dungeon(square_density=3, p_wall=0.3)\n",
    "    encounters = generate_all_encounters(party)\n",
    "    print('Party: ')\n",
    "    for key in party:\n",
    "        print(f\"\\t{party[key]} level {key}s\")\n",
    "\n",
    "    print('\\nEncounters:')\n",
    "    for key in encounters:\n",
    "        print(f\"\\t{key}:\")\n",
    "        display(encounters[key])"
   ]
  },
  {
   "cell_type": "code",
   "execution_count": 243,
   "metadata": {},
   "outputs": [
    {
     "data": {
      "image/png": "[encoded data removed]",
      "text/plain": [
       "<Figure size 720x720 with 1 Axes>"
      ]
     },
     "metadata": {},
     "output_type": "display_data"
    },
    {
     "name": "stdout",
     "output_type": "stream",
     "text": [
      "Party: \n",
      "\t5 level 5s\n",
      "\n",
      "Encounters:\n",
      "\tDeadly:\n"
     ]
    },
    {
     "data": {
      "text/plain": [
       "{'banderhobb': 3}"
      ]
     },
     "metadata": {},
     "output_type": "display_data"
    },
    {
     "name": "stdout",
     "output_type": "stream",
     "text": [
      "\tHard:\n"
     ]
    },
    {
     "data": {
      "text/plain": [
       "{'pixie': 10, 'shadow': 3, 'ogre-zombie': 1}"
      ]
     },
     "metadata": {},
     "output_type": "display_data"
    },
    {
     "name": "stdout",
     "output_type": "stream",
     "text": [
      "\tMedium:\n"
     ]
    },
    {
     "data": {
      "text/plain": [
       "{'quaggoth': 2, 'mummy': 1}"
      ]
     },
     "metadata": {},
     "output_type": "display_data"
    },
    {
     "name": "stdout",
     "output_type": "stream",
     "text": [
      "\tEasy:\n"
     ]
    },
    {
     "data": {
      "text/plain": [
       "{'giant-two-headed-goat': 1, 'violet-fungus': 4, 'yuan-ti-pureblood': 2}"
      ]
     },
     "metadata": {},
     "output_type": "display_data"
    }
   ],
   "source": [
    "# party format is {level: quantity}\n",
    "play(party={5: 5})"
   ]
  },
  {
   "cell_type": "code",
   "execution_count": null,
   "metadata": {},
   "outputs": [],
   "source": []
  },
  {
   "cell_type": "code",
   "execution_count": null,
   "metadata": {},
   "outputs": [],
   "source": []
  },
  {
   "cell_type": "code",
   "execution_count": null,
   "metadata": {},
   "outputs": [],
   "source": []
  },
  {
   "cell_type": "code",
   "execution_count": null,
   "metadata": {},
   "outputs": [],
   "source": []
  }
 ],
 "metadata": {
  "kernelspec": {
   "display_name": "Python 3",
   "language": "python",
   "name": "python3"
  },
  "language_info": {
   "codemirror_mode": {
    "name": "ipython",
    "version": 3
   },
   "file_extension": ".py",
   "mimetype": "text/x-python",
   "name": "python",
   "nbconvert_exporter": "python",
   "pygments_lexer": "ipython3",
   "version": "3.7.6"
  }
 },
 "nbformat": 4,
 "nbformat_minor": 4
}
