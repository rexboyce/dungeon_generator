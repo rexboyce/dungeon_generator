{
 "cells": [
  {
   "cell_type": "code",
   "execution_count": 1,
   "metadata": {},
   "outputs": [],
   "source": [
    "import numpy as np\n",
    "import pandas as pd\n",
    "import matplotlib.pyplot as plt\n",
    "import matplotlib.patches as patches\n",
    "from scipy.sparse.csgraph import connected_components, shortest_path\n",
    "from pprint import pprint\n",
    "\n",
    "# I know both of the below won't work haha\n",
    "# TODO: test non square dungeons\n",
    "# TODO: test square densities other than 3"
   ]
  },
  {
   "cell_type": "code",
   "execution_count": 36,
   "metadata": {
    "code_folding": [
     1,
     18,
     117,
     155,
     227,
     247,
     262,
     270,
     342,
     358,
     365,
     438,
     441,
     444,
     448,
     451,
     488,
     502,
     512,
     531,
     541,
     553
    ]
   },
   "outputs": [],
   "source": [
    "class Dungeon:\n",
    "    def __init__(self, party, m=10, n=10, p_wall=0.3, square_density=3, plot_size=20):\n",
    "        self.party = party\n",
    "        self.m = m\n",
    "        self.n = n\n",
    "        self.square_density = square_density\n",
    "        self.p_wall = p_wall\n",
    "        self.plot_size = plot_size\n",
    "        \n",
    "        self.generate_map()\n",
    "        self.place_encounters()\n",
    "        self.plot_dungeon()\n",
    "        \n",
    "        self.monster_df = pd.read_csv('dnd_monsters.csv', index_col=0)\n",
    "        self.player_df = pd.read_csv('dnd_player_exp', index_col=0)\n",
    "        \n",
    "        self.generate_encounters()\n",
    "           \n",
    "    def generate_map(self):\n",
    "        \"\"\"\n",
    "        Given dimensions m and n, generate a dungeon map.\n",
    "\n",
    "        Parameters\n",
    "        ----------\n",
    "        m, n:  int\n",
    "            Integers representing the dimensions of the dungeon.\n",
    "\n",
    "        p_wall:  float, optional\n",
    "            Float between 0 and 1, specifies the density of\n",
    "            walls within the dungeon.\n",
    "        \n",
    "\n",
    "        Returns\n",
    "        -------\n",
    "        A:  numpy array\n",
    "            Array representing the vertical walls within the \n",
    "            dungeon. If A[i, j] is 1, there is a wall at i, j.\n",
    "            A is m x n-1.\n",
    "\n",
    "        B:  numpy array\n",
    "            Array representing the horizontal walls within the \n",
    "            dungeon. If B[i, j] is 1, there is a wall at i, j.\n",
    "            B is m-1 x n.\n",
    "\n",
    "        C:  numpy array\n",
    "            Undirected adjacency matrix for the dungeon. C[i, j]\n",
    "            is 1 if the jth square is adjacent to the ith square.\n",
    "            Used to determine connected components.\n",
    "            C is m*n x m*n.\n",
    "\n",
    "        \"\"\"\n",
    "        m = self.m\n",
    "        n = self.n\n",
    "        p_wall = self.p_wall\n",
    "        \n",
    "        def _adjacency(A, B):\n",
    "            \"\"\"\n",
    "            Helper function to determine the adjacency matrix\n",
    "            C from wall matrices A and B.\n",
    "            \"\"\"\n",
    "            m, n = A.shape[0], B.shape[1]\n",
    "            C = np.zeros((m*n, m*n))  # C is m*n x m*n\n",
    "\n",
    "            def _get_i_j(ind):\n",
    "                \"\"\"\n",
    "                Helper function to get the i, j index of a \n",
    "                square within the grid given its index in C.\n",
    "                \"\"\"\n",
    "                i = ind // n\n",
    "                j = ind % n\n",
    "                return i, j\n",
    "\n",
    "            def _get_ind(i, j):\n",
    "                \"\"\"\n",
    "                Helper function to get the index in C given\n",
    "                a square's i, j index within the grid.\n",
    "                \"\"\"\n",
    "                return i*n + j\n",
    "\n",
    "            # loop over all squares in the grid\n",
    "            for ind in range(m*n):\n",
    "                i, j = _get_i_j(ind)\n",
    "\n",
    "                if i != 0:  # look up\n",
    "                    if B[i-1, j] == 0:  # check for walls\n",
    "                        C[ind, _get_ind(i-1, j)] = 1\n",
    "\n",
    "                if i != m-1:  # look down\n",
    "                    if B[i, j] == 0:  # check for walls\n",
    "                        C[ind, _get_ind(i+1, j)] = 1\n",
    "\n",
    "                if j != 0:  # look left\n",
    "                    if A[i, j-1] == 0:  # check for walls\n",
    "                        C[ind, _get_ind(i, j-1)] = 1\n",
    "\n",
    "                if j != n-1:  # look right\n",
    "                    if A[i, j] == 0:  # check for walls\n",
    "                        C[ind, _get_ind(i, j+1)] = 1\n",
    "\n",
    "            return C + np.eye(m*n)\n",
    "\n",
    "        # get random wall matrices using p_wall\n",
    "        A = np.random.choice(2, size=(m, n-1), p=[1-p_wall, p_wall])\n",
    "        B = np.random.choice(2, size=(m-1, n), p=[1-p_wall, p_wall])\n",
    "        C = _adjacency(A, B)\n",
    "\n",
    "        # loop until connected components condition is satisfied\n",
    "        # TODO: add either a maxiter or a timeout\n",
    "        while connected_components(C)[0] > 1:\n",
    "            A = np.random.choice(2, size=(m, n-1), p=[1-p_wall, p_wall])\n",
    "            B = np.random.choice(2, size=(m-1, n), p=[1-p_wall, p_wall])\n",
    "            C = _adjacency(A, B)\n",
    "        \n",
    "        self.A = A  # vertical walls\n",
    "        self.B = B  # horizontal walls\n",
    "        self.C = C  # adjacency matrix\n",
    "        \n",
    "    def place_encounters(self):\n",
    "        m = self.m\n",
    "        n = self.n\n",
    "        square_density = self.square_density\n",
    "        \n",
    "        D = np.zeros((square_density*m, square_density*n))\n",
    "\n",
    "        short_paths = shortest_path(self.C)\n",
    "        longest_path = np.unravel_index(short_paths.argmax(), self.C.shape)\n",
    "        party_location_granular = self._get_i_j(longest_path[0], n)\n",
    "        treasure_location_granular = self._get_i_j(longest_path[1], n)\n",
    "        \n",
    "        party_location = self._granular_to_dense(*party_location_granular)\n",
    "        treasure_location = self._granular_to_dense(*treasure_location_granular)\n",
    "        self.party_location = party_location\n",
    "        self.treasure_location = treasure_location\n",
    "        \n",
    "        D[treasure_location[0], treasure_location[1]] = 4\n",
    "        D[party_location[0], party_location[1]] = -1\n",
    "\n",
    "        locations = [treasure_location, party_location]\n",
    "\n",
    "        for i in [1, 2, 3]:\n",
    "            valid_location = False\n",
    "            while not valid_location:\n",
    "                new_location_granular = self._get_i_j(np.random.choice(m*n))\n",
    "                new_location = self._granular_to_dense(*new_location_granular)\n",
    "                valid_location = True\n",
    "                for existing_location in locations:\n",
    "                    if np.linalg.norm(np.array(new_location) - np.array(existing_location)) < 12:\n",
    "                        valid_location = False\n",
    "                        pass\n",
    "\n",
    "            locations.append(new_location)\n",
    "            D[new_location[0], new_location[1]] = i\n",
    "\n",
    "        self.D = D\n",
    "      \n",
    "    def plot_map(self):\n",
    "        \"\"\"\n",
    "        Given two matrices, display the corresponding dungeon.\n",
    "\n",
    "        Parameters\n",
    "        ----------\n",
    "        A:  array_like\n",
    "            Array representing the vertical walls within the \n",
    "            dungeon. If A[i, j] is 1, there is a wall at i, j.\n",
    "            A should be m x n-1.\n",
    "\n",
    "        B:  array_like\n",
    "            Array representing the horizontal walls within the \n",
    "            dungeon. If B[i, j] is 1, there is a wall at i, j.\n",
    "            B should be m-1 x n.\n",
    "\n",
    "        square_density:  int, optional\n",
    "            Density of gridlines within the dungeon. Walls\n",
    "            are typically generated on a more granular grid\n",
    "            than the gridlines to create more open spaces.\n",
    "        \"\"\"\n",
    "        A = self.A\n",
    "        B = self.B\n",
    "        m = self.m\n",
    "        n = self.n\n",
    "        square_density = self.square_density\n",
    "\n",
    "        def _vertical_plot(walls):\n",
    "            \"\"\"\n",
    "            Helper function to plot all vertical walls \n",
    "            given an array.\n",
    "            \"\"\"\n",
    "            m, n = walls.shape\n",
    "            for i, j in self._indices(walls):\n",
    "                if walls[i, j] == 1:\n",
    "                    if (i, j) not in self.obscured_squares:\n",
    "                        self.ax.vlines((j+1)/(n+1), 1-i/(m), 1-(i+1)/(m))\n",
    "                    elif (i, j+1) not in self.obscured_squares:\n",
    "                        self.ax.vlines((j+1)/(n+1), 1-i/(m), 1-(i+1)/(m))\n",
    "\n",
    "        def _horizontal_plot(walls):\n",
    "            \"\"\"\n",
    "            Helper function to plot all horizontal walls \n",
    "            given an array.\n",
    "            \"\"\"\n",
    "            m, n = walls.shape\n",
    "            for i, j in self._indices(walls):\n",
    "                if walls[i, j] == 1:\n",
    "                    if (i, j) not in self.obscured_squares:\n",
    "                        self.ax.hlines(1-(i+1)/(m+1), j/(n), (j+1)/(n))\n",
    "                    elif (i+1, j) not in self.obscured_squares:\n",
    "                        self.ax.hlines(1-(i+1)/(m+1), j/(n), (j+1)/(n))\n",
    "\n",
    "        _vertical_plot(A)\n",
    "        _horizontal_plot(B)\n",
    "\n",
    "        # plot lines around the edges\n",
    "        # TODO: make these lines more bold?\n",
    "        self.ax.vlines([0, 1], [0, 0], [1, 1])\n",
    "        self.ax.hlines([0, 1], [0, 0], [1, 1])\n",
    "\n",
    "        # display only the dungeon\n",
    "        # TODO: add a small buffer around the edges?\n",
    "        self.ax.set_xlim(0, 1)\n",
    "        self.ax.set_ylim(0, 1)\n",
    "\n",
    "        # add gridlines without displaying ticks\n",
    "        self.ax.set_yticks(np.linspace(0, 1, square_density * m + 1))\n",
    "        self.ax.set_xticks(np.linspace(0, 1, square_density * n + 1))\n",
    "        self.ax.grid()\n",
    "        self.ax.tick_params(axis='both', left=False, bottom=False, labelleft=False, labelbottom=False)\n",
    "    \n",
    "    def plot_encounters(self):\n",
    "        D = self.D\n",
    "        m = self.m\n",
    "        n = self.n\n",
    "        square_density = self.square_density\n",
    "\n",
    "        color_dict = {\n",
    "            -1: 'cornflowerblue',\n",
    "            1: 'darkseagreen',\n",
    "            2: 'gold',\n",
    "            3: 'darkorange',\n",
    "            4: 'indianred'\n",
    "        }\n",
    "        \n",
    "        for i, j in self._indices(D):\n",
    "            if D[i, j] > 0:\n",
    "                self.ax.scatter((j+.5)/(square_density*n), 1 - (i+.5)/(square_density*m), marker='X', s=self.plot_size*19*D[i, j], c=color_dict[D[i, j]])\n",
    "            elif D[i, j] == -1:\n",
    "                self.ax.scatter((j+.5)/(square_density*n), 1 - (i+.5)/(square_density*m), marker='v', s=self.plot_size*19, c=color_dict[D[i, j]])\n",
    "        \n",
    "    def plot_dungeon(self, obscure=True, n_steps=2):\n",
    "        m = self.m\n",
    "        n = self.n\n",
    "        \n",
    "        # m and n determine the figsize to help with aspect ratios\n",
    "        self.fig = plt.figure(figsize=(self.plot_size*n/(m+n), self.plot_size*m/(m+n)))\n",
    "        self.ax = self.fig.add_subplot()\n",
    "        \n",
    "        if obscure:\n",
    "            self.obscure_plot(n_steps=n_steps)\n",
    "        \n",
    "        self.plot_encounters()\n",
    "        self.plot_map()\n",
    "        plt.show()\n",
    "        \n",
    "    def generate_encounters(self):\n",
    "        self.encounters = {\n",
    "            'Deadly': self.generate_encounter('Deadly'),\n",
    "            'Hard': self.generate_encounter('Hard'),\n",
    "            'Medium': self.generate_encounter('Medium'),\n",
    "            'Easy': self.generate_encounter('Easy')\n",
    "        }\n",
    "        \n",
    "    def generate_encounter(self, difficulty):\n",
    "        party = self.party\n",
    "        difficulty_dict = {\n",
    "            'Trivial': 0,\n",
    "            'Easy': 1,\n",
    "            'Medium': 2,\n",
    "            'Hard': 3,\n",
    "            'Deadly': 4,\n",
    "            0: 'Trivial',\n",
    "            1: 'Easy',\n",
    "            2: 'Medium',\n",
    "            3: 'Hard',\n",
    "            4: 'Deadly'\n",
    "        }\n",
    "\n",
    "        difficulty = difficulty_dict[difficulty]\n",
    "\n",
    "        def _avg_party_level(party):\n",
    "            total_levels = np.sum([party[level] * level for level in party])\n",
    "            party_members = np.sum([party[level] for level in party])\n",
    "            return total_levels / party_members\n",
    "\n",
    "        def _cr_threshold(row):\n",
    "            cr = row['cr']\n",
    "            if pd.isna(cr):\n",
    "                return False\n",
    "            if '/' in cr:\n",
    "                return True\n",
    "            elif int(cr) <= avg_level:\n",
    "                return True\n",
    "            else:\n",
    "                return False\n",
    "\n",
    "        def _max_monsters(monsters, monster):\n",
    "            while self._encounter_difficulty(monsters) < difficulty:\n",
    "                monsters[monster] += 1\n",
    "\n",
    "            if self._encounter_difficulty(monsters) > difficulty:\n",
    "                monsters[monster] -= 1\n",
    "\n",
    "            return monsters[monster]\n",
    "\n",
    "        def _get_available_monsters(monsters, prev_available):\n",
    "            available_monsters = []\n",
    "            for monster in prev_available:\n",
    "                if monster in monsters:\n",
    "                    pass\n",
    "                cp = monsters.copy()\n",
    "                cp[monster] = 1\n",
    "                if self._encounter_difficulty(cp) <= difficulty:\n",
    "                    available_monsters.append(monster)\n",
    "            return available_monsters\n",
    "\n",
    "        avg_level = _avg_party_level(party)\n",
    "\n",
    "        monsters = dict()\n",
    "\n",
    "        available_monsters = list(self.monster_df.index[\n",
    "            self.monster_df.apply(_cr_threshold, axis=1)\n",
    "        ])\n",
    "\n",
    "        while self._encounter_difficulty(monsters) < difficulty:\n",
    "            available_monsters = _get_available_monsters(monsters, available_monsters)\n",
    "\n",
    "            monster = np.random.choice(available_monsters)\n",
    "            monsters[monster] = 1\n",
    "\n",
    "            max_monster_quantity = _max_monsters(monsters, monster)\n",
    "            monsters[monster] = np.random.randint(1, max_monster_quantity + 1)\n",
    "\n",
    "        return monsters\n",
    "\n",
    "    def obscure_plot(self, n_steps=2):\n",
    "        self.obscured_squares = []\n",
    "        party_location = self._dense_to_granular(*self.party_location)\n",
    "\n",
    "        for ind in range(self.m*self.n):\n",
    "            i, j = self._get_i_j(ind)\n",
    "            if self._is_visible(party_location, (i, j), n_steps=n_steps):\n",
    "                pass\n",
    "            else:\n",
    "                self.obscured_squares.append((i, j))\n",
    "                self._obscure_square(i, j)\n",
    "           \n",
    "    def play(self):\n",
    "        while not np.isclose(self.party_location, self.treasure_location).all():\n",
    "            self._step()\n",
    "        \n",
    "        print('THE END.')\n",
    "            \n",
    "    def _is_visible(self, current_location, new_location, n_steps=2):\n",
    "        adj = np.eye(self.m * self.n)\n",
    "        for i in range(n_steps):\n",
    "            adj = adj @ self.C\n",
    "        \n",
    "        return adj[self._get_ind(*current_location), self._get_ind(*new_location)] > 0\n",
    "            \n",
    "    def _step(self):\n",
    "        inp = input(\"Input your direction (wasd) or type 'encounter': \")\n",
    "        \n",
    "        if inp == 'encounter':\n",
    "            self.plot_dungeon(n_steps=3)\n",
    "            return\n",
    "\n",
    "        direction_dict = {\n",
    "            'd': 'right',\n",
    "            'a': 'left',\n",
    "            'w': 'up',\n",
    "            's': 'down',\n",
    "            'right': 'right',\n",
    "            'left': 'left',\n",
    "            'up': 'up',\n",
    "            'down': 'down'\n",
    "        }\n",
    "        while inp not in direction_dict:\n",
    "            inp = input(\"Input your direction (wasd): \")\n",
    "            \n",
    "        direction = direction_dict[inp]\n",
    "        \n",
    "        i, j = self.party_location\n",
    "        if direction == 'right':\n",
    "            assert self.D[i, j] == -1\n",
    "            if j >= self.n * self.square_density - self.square_density:\n",
    "                self._step()\n",
    "            elif self.C[self._get_ind(*self._dense_to_granular(i, j)), self._get_ind(*self._dense_to_granular(i, j + self.square_density))] == 0:\n",
    "                self._step()\n",
    "            else:\n",
    "                self.D[i, j] = 0\n",
    "                self.party_location[1] += self.square_density\n",
    "                i, j = self.party_location\n",
    "                self.D[i, j] = -1\n",
    "            \n",
    "        elif direction == 'left':\n",
    "            assert self.D[i, j] == -1\n",
    "            if j <= 0 + self.square_density:\n",
    "                self._step()\n",
    "            elif self.C[self._get_ind(*self._dense_to_granular(i, j)), self._get_ind(*self._dense_to_granular(i, j - self.square_density))] == 0:\n",
    "                self._step()\n",
    "            else:\n",
    "                self.D[i, j] = 0\n",
    "                self.party_location[1] -= self.square_density\n",
    "                i, j = self.party_location\n",
    "                self.D[i, j] = -1\n",
    "            \n",
    "        elif direction == 'up':\n",
    "            assert self.D[i, j] == -1\n",
    "            if i <= 0 + self.square_density:\n",
    "                self._step()\n",
    "            elif self.C[self._get_ind(*self._dense_to_granular(i, j)), self._get_ind(*self._dense_to_granular(i - self.square_density, j))] == 0:\n",
    "                self._step()\n",
    "            else:\n",
    "                self.D[i, j] = 0\n",
    "                self.party_location[0] -= self.square_density\n",
    "                i, j = self.party_location\n",
    "                self.D[i, j] = -1\n",
    "            \n",
    "        elif direction == 'down':\n",
    "            assert self.D[i, j] == -1\n",
    "            if i >= self.m * self.square_density - self.square_density:\n",
    "                self._step()\n",
    "            elif self.C[self._get_ind(*self._dense_to_granular(i, j)), self._get_ind(*self._dense_to_granular(i + self.square_density, j))] == 0:\n",
    "                self._step()\n",
    "            else:\n",
    "                self.D[i, j] = 0\n",
    "                self.party_location[0] += self.square_density\n",
    "                i, j = self.party_location\n",
    "                self.D[i, j] = -1\n",
    "\n",
    "        self.plot_dungeon()\n",
    "            \n",
    "    def _granular_to_dense(self, i, j):\n",
    "        return np.array((self.square_density * i + 1, self.square_density * j + 1))\n",
    "    \n",
    "    def _dense_to_granular(self, i, j):\n",
    "        return np.array(((i - 1)/self.square_density, (j - 1)/self.square_density))\n",
    "            \n",
    "    def _obscure_square(self, i, j):\n",
    "        rect = patches.Rectangle((j/self.m, 1 - (i+1)/self.n), 1/self.n, 1/self.m)\n",
    "        self.ax.add_patch(rect)\n",
    "    \n",
    "    def _encounter_difficulty(self, monsters):\n",
    "        party = self.party\n",
    "        \n",
    "        cr_to_xp = {\n",
    "            '0': 10,\n",
    "            '1/8': 25,\n",
    "            '1/4': 50,\n",
    "            '1/2': 100,\n",
    "            '1': 200,\n",
    "            '2': 450,\n",
    "            '3': 700,\n",
    "            '4': 1100,\n",
    "            '5': 1800,\n",
    "            '6': 2300,\n",
    "            '7': 2900,\n",
    "            '8': 3900,\n",
    "            '9': 5000,\n",
    "            '10': 5900,\n",
    "            '11': 7200,\n",
    "            '12': 8400,\n",
    "            '13': 10000,\n",
    "            '14': 11500,\n",
    "            '15': 13000,\n",
    "            '16': 15000,\n",
    "            '17': 18000,\n",
    "            '18': 20000,\n",
    "            '19': 22000,\n",
    "            '20': 25000,\n",
    "            '21': 33000,\n",
    "            '22': 41000,\n",
    "            '23': 50000,\n",
    "            '24': 62000,\n",
    "            '25': 75000,\n",
    "            '26': 90000,\n",
    "            '27': 105000,\n",
    "            '28': 120000,\n",
    "            '29': 135000,\n",
    "            '30': 155000\n",
    "        }\n",
    "        \n",
    "        def _quantity_multiplier(n):\n",
    "            if n <= 1:\n",
    "                return 1\n",
    "            elif n <= 2: \n",
    "                return 1.5\n",
    "            elif n <= 6:\n",
    "                return 2\n",
    "            elif n <= 10:\n",
    "                return 2.5\n",
    "            elif n <= 14:\n",
    "                return 3\n",
    "            else:\n",
    "                return 4\n",
    "        \n",
    "        def _monsters_xp(monsters):\n",
    "            xp = 0\n",
    "            total_monsters = 0\n",
    "            for monster in monsters:\n",
    "                monster_xp = cr_to_xp[self.monster_df.loc[monster]['cr']]\n",
    "                xp += monsters[monster] * monster_xp\n",
    "                total_monsters += monsters[monster]\n",
    "\n",
    "            return _quantity_multiplier(total_monsters) * xp\n",
    "        \n",
    "        def _party_xp(party, difficulty):\n",
    "            xp = 0\n",
    "            for level in party:\n",
    "                xp += party[level] * self.player_df.loc[level][difficulty]\n",
    "\n",
    "            return xp\n",
    "        \n",
    "        mxp = _monsters_xp(monsters)\n",
    "        if mxp < _party_xp(party, 'Easy'):\n",
    "            return 0\n",
    "        elif mxp < _party_xp(party, 'Medium'):\n",
    "            return 1\n",
    "        elif mxp < _party_xp(party, 'Hard'):\n",
    "            return 2\n",
    "        elif mxp < _party_xp(party, 'Deadly'):\n",
    "            return 3\n",
    "        else:\n",
    "            return 4\n",
    "    \n",
    "    def _indices(self, A):\n",
    "        \"\"\" \n",
    "        Helper function to get all the indices of an \n",
    "        array without a double for loop.\n",
    "        \"\"\"\n",
    "        m, n = A.shape\n",
    "        x_indices = np.ravel([[i]*n for i in range(m)])\n",
    "        y_indices = np.ravel(list(range(n))*m)\n",
    "        return list(zip(x_indices, y_indices))\n",
    "    \n",
    "    def _get_i_j(self, ind, n=None):\n",
    "        \"\"\"\n",
    "        Helper function to get the i, j index of a \n",
    "        square within the grid given its index in C.\n",
    "        \"\"\"\n",
    "        if n is None:\n",
    "            n = self.n\n",
    "            \n",
    "        i = ind // n\n",
    "        j = ind % n\n",
    "        return np.array((i, j))\n",
    "\n",
    "    def _get_ind(self, i, j):\n",
    "        \"\"\"\n",
    "        Helper function to get the index in C given\n",
    "        a square's i, j index within the grid.\n",
    "        \"\"\"\n",
    "        return int(i*self.n + j)"
   ]
  },
  {
   "cell_type": "code",
   "execution_count": 37,
   "metadata": {},
   "outputs": [
    {
     "data": {
      "image/png": "[encoded data removed]",
      "text/plain": [
       "<Figure size 360x360 with 1 Axes>"
      ]
     },
     "metadata": {},
     "output_type": "display_data"
    }
   ],
   "source": [
    "dungeon = Dungeon({3:5}, plot_size=10)"
   ]
  },
  {
   "cell_type": "code",
   "execution_count": 38,
   "metadata": {
    "scrolled": true
   },
   "outputs": [
    {
     "name": "stdout",
     "output_type": "stream",
     "text": [
      "Input your direction (wasd) or type 'encounter': w\n"
     ]
    },
    {
     "data": {
      "image/png": "[encoded data removed]",
      "text/plain": [
       "<Figure size 360x360 with 1 Axes>"
      ]
     },
     "metadata": {},
     "output_type": "display_data"
    },
    {
     "name": "stdout",
     "output_type": "stream",
     "text": [
      "Input your direction (wasd) or type 'encounter': a\n"
     ]
    },
    {
     "data": {
      "image/png": "[encoded data removed]",
      "text/plain": [
       "<Figure size 360x360 with 1 Axes>"
      ]
     },
     "metadata": {},
     "output_type": "display_data"
    },
    {
     "name": "stdout",
     "output_type": "stream",
     "text": [
      "Input your direction (wasd) or type 'encounter': a\n"
     ]
    },
    {
     "data": {
      "image/png": "[encoded data removed]",
      "text/plain": [
       "<Figure size 360x360 with 1 Axes>"
      ]
     },
     "metadata": {},
     "output_type": "display_data"
    },
    {
     "name": "stdout",
     "output_type": "stream",
     "text": [
      "Input your direction (wasd) or type 'encounter': s\n"
     ]
    },
    {
     "data": {
      "image/png": "[encoded data removed]",
      "text/plain": [
       "<Figure size 360x360 with 1 Axes>"
      ]
     },
     "metadata": {},
     "output_type": "display_data"
    },
    {
     "name": "stdout",
     "output_type": "stream",
     "text": [
      "Input your direction (wasd) or type 'encounter': s\n"
     ]
    },
    {
     "data": {
      "image/png": "[encoded data removed]",
      "text/plain": [
       "<Figure size 360x360 with 1 Axes>"
      ]
     },
     "metadata": {},
     "output_type": "display_data"
    },
    {
     "name": "stdout",
     "output_type": "stream",
     "text": [
      "Input your direction (wasd) or type 'encounter': s\n"
     ]
    },
    {
     "data": {
      "image/png": "[encoded data removed]",
      "text/plain": [
       "<Figure size 360x360 with 1 Axes>"
      ]
     },
     "metadata": {},
     "output_type": "display_data"
    },
    {
     "name": "stdout",
     "output_type": "stream",
     "text": [
      "Input your direction (wasd) or type 'encounter': s\n"
     ]
    },
    {
     "data": {
      "image/png": "[encoded data removed]",
      "text/plain": [
       "<Figure size 360x360 with 1 Axes>"
      ]
     },
     "metadata": {},
     "output_type": "display_data"
    },
    {
     "name": "stdout",
     "output_type": "stream",
     "text": [
      "Input your direction (wasd) or type 'encounter': s\n"
     ]
    },
    {
     "data": {
      "image/png": "[encoded data removed]",
      "text/plain": [
       "<Figure size 360x360 with 1 Axes>"
      ]
     },
     "metadata": {},
     "output_type": "display_data"
    },
    {
     "name": "stdout",
     "output_type": "stream",
     "text": [
      "Input your direction (wasd) or type 'encounter': s\n"
     ]
    },
    {
     "data": {
      "image/png": "[encoded data removed]",
      "text/plain": [
       "<Figure size 360x360 with 1 Axes>"
      ]
     },
     "metadata": {},
     "output_type": "display_data"
    },
    {
     "name": "stdout",
     "output_type": "stream",
     "text": [
      "Input your direction (wasd) or type 'encounter': \n",
      "Input your direction (wasd): s\n"
     ]
    },
    {
     "data": {
      "image/png": "[encoded data removed]",
      "text/plain": [
       "<Figure size 360x360 with 1 Axes>"
      ]
     },
     "metadata": {},
     "output_type": "display_data"
    },
    {
     "name": "stdout",
     "output_type": "stream",
     "text": [
      "Input your direction (wasd) or type 'encounter': d\n"
     ]
    },
    {
     "data": {
      "image/png": "[encoded data removed]",
      "text/plain": [
       "<Figure size 360x360 with 1 Axes>"
      ]
     },
     "metadata": {},
     "output_type": "display_data"
    },
    {
     "name": "stdout",
     "output_type": "stream",
     "text": [
      "Input your direction (wasd) or type 'encounter': d\n"
     ]
    },
    {
     "data": {
      "image/png": "[encoded data removed]",
      "text/plain": [
       "<Figure size 360x360 with 1 Axes>"
      ]
     },
     "metadata": {},
     "output_type": "display_data"
    },
    {
     "name": "stdout",
     "output_type": "stream",
     "text": [
      "Input your direction (wasd) or type 'encounter': d\n"
     ]
    },
    {
     "data": {
      "image/png": "[encoded data removed]",
      "text/plain": [
       "<Figure size 360x360 with 1 Axes>"
      ]
     },
     "metadata": {},
     "output_type": "display_data"
    },
    {
     "name": "stdout",
     "output_type": "stream",
     "text": [
      "Input your direction (wasd) or type 'encounter': d\n"
     ]
    },
    {
     "data": {
      "image/png": "[encoded data removed]",
      "text/plain": [
       "<Figure size 360x360 with 1 Axes>"
      ]
     },
     "metadata": {},
     "output_type": "display_data"
    },
    {
     "name": "stdout",
     "output_type": "stream",
     "text": [
      "Input your direction (wasd) or type 'encounter': d\n"
     ]
    },
    {
     "data": {
      "image/png": "[encoded data removed]",
      "text/plain": [
       "<Figure size 360x360 with 1 Axes>"
      ]
     },
     "metadata": {},
     "output_type": "display_data"
    },
    {
     "name": "stdout",
     "output_type": "stream",
     "text": [
      "Input your direction (wasd) or type 'encounter': d\n"
     ]
    },
    {
     "data": {
      "image/png": "[encoded data removed]",
      "text/plain": [
       "<Figure size 360x360 with 1 Axes>"
      ]
     },
     "metadata": {},
     "output_type": "display_data"
    },
    {
     "name": "stdout",
     "output_type": "stream",
     "text": [
      "Input your direction (wasd) or type 'encounter': d\n"
     ]
    },
    {
     "data": {
      "image/png": "[encoded data removed]",
      "text/plain": [
       "<Figure size 360x360 with 1 Axes>"
      ]
     },
     "metadata": {},
     "output_type": "display_data"
    },
    {
     "name": "stdout",
     "output_type": "stream",
     "text": [
      "Input your direction (wasd) or type 'encounter': encounter\n"
     ]
    },
    {
     "data": {
      "image/png": "[encoded data removed]",
      "text/plain": [
       "<Figure size 360x360 with 1 Axes>"
      ]
     },
     "metadata": {},
     "output_type": "display_data"
    },
    {
     "name": "stdout",
     "output_type": "stream",
     "text": [
      "Input your direction (wasd) or type 'encounter': s\n"
     ]
    },
    {
     "data": {
      "image/png": "[encoded data removed]",
      "text/plain": [
       "<Figure size 360x360 with 1 Axes>"
      ]
     },
     "metadata": {},
     "output_type": "display_data"
    },
    {
     "name": "stdout",
     "output_type": "stream",
     "text": [
      "Input your direction (wasd) or type 'encounter': s\n"
     ]
    },
    {
     "data": {
      "image/png": "[encoded data removed]",
      "text/plain": [
       "<Figure size 360x360 with 1 Axes>"
      ]
     },
     "metadata": {},
     "output_type": "display_data"
    },
    {
     "name": "stdout",
     "output_type": "stream",
     "text": [
      "THE END.\n"
     ]
    }
   ],
   "source": [
    "dungeon.play()"
   ]
  },
  {
   "cell_type": "raw",
   "metadata": {},
   "source": []
  }
 ],
 "metadata": {
  "kernelspec": {
   "display_name": "Python 3",
   "language": "python",
   "name": "python3"
  },
  "language_info": {
   "codemirror_mode": {
    "name": "ipython",
    "version": 3
   },
   "file_extension": ".py",
   "mimetype": "text/x-python",
   "name": "python",
   "nbconvert_exporter": "python",
   "pygments_lexer": "ipython3",
   "version": "3.7.6"
  }
 },
 "nbformat": 4,
 "nbformat_minor": 4
}
